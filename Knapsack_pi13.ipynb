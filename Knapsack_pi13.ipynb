{
  "cells": [
    {
      "cell_type": "markdown",
      "metadata": {
        "id": "jJcHtne96zK7"
      },
      "source": [
        "# OPTIMISATIONS DISCRÈTES"
      ]
    },
    {
      "cell_type": "markdown",
      "metadata": {
        "id": "sorac_Fo6uAm"
      },
      "source": [
        "## Projet – Knapsack Problem"
      ]
    },
    {
      "cell_type": "markdown",
      "metadata": {
        "id": "E1hzJ8XKynPN"
      },
      "source": [
        "### Pi-13: n = 100"
      ]
    },
    {
      "cell_type": "code",
      "execution_count": null,
      "metadata": {
        "id": "pF6JuFNnuq7a"
      },
      "outputs": [],
      "source": [
        "file_pi13_n100 = \"pi-13-100-1000-001.kna\"\n",
        "\n",
        "def extract_data(file_path):\n",
        "  with open(file_path, 'r') as f:\n",
        "      content = f.readlines()\n",
        "      profit = []\n",
        "      weight = []\n",
        "      for i in range(7, len(content)):\n",
        "        profit.append(content[i].split(\" \")[1])\n",
        "        weight.append(content[i].split(\" \")[2].split(\"\\n\")[0])\n",
        "  return profit, weight"
      ]
    },
    {
      "cell_type": "code",
      "execution_count": null,
      "metadata": {
        "colab": {
          "base_uri": "https://localhost:8080/"
        },
        "id": "JyTfAXuW56yu",
        "outputId": "e76931d2-1a4c-4a2f-a29c-834ca3a74f10"
      },
      "outputs": [],
      "source": [
        "profits_pi13_n100, weights_pi13_n100 = extract_data(file_pi13_n100)\n",
        "profits_pi13_n100 = [int(i) for i in profits_pi13_n100]\n",
        "weights_pi13_n100 = [int(i) for i in weights_pi13_n100]\n",
        "print(profits_pi13_n100)\n",
        "print(weights_pi13_n100)"
      ]
    },
    {
      "cell_type": "code",
      "execution_count": null,
      "metadata": {
        "id": "j-Who3kFy8Qm"
      },
      "outputs": [],
      "source": [
        "def extract_info(file_path):\n",
        "  with open(file_path, 'r') as f:\n",
        "      content = f.readlines()\n",
        "      content_line4 = content[3].split(\"NB_ITEMS: \")\n",
        "      nb_items = content_line4[1].split(\"\\n\")[0]\n",
        "      content_line5 = content[4].split(\"MAX_CAPACITY: \")\n",
        "      max_capacity = content_line5[1].split(\"\\n\")[0]\n",
        "      max_capacity = int(max_capacity)\n",
        "\n",
        "\n",
        "  return int(nb_items), int(max_capacity)"
      ]
    },
    {
      "cell_type": "code",
      "execution_count": null,
      "metadata": {
        "colab": {
          "base_uri": "https://localhost:8080/"
        },
        "id": "CgFVs6Ayy9R8",
        "outputId": "19dbbb40-1887-469e-acf7-4ba13ca8a44d"
      },
      "outputs": [],
      "source": [
        "nb_items_pi13_n100, max_capacity_pi13_n100 = extract_info(file_pi13_n100)\n",
        "print(nb_items_pi13_n100)\n",
        "print(max_capacity_pi13_n100)"
      ]
    },
    {
      "cell_type": "code",
      "execution_count": null,
      "metadata": {
        "id": "HJ_YtgPEhPGM"
      },
      "outputs": [],
      "source": [
        "def calculate_profit(\n",
        "    solution: str,\n",
        "    profits: list\n",
        "  ):\n",
        "\n",
        "  profit = 0\n",
        "  for i in range(len(solution)):\n",
        "    if solution[i] == \"1\":\n",
        "      profit += int(profits[i])\n",
        "\n",
        "  return profit"
      ]
    },
    {
      "cell_type": "code",
      "execution_count": null,
      "metadata": {
        "id": "529nUcWqh88L"
      },
      "outputs": [],
      "source": [
        "def calculate_weight(\n",
        "    solution: str,\n",
        "    weights: list\n",
        "  ):\n",
        "\n",
        "  weight = 0\n",
        "  for i in range(len(solution)):\n",
        "    if solution[i] == \"1\":\n",
        "      weight += int(weights[i])\n",
        "\n",
        "  return weight"
      ]
    },
    {
      "cell_type": "markdown",
      "metadata": {
        "id": "5IFd7Sx77G1A"
      },
      "source": [
        "#### Création d'une solution valide (pas forcément optimale):\n",
        "-->Ajouter des items aléatoirement dans le sac à dos jusqu'à arriver au poids maximal."
      ]
    },
    {
      "cell_type": "code",
      "execution_count": null,
      "metadata": {
        "id": "ZtXx7sj76bOk"
      },
      "outputs": [],
      "source": [
        "import random\n",
        "\n",
        "def gen_valid_solution(max_capacity, weights, nb_items):\n",
        "    sol = []  # Liste pour stocker la solution binaire\n",
        "    current_capacity = 0\n",
        "\n",
        "    for i in range(nb_items):\n",
        "        if current_capacity >= max_capacity:\n",
        "            sol.append(\"0\")  # Si on atteint la limite, on met \"0\"\n",
        "        else:\n",
        "            bit = random.choice([\"0\", \"1\"])\n",
        "            if bit == \"1\" and current_capacity + weights[i] > max_capacity:\n",
        "                bit = \"0\"  # On force un \"0\" si ajouter 1 dépasse la capacité\n",
        "            sol.append(bit)\n",
        "            if bit == \"1\":\n",
        "                current_capacity += weights[i]  # Mise à jour du poids\n",
        "\n",
        "    return \"\".join(sol)\n"
      ]
    },
    {
      "cell_type": "code",
      "execution_count": null,
      "metadata": {
        "colab": {
          "base_uri": "https://localhost:8080/"
        },
        "id": "YuQ2mQKA7eBf",
        "outputId": "6084364b-cd46-4549-fd35-e50784f2449e"
      },
      "outputs": [],
      "source": [
        "print(\"Poids à ne pas dépasser: \",max_capacity_pi13_n100)\n",
        "a_solution = gen_valid_solution(max_capacity_pi13_n100, weights_pi13_n100, nb_items_pi13_n100)\n",
        "print(\"Une solution valide est: \", a_solution)\n",
        "print(\"Le profit de cette solution est: \", calculate_profit(a_solution, profits_pi13_n100))\n",
        "print(\"Le poids total de cette solution est: \", calculate_weight(a_solution, weights_pi13_n100))"
      ]
    },
    {
      "cell_type": "markdown",
      "metadata": {
        "id": "Qb8vBP6MTj7e"
      },
      "source": [
        "#### La solution optimale avec un solver"
      ]
    },
    {
      "cell_type": "code",
      "execution_count": null,
      "metadata": {
        "colab": {
          "base_uri": "https://localhost:8080/"
        },
        "id": "xEu3ZwrmT1aC",
        "outputId": "e1e73520-1c4e-41f6-93d3-60f4efe61d79"
      },
      "outputs": [],
      "source": [
        "!pip -q install ortools"
      ]
    },
    {
      "cell_type": "code",
      "execution_count": null,
      "metadata": {
        "colab": {
          "base_uri": "https://localhost:8080/"
        },
        "id": "1WcTYs6pTivQ",
        "outputId": "bd5e5551-32c0-44af-c0d6-e1d166e5a4aa"
      },
      "outputs": [],
      "source": [
        "from ortools.linear_solver import pywraplp\n",
        "import numpy as np\n",
        "import time\n",
        "\n",
        "def solve_knapsack(profits, weights, capacity_max):\n",
        "\n",
        "    solver = pywraplp.Solver.CreateSolver('SCIP')\n",
        "    if not solver:\n",
        "        print(\"Solveur non disponible.\")\n",
        "        return None, None\n",
        "\n",
        "    n = len(profits)\n",
        "\n",
        "    x = [solver.BoolVar(f'x_{i}') for i in range(n)]\n",
        "\n",
        "    # Ajout de la contrainte de capacité\n",
        "    solver.Add(solver.Sum(weights[i] * x[i] for i in range(n)) <= capacity_max)\n",
        "\n",
        "    # Définition de la fonction objectif : Maximiser le profit total\n",
        "    solver.Maximize(solver.Sum(profits[i] * x[i] for i in range(n)))\n",
        "\n",
        "    # Résolution du problème\n",
        "    status = solver.Solve()\n",
        "\n",
        "    if status == pywraplp.Solver.OPTIMAL:\n",
        "        # Extraction de la solution optimale\n",
        "        best_solution = [int(x[i].solution_value()) for i in range(n)]\n",
        "        best_profit = solver.Objective().Value()\n",
        "        return best_solution, best_profit\n",
        "    else:\n",
        "        print(\"Aucune solution optimale trouvée.\")\n",
        "        return None, None\n",
        "time1 = time.time()\n",
        "\n",
        "best_solution, best_profit = solve_knapsack(profits_pi13_n100, weights_pi13_n100, max_capacity_pi13_n100)\n",
        "\n",
        "target_profit = best_profit\n",
        "target_weight = sum(weights_pi13_n100[i] for i in range(len(best_solution)) if best_solution[i] == 1)\n",
        "if best_solution:\n",
        "    print(\"Meilleure solution trouvée :\", best_solution)\n",
        "    print(\"Meilleur profit :\", target_profit)\n",
        "    print(\"Poids atteint :\", target_weight)\n",
        "\n",
        "\n",
        "indice = np.where(np.array(best_solution) == 1)[0]\n",
        "print(indice)\n",
        "time2 = time.time()\n",
        "temps_solver = []\n",
        "temps_exec100 = time2 - time1\n",
        "temps_solver.append(temps_exec100)\n",
        "print(\"Temps d'exécution : \", temps_exec100)"
      ]
    },
    {
      "cell_type": "code",
      "execution_count": null,
      "metadata": {
        "colab": {
          "base_uri": "https://localhost:8080/"
        },
        "id": "kjcF1EQS_qfi",
        "outputId": "45b660e4-f7c7-495a-afde-4cdc9c664800"
      },
      "outputs": [],
      "source": [
        "best_solution_str = \"\".join(map(str, best_solution))\n",
        "print(\"Meilleure solution trouvée (string):\", best_solution_str)"
      ]
    },
    {
      "cell_type": "markdown",
      "metadata": {
        "id": "bYEc_n4_diuF"
      },
      "source": [
        "#### Métaheuristique 1 - Recuit simulé"
      ]
    },
    {
      "cell_type": "code",
      "execution_count": null,
      "metadata": {
        "id": "oW4sBEIH2JJX"
      },
      "outputs": [],
      "source": [
        "#Méthode de voisinage - Transformation locale (p. 98 du cours)\n",
        "def generate_single_neighbor(current_solution: str):\n",
        "\n",
        "    \"\"\"Génère un seul voisin en modifiant un bit de la solution actuelle.\"\"\"\n",
        "\n",
        "    neighbor = list(current_solution)\n",
        "    index = random.randint(0, len(current_solution) - 1)\n",
        "    neighbor[index] = '1' if neighbor[index] == '0' else '0'\n",
        "\n",
        "    return ''.join(neighbor)"
      ]
    },
    {
      "cell_type": "code",
      "execution_count": null,
      "metadata": {
        "id": "ol8B-sPOnKuZ"
      },
      "outputs": [],
      "source": [
        "import numpy as np\n",
        "import random\n",
        "import matplotlib.pyplot as plt\n",
        "\n",
        "def simulated_annealing(\n",
        "    initial_solution: str,\n",
        "    max_capacity: int,\n",
        "    profits: list,\n",
        "    weights: list,\n",
        "    temperature: float,\n",
        "    cooling_rate: float,\n",
        "):\n",
        "    current_solution = initial_solution\n",
        "    current_profit = calculate_profit(current_solution, profits)\n",
        "    current_weight = calculate_weight(current_solution, weights)\n",
        "\n",
        "    best_solution = current_solution\n",
        "    best_profit = current_profit\n",
        "\n",
        "    iteration = 0\n",
        "\n",
        "    # Listes pour stocker les valeurs à chaque itération\n",
        "    profits_list = []\n",
        "    weights_list = []\n",
        "\n",
        "    while temperature > 1:\n",
        "        iteration += 1\n",
        "\n",
        "        # Générer un voisin valide (ne dépassant pas max_capacity)\n",
        "        while True:\n",
        "            neighbor = generate_single_neighbor(current_solution)\n",
        "            neighbor_profit = calculate_profit(neighbor, profits)\n",
        "            neighbor_weight = calculate_weight(neighbor, weights)\n",
        "\n",
        "            if neighbor_weight <= max_capacity:\n",
        "                break  # On garde ce voisin valide\n",
        "\n",
        "        delta = neighbor_profit - current_profit\n",
        "\n",
        "        if delta > 0:\n",
        "            current_solution = neighbor\n",
        "            current_profit = neighbor_profit\n",
        "            if neighbor_profit > best_profit:\n",
        "                best_solution = neighbor\n",
        "                best_profit = neighbor_profit\n",
        "        else:\n",
        "            probability = np.exp(delta / temperature)\n",
        "            if random.uniform(0, 1) < probability:\n",
        "                current_solution = neighbor\n",
        "                current_profit = neighbor_profit\n",
        "\n",
        "        # Ajouter les valeurs actuelles de profit et poids dans les listes\n",
        "        profits_list.append(current_profit)\n",
        "        weights_list.append(current_weight)\n",
        "\n",
        "        # Réduction progressive de la température\n",
        "        temperature *= cooling_rate\n",
        "\n",
        "    # Tracer l'évolution du profit et du poids\n",
        "    plt.figure(figsize=(12, 6))\n",
        "\n",
        "    # Tracer du profit au fil des itérations\n",
        "    plt.subplot(1, 2, 1)\n",
        "    plt.plot(profits_list, label='Profit', color='blue')\n",
        "    plt.title('Évolution du profit au fil des itérations')\n",
        "    plt.xlabel('Itérations')\n",
        "    plt.ylabel('Profit')\n",
        "    plt.grid(True)\n",
        "\n",
        "    # Tracer du poids au fil des itérations\n",
        "    plt.subplot(1, 2, 2)\n",
        "    plt.plot(weights_list, label='Poids', color='red')\n",
        "    plt.title('Évolution du poids au fil des itérations')\n",
        "    plt.xlabel('Itérations')\n",
        "    plt.ylabel('Poids')\n",
        "    plt.grid(True)\n",
        "\n",
        "    plt.tight_layout()\n",
        "    plt.show()\n",
        "\n",
        "    return best_solution, best_profit, iteration\n"
      ]
    },
    {
      "cell_type": "code",
      "execution_count": null,
      "metadata": {
        "colab": {
          "base_uri": "https://localhost:8080/",
          "height": 763
        },
        "id": "Ly1LpSyF9PQb",
        "outputId": "973c5919-c42e-4093-a7a2-669ffa5c61db"
      },
      "outputs": [],
      "source": [
        "# Test du recuit simulé\n",
        "\n",
        "print(\"Poids à ne pas dépasser:\", max_capacity_pi13_n100)\n",
        "initial_solution = gen_valid_solution(max_capacity_pi13_n100, weights_pi13_n100, nb_items_pi13_n100)\n",
        "\n",
        "print(\"Solution initiale choisie aléatoirement: \",initial_solution)\n",
        "print(\"Son profit actuel:\",calculate_profit(initial_solution, profits_pi13_n100))\n",
        "print(\"Son poids actuel:\",calculate_weight(initial_solution, weights_pi13_n100))\n",
        "print()\n",
        "\n",
        "temperature = 5000\n",
        "cooling_rate = 0.99\n",
        "\n",
        "best_sol, best_prof, iterations = simulated_annealing(initial_solution, max_capacity_pi13_n100, profits_pi13_n100, weights_pi13_n100, temperature, cooling_rate)\n",
        "print(\"Meilleure solution trouvée :\", best_sol)\n",
        "print(\"Meilleur profit :\", best_prof)\n",
        "print(\"Poids atteind :\", calculate_weight(best_sol, weights_pi13_n100))\n",
        "print(f\"Solution trouvée en {iterations} itérations\")\n"
      ]
    },
    {
      "cell_type": "markdown",
      "metadata": {
        "id": "wQiZHffaEaMs"
      },
      "source": [
        "#### Tests\n"
      ]
    },
    {
      "cell_type": "code",
      "execution_count": null,
      "metadata": {
        "id": "VOMJ7TrAEcS9"
      },
      "outputs": [],
      "source": [
        "import pandas as pd\n",
        "import time\n",
        "\n",
        "def test_recuit_simule(temperature, cooling_rate, max_capacity, profits, weights, nb_items):\n",
        "    results = []\n",
        "\n",
        "    # Générer une solution initiale valide\n",
        "    initial_solution = gen_valid_solution(max_capacity, weights, nb_items)\n",
        "    initial_profit = calculate_profit(initial_solution, profits)\n",
        "    initial_weight = calculate_weight(initial_solution, weights)\n",
        "\n",
        "    # Démarrer le chronomètre\n",
        "    start_time = time.time()\n",
        "\n",
        "    # Appliquer le recuit simulé\n",
        "    best_solution, best_profit, iterations = simulated_annealing(\n",
        "        initial_solution, max_capacity, profits, weights, temperature, cooling_rate\n",
        "    )\n",
        "\n",
        "    # Arrêter le chronomètre\n",
        "    end_time = time.time()\n",
        "    execution_time = end_time - start_time  # Temps en secondes\n",
        "\n",
        "    best_weight = calculate_weight(best_solution, weights)\n",
        "    nb_objects = 0\n",
        "    for i in range(len(best_solution)):\n",
        "      if best_solution[i] == \"1\":\n",
        "        nb_objects += 1\n",
        "\n",
        "    # Enregistrement des résultats\n",
        "    results.append({\n",
        "        \"Solution initiale\": initial_solution,\n",
        "        \"Profit initial\": initial_profit,\n",
        "        \"Poids initial\": initial_weight,\n",
        "        \"Temperature\": temperature,\n",
        "        \"Cooling Rate\": cooling_rate,\n",
        "        \"Nouvelle solution\": best_solution,\n",
        "        \"Nouveau profit\": best_profit,\n",
        "        \"Nouveau Poids\": best_weight,\n",
        "        \"Nb Itérations\": iterations,\n",
        "        \"Nb objets\": nb_objects,\n",
        "        \"Temps (s)\": execution_time\n",
        "    })\n",
        "\n",
        "    # Convertir en DataFrame pandas\n",
        "    df = pd.DataFrame(results)\n",
        "\n",
        "    return df"
      ]
    },
    {
      "cell_type": "code",
      "execution_count": null,
      "metadata": {
        "colab": {
          "base_uri": "https://localhost:8080/"
        },
        "id": "qrJVG6MFETo4",
        "outputId": "5328cf2d-7274-462a-bbde-0bd32ed0541d"
      },
      "outputs": [],
      "source": [
        "temperatures = [100, 200, 500, 700, 1000, 2000, 5000, 7000, 10000]\n",
        "cooling_rates = [round(0.85 + i * 0.01, 2) for i in range(15)] # pour [0.85, 0.86, ..., 0.99]\n",
        "\n",
        "for temperature in temperatures:\n",
        "    for cooling_rate in cooling_rates:\n",
        "        print(f\"Temp {temperature}\\nCooling rate {cooling_rate}\")\n",
        "        test = test_recuit_simule(temperature, cooling_rate, max_capacity_pi13_n100, profits_pi13_n100, weights_pi13_n100, nb_items_pi13_n100)\n",
        "        test.to_csv(f\"Resultats/Temp{temperature}_CR{cooling_rate}resultats_recuit_simule{nb_items_pi13_n100}_13.csv\", index=False)\n"
      ]
    },
    {
      "cell_type": "markdown",
      "metadata": {
        "id": "y_vq_Hw4_JuM"
      },
      "source": [
        "#### Graphiques"
      ]
    },
    {
      "cell_type": "code",
      "execution_count": null,
      "metadata": {
        "id": "9DdIJGb__AIt"
      },
      "outputs": [],
      "source": [
        "import pandas as pd\n",
        "import matplotlib.pyplot as plt\n",
        "import os\n",
        "\n",
        "def extract_max_profit_from_temp(temperatures, cooling_rates):\n",
        "    max_profits = {}\n",
        "\n",
        "    for temperature in temperatures:\n",
        "        max_profit = float('-inf')\n",
        "\n",
        "        for cooling_rate in cooling_rates:\n",
        "            file_name = f\"Resultats/Temp{temperature}_CR{cooling_rate}resultats_recuit_simule{nb_items_pi13_n100}_13.csv\"\n",
        "\n",
        "            if os.path.exists(file_name):\n",
        "                df = pd.read_csv(file_name)\n",
        "                max_profit = max(max_profit, df[\"Nouveau profit\"].max())\n",
        "            else:\n",
        "                print(f\"Fichier manquant: {file_name}\")\n",
        "\n",
        "        max_profits[temperature] = max_profit\n",
        "\n",
        "    return max_profits\n"
      ]
    },
    {
      "cell_type": "code",
      "execution_count": null,
      "metadata": {
        "id": "W54BRsPpyobQ"
      },
      "outputs": [],
      "source": [
        "import pandas as pd\n",
        "import os\n",
        "\n",
        "def extract_max_profit_from_CR(temperatures, cooling_rates):\n",
        "    max_profits = {}\n",
        "\n",
        "    for cooling_rate in cooling_rates:\n",
        "        max_profit = float('-inf')\n",
        "\n",
        "        for temperature in temperatures:\n",
        "            file_name = f\"Resultats/Temp{temperature}_CR{cooling_rate}resultats_recuit_simule{nb_items_pi13_n100}_13.csv\"\n",
        "\n",
        "            if os.path.exists(file_name):\n",
        "                df = pd.read_csv(file_name)\n",
        "                current_max = df[\"Nouveau profit\"].max()\n",
        "                max_profit = max(max_profit, current_max)\n",
        "            else:\n",
        "                print(f\"Fichier manquant: {file_name}\")\n",
        "\n",
        "        max_profits[cooling_rate] = max_profit if max_profit != float('-inf') else None\n",
        "\n",
        "    return max_profits\n"
      ]
    },
    {
      "cell_type": "code",
      "execution_count": null,
      "metadata": {
        "colab": {
          "base_uri": "https://localhost:8080/"
        },
        "id": "DiM0lAIHqfef",
        "outputId": "2dbd5792-fff2-4872-aaed-dc478610e4f8"
      },
      "outputs": [],
      "source": [
        "max_profits_temp = extract_max_profit_from_temp(temperatures, cooling_rates)\n",
        "print(max_profits_temp)"
      ]
    },
    {
      "cell_type": "code",
      "execution_count": null,
      "metadata": {
        "colab": {
          "base_uri": "https://localhost:8080/"
        },
        "id": "hfytRSQDytPD",
        "outputId": "956da7f9-b829-43dc-e864-4251bdf78dda"
      },
      "outputs": [],
      "source": [
        "max_profits_CR = extract_max_profit_from_CR(temperatures, cooling_rates)\n",
        "print(max_profits_CR)"
      ]
    },
    {
      "cell_type": "code",
      "execution_count": null,
      "metadata": {
        "id": "w3f49Km_qvPB"
      },
      "outputs": [],
      "source": [
        "import pandas as pd\n",
        "import matplotlib.pyplot as plt\n",
        "import os\n",
        "\n",
        "def extract_min_weight_from_temp(temperatures, cooling_rates):\n",
        "    min_weights = {}\n",
        "\n",
        "    for temperature in temperatures:\n",
        "        min_weight = float('inf')\n",
        "\n",
        "        for cooling_rate in cooling_rates:\n",
        "            file_name = f\"Resultats/Temp{temperature}_CR{cooling_rate}resultats_recuit_simule{nb_items_pi13_n100}_13.csv\"\n",
        "\n",
        "            if os.path.exists(file_name):\n",
        "                df = pd.read_csv(file_name)\n",
        "                min_weight = min(min_weight, df[\"Nouveau Poids\"].min())\n",
        "            else:\n",
        "                print(f\"Warning: File {file_name} not found.\")\n",
        "\n",
        "        min_weights[temperature] = min_weight\n",
        "\n",
        "    return min_weights"
      ]
    },
    {
      "cell_type": "code",
      "execution_count": null,
      "metadata": {
        "id": "doZtN2UjvUNI"
      },
      "outputs": [],
      "source": [
        "def extract_min_weight_from_CR(temperatures, cooling_rates):\n",
        "    min_weights = {}\n",
        "\n",
        "    for cooling_rate in cooling_rates:\n",
        "        min_weight = float('inf')\n",
        "\n",
        "        for temperature in temperatures:\n",
        "            filename = f\"Resultats/Temp{temperature}_CR{cooling_rate}resultats_recuit_simule{nb_items_pi13_n100}_13.csv\"\n",
        "\n",
        "            if os.path.exists(filename):\n",
        "                df = pd.read_csv(filename)\n",
        "                min_weight = min(min_weight, df[\"Nouveau Poids\"].min())\n",
        "            else:\n",
        "                print(f\"Fichier manquant: {filename}\")\n",
        "\n",
        "        min_weights[cooling_rate] = min_weight\n",
        "\n",
        "    return min_weights\n"
      ]
    },
    {
      "cell_type": "code",
      "execution_count": null,
      "metadata": {
        "colab": {
          "base_uri": "https://localhost:8080/"
        },
        "id": "KiCu083LrJ5u",
        "outputId": "25ec2608-97b5-40e2-9f3e-741152c83031"
      },
      "outputs": [],
      "source": [
        "min_weights_temp = extract_min_weight_from_temp(temperatures, cooling_rates)\n",
        "print(min_weights_temp)"
      ]
    },
    {
      "cell_type": "code",
      "execution_count": null,
      "metadata": {
        "colab": {
          "base_uri": "https://localhost:8080/"
        },
        "id": "F_Gijxkivgw_",
        "outputId": "4ab23dc2-f64e-44a5-a8b9-dad3c9ba034a"
      },
      "outputs": [],
      "source": [
        "min_weights_CR = extract_min_weight_from_CR(temperatures, cooling_rates)\n",
        "print(min_weights_CR)"
      ]
    },
    {
      "cell_type": "code",
      "execution_count": null,
      "metadata": {
        "id": "Q0x6uqygsWfi"
      },
      "outputs": [],
      "source": [
        "import pandas as pd\n",
        "import matplotlib.pyplot as plt\n",
        "import os\n",
        "\n",
        "def extract_min_object_from_temp(temperatures, cooling_rates):\n",
        "    min_objects = {}\n",
        "\n",
        "    for temperature in temperatures:\n",
        "        min_object = float('inf')\n",
        "\n",
        "        for cooling_rate in cooling_rates:\n",
        "            file_name = f\"Resultats/Temp{temperature}_CR{cooling_rate}resultats_recuit_simule100_13.csv\"\n",
        "\n",
        "            if os.path.exists(file_name):\n",
        "                df = pd.read_csv(file_name)\n",
        "                min_object = min(min_object, df[\"Nb objets\"].min())\n",
        "            else:\n",
        "                print(f\"Fichier manquant: {file_name}\")\n",
        "\n",
        "        min_objects[temperature] = min_object\n",
        "\n",
        "    return min_objects"
      ]
    },
    {
      "cell_type": "code",
      "execution_count": null,
      "metadata": {
        "id": "QREyoZ_KwXPx"
      },
      "outputs": [],
      "source": [
        "import pandas as pd\n",
        "import os\n",
        "\n",
        "def extract_min_object_from_CR(temperatures, cooling_rates):\n",
        "    min_objects = {}\n",
        "\n",
        "    for cooling_rate in cooling_rates:\n",
        "        min_object = float('inf')\n",
        "\n",
        "        for temperature in temperatures:\n",
        "            file_name = f\"Resultats/Temp{temperature}_CR{cooling_rate}resultats_recuit_simule100_13.csv\"\n",
        "\n",
        "            if os.path.exists(file_name):\n",
        "                df = pd.read_csv(file_name)\n",
        "                current_min = df[\"Nb objets\"].min()\n",
        "                min_object = min(min_object, current_min)\n",
        "            else:\n",
        "                print(f\"Fichier manquant: {file_name}\")\n",
        "\n",
        "        if min_object != float('inf'):\n",
        "            min_objects[cooling_rate] = min_object\n",
        "        else:\n",
        "            min_objects[cooling_rate] = None\n",
        "\n",
        "    return min_objects\n"
      ]
    },
    {
      "cell_type": "code",
      "execution_count": null,
      "metadata": {
        "id": "ELW4wPt6tDqj"
      },
      "outputs": [],
      "source": [
        "import pandas as pd\n",
        "import matplotlib.pyplot as plt\n",
        "import os\n",
        "\n",
        "def extract_max_object_from_temp(temperatures, cooling_rates):\n",
        "    max_objects = {}\n",
        "\n",
        "    for temperature in temperatures:\n",
        "        max_object = float('-inf')\n",
        "\n",
        "        for cooling_rate in cooling_rates:\n",
        "            file_name = f\"Resultats/Temp{temperature}_CR{cooling_rate}resultats_recuit_simule100_13.csv\"\n",
        "\n",
        "            if os.path.exists(file_name):\n",
        "                df = pd.read_csv(file_name)\n",
        "                max_object = max(max_object, df[\"Nb objets\"].max())\n",
        "            else:\n",
        "                print(f\"Fichier manquant: {file_name}\")\n",
        "\n",
        "        max_objects[temperature] = max_object\n",
        "\n",
        "    return max_objects"
      ]
    },
    {
      "cell_type": "code",
      "execution_count": null,
      "metadata": {
        "id": "o4FVCINCwZ17"
      },
      "outputs": [],
      "source": [
        "import pandas as pd\n",
        "import os\n",
        "\n",
        "def extract_max_object_from_CR(temperatures, cooling_rates):\n",
        "    max_objects = {}\n",
        "\n",
        "    for cooling_rate in cooling_rates:\n",
        "        max_object = float('-inf')\n",
        "\n",
        "        for temperature in temperatures:\n",
        "            file_name = f\"Resultats/Temp{temperature}_CR{cooling_rate}resultats_recuit_simule100_13.csv\"\n",
        "\n",
        "            if os.path.exists(file_name):\n",
        "                df = pd.read_csv(file_name)\n",
        "                current_max = df[\"Nb objets\"].max()\n",
        "                max_object = max(max_object, current_max)\n",
        "            else:\n",
        "                print(f\"Fichier manquant: {file_name}\")\n",
        "\n",
        "        if max_object != float('-inf'):\n",
        "            max_objects[cooling_rate] = max_object\n",
        "        else:\n",
        "            max_objects[cooling_rate] = None\n",
        "\n",
        "    return max_objects\n"
      ]
    },
    {
      "cell_type": "code",
      "execution_count": null,
      "metadata": {
        "colab": {
          "base_uri": "https://localhost:8080/"
        },
        "id": "dZqxR58As4v4",
        "outputId": "08b00f84-95fc-47ba-db0d-3dced94d80b2"
      },
      "outputs": [],
      "source": [
        "max_objects_temp = extract_max_object_from_temp(temperatures, cooling_rates)\n",
        "print(max_objects_temp)\n",
        "min_objects_temp = extract_min_object_from_temp(temperatures, cooling_rates)\n",
        "print(min_objects_temp)"
      ]
    },
    {
      "cell_type": "code",
      "execution_count": null,
      "metadata": {
        "colab": {
          "base_uri": "https://localhost:8080/"
        },
        "id": "Ee9sWbv5wpXE",
        "outputId": "7ea873fb-f95f-4624-f233-402bbf3025de"
      },
      "outputs": [],
      "source": [
        "max_objects_CR = extract_max_object_from_CR(temperatures, cooling_rates)\n",
        "print(max_objects_CR)\n",
        "min_objects_CR = extract_min_object_from_CR(temperatures, cooling_rates)\n",
        "print(min_objects_CR)"
      ]
    },
    {
      "cell_type": "code",
      "execution_count": null,
      "metadata": {
        "id": "BQlr3x7ssut_"
      },
      "outputs": [],
      "source": [
        "import pandas as pd\n",
        "import matplotlib.pyplot as plt\n",
        "import os\n",
        "\n",
        "def extract_max_iterations_from_temp(temperatures, cooling_rates):\n",
        "    max_iterations = {}\n",
        "\n",
        "    for temperature in temperatures:\n",
        "        max_iteration = float('-inf')\n",
        "\n",
        "        for cooling_rate in cooling_rates:\n",
        "            file_name = f\"Resultats/Temp{temperature}_CR{cooling_rate}resultats_recuit_simule{nb_items_pi13_n100}_13.csv\"\n",
        "\n",
        "            if os.path.exists(file_name):\n",
        "                df = pd.read_csv(file_name)\n",
        "                max_iteration = max(max_iteration, df[\"Nb Itérations\"].max())\n",
        "            else:\n",
        "                print(f\"Fichier manquant: {file_name}\")\n",
        "\n",
        "        max_iterations[temperature] = max_iteration\n",
        "\n",
        "    return max_iterations"
      ]
    },
    {
      "cell_type": "code",
      "execution_count": null,
      "metadata": {
        "id": "fuVa43wUw9Fj"
      },
      "outputs": [],
      "source": [
        "import pandas as pd\n",
        "import os\n",
        "\n",
        "def extract_max_iterations_from_CR(temperatures, cooling_rates):\n",
        "    max_iterations = {}\n",
        "\n",
        "    for cooling_rate in cooling_rates:\n",
        "        max_iteration = float('-inf')\n",
        "\n",
        "        for temperature in temperatures:\n",
        "            file_name = f\"Resultats/Temp{temperature}_CR{cooling_rate}resultats_recuit_simule{nb_items_pi13_n100}_13.csv\"\n",
        "\n",
        "            if os.path.exists(file_name):\n",
        "                df = pd.read_csv(file_name)\n",
        "                current_max = df[\"Nb Itérations\"].max()\n",
        "                max_iteration = max(max_iteration, current_max)\n",
        "            else:\n",
        "                print(f\"Fichier manquant: {file_name}\")\n",
        "\n",
        "        if max_iteration != float('-inf'):\n",
        "            max_iterations[cooling_rate] = max_iteration\n",
        "        else:\n",
        "            max_iterations[cooling_rate] = None\n",
        "\n",
        "    return max_iterations\n"
      ]
    },
    {
      "cell_type": "code",
      "execution_count": null,
      "metadata": {
        "colab": {
          "base_uri": "https://localhost:8080/"
        },
        "id": "LqY7bCiCtiAn",
        "outputId": "9df81c13-a991-499f-eff5-7c36f643e6b8"
      },
      "outputs": [],
      "source": [
        "max_iterations_temp = extract_max_iterations_from_temp(temperatures, cooling_rates)\n",
        "print(max_iterations_temp)"
      ]
    },
    {
      "cell_type": "code",
      "execution_count": null,
      "metadata": {
        "colab": {
          "base_uri": "https://localhost:8080/"
        },
        "id": "bG0afVUyxENA",
        "outputId": "661739db-8f81-41f1-cfab-7702d035fb4e"
      },
      "outputs": [],
      "source": [
        "max_iterations_CR = extract_max_iterations_from_CR(temperatures, cooling_rates)\n",
        "print(max_iterations_CR)"
      ]
    },
    {
      "cell_type": "code",
      "execution_count": null,
      "metadata": {
        "id": "r0bSiuafuG3o"
      },
      "outputs": [],
      "source": [
        "import pandas as pd\n",
        "import matplotlib.pyplot as plt\n",
        "import os\n",
        "\n",
        "def extract_max_time_from_temp(temperatures, cooling_rates):\n",
        "    max_times = {}\n",
        "\n",
        "    for temperature in temperatures:\n",
        "        max_time = float('-inf')\n",
        "\n",
        "        for cooling_rate in cooling_rates:\n",
        "            file_name = f\"Resultats/Temp{temperature}_CR{cooling_rate}resultats_recuit_simule{nb_items_pi13_n100}_13.csv\"\n",
        "\n",
        "            if os.path.exists(file_name):\n",
        "                df = pd.read_csv(file_name)\n",
        "                max_time = max(max_time, df[\"Temps (s)\"].max())\n",
        "            else:\n",
        "                print(f\"Fichier manquant: {file_name}\")\n",
        "\n",
        "        max_times[temperature] = max_time\n",
        "\n",
        "    return max_times"
      ]
    },
    {
      "cell_type": "code",
      "execution_count": null,
      "metadata": {
        "id": "wrN5kDmdxYsZ"
      },
      "outputs": [],
      "source": [
        "import pandas as pd\n",
        "import os\n",
        "\n",
        "def extract_max_time_from_CR(temperatures, cooling_rates):\n",
        "    max_times = {}\n",
        "\n",
        "    for cooling_rate in cooling_rates:\n",
        "        max_time = float('-inf')\n",
        "\n",
        "        for temperature in temperatures:\n",
        "            file_name = f\"Resultats/Temp{temperature}_CR{cooling_rate}resultats_recuit_simule{nb_items_pi13_n100}_13.csv\"\n",
        "\n",
        "            if os.path.exists(file_name):\n",
        "                df = pd.read_csv(file_name)\n",
        "                current_max = df[\"Temps (s)\"].max()\n",
        "                max_time = max(max_time, current_max)\n",
        "            else:\n",
        "                print(f\"Fichier manquant: {file_name}\")\n",
        "\n",
        "        if max_time != float('-inf'):\n",
        "            max_times[cooling_rate] = max_time\n",
        "        else:\n",
        "            max_times[cooling_rate] = None\n",
        "\n",
        "    return max_times\n"
      ]
    },
    {
      "cell_type": "code",
      "execution_count": null,
      "metadata": {
        "colab": {
          "base_uri": "https://localhost:8080/"
        },
        "id": "D-3ly6G0uLc2",
        "outputId": "bd3385a4-c97d-4a46-c7e4-df7434c60340"
      },
      "outputs": [],
      "source": [
        "max_time_temp = extract_max_time_from_temp(temperatures, cooling_rates)\n",
        "print(max_time_temp)"
      ]
    },
    {
      "cell_type": "code",
      "execution_count": null,
      "metadata": {
        "colab": {
          "base_uri": "https://localhost:8080/"
        },
        "id": "fQSr2EtFxjU1",
        "outputId": "af8a9b98-89be-4de9-d062-8ee3891ca4a4"
      },
      "outputs": [],
      "source": [
        "max_time_CR = extract_max_time_from_CR(temperatures, cooling_rates)\n",
        "print(max_time_CR)"
      ]
    },
    {
      "cell_type": "code",
      "execution_count": null,
      "metadata": {
        "colab": {
          "base_uri": "https://localhost:8080/",
          "height": 473
        },
        "id": "rgJ17xJZrxZJ",
        "outputId": "48c26bb5-dba6-4a68-aa98-06129d757ea1"
      },
      "outputs": [],
      "source": [
        "x = temperatures\n",
        "y1 = [max_profits_temp[temp] for temp in temperatures]\n",
        "y2 = [min_weights_temp[temp] for temp in temperatures]\n",
        "\n",
        "plt.plot(x, y1, label='Meilleur profit')\n",
        "plt.plot(x, y2, label='Poids minimum')\n",
        "plt.xlabel('Température')\n",
        "plt.ylabel('Profit/Poids')\n",
        "plt.title('Profit max et poids min en fonction de la température')\n",
        "plt.legend()\n",
        "plt.grid()\n",
        "plt.show()"
      ]
    },
    {
      "cell_type": "code",
      "execution_count": null,
      "metadata": {
        "colab": {
          "base_uri": "https://localhost:8080/",
          "height": 472
        },
        "id": "4tjjGJDDyKSt",
        "outputId": "470b0f24-2109-457b-f92c-e22171ba3390"
      },
      "outputs": [],
      "source": [
        "z = cooling_rates\n",
        "z1 = [max_profits_CR[cr] for cr in cooling_rates]\n",
        "z2 = [min_weights_CR[cr] for cr in cooling_rates]\n",
        "\n",
        "plt.plot(z, z1, label='Meilleur profit')\n",
        "plt.plot(z, z2, label='Poids minimum')\n",
        "plt.xlabel('Facteur de refroidissement')\n",
        "plt.ylabel('Profit/Poids')\n",
        "plt.title('Profit max et poids min en fonction du facteur de refroidissement')\n",
        "plt.legend()\n",
        "plt.grid()\n",
        "plt.show()"
      ]
    },
    {
      "cell_type": "code",
      "execution_count": null,
      "metadata": {
        "colab": {
          "base_uri": "https://localhost:8080/",
          "height": 473
        },
        "id": "-dD5QgBQt7QL",
        "outputId": "397286c4-f5f6-4375-b166-d2f3e6f02e9f"
      },
      "outputs": [],
      "source": [
        "y3 = [min_objects_temp[temp] for temp in temperatures]\n",
        "y4 = [max_objects_temp[temp] for temp in temperatures]\n",
        "\n",
        "plt.plot(x, y3, label='Nombre d\\'objets minimum')\n",
        "plt.plot(x, y4, label='Nombre d\\'objets maximum')\n",
        "plt.title(\"Nombre d'objets max et min en fonction de la température\")\n",
        "plt.xlabel('Température')\n",
        "plt.ylabel(\"Nb d'objets min et max\")\n",
        "plt.legend()\n",
        "plt.grid()\n",
        "plt.show()"
      ]
    },
    {
      "cell_type": "code",
      "execution_count": null,
      "metadata": {
        "colab": {
          "base_uri": "https://localhost:8080/",
          "height": 472
        },
        "id": "BiDGSN8FzpZZ",
        "outputId": "d68e6911-a54c-442c-c36b-1e45c494deae"
      },
      "outputs": [],
      "source": [
        "z3 = [min_objects_CR[cr] for cr in cooling_rates]\n",
        "z4 = [max_objects_CR[cr] for cr in cooling_rates]\n",
        "\n",
        "plt.plot(z, z3, label='Nombre d\\'objets minimum')\n",
        "plt.plot(z, z4, label='Nombre d\\'objets maximum')\n",
        "plt.title(\"Nombre d'objets max et min en fonction du facteur de refroidissement\")\n",
        "plt.xlabel('Facteur de refroidissement')\n",
        "plt.ylabel(\"Nb d'objets min et max\")\n",
        "plt.legend()\n",
        "plt.grid()\n",
        "plt.show()"
      ]
    },
    {
      "cell_type": "code",
      "execution_count": null,
      "metadata": {
        "colab": {
          "base_uri": "https://localhost:8080/",
          "height": 473
        },
        "id": "hsfYbP5Rt-Gu",
        "outputId": "0a2953e2-011d-408f-881d-3c0cb5d8ab6f"
      },
      "outputs": [],
      "source": [
        "y5 = [max_iterations_temp[temp] for temp in temperatures]\n",
        "\n",
        "plt.plot(x, y5, label='Nombre d\\'itérations maximum')\n",
        "plt.title('Nombre d\\'itérations max en fonction de la température')\n",
        "plt.xlabel('Température')\n",
        "plt.ylabel('Nb Itérations')\n",
        "plt.grid()\n",
        "plt.show()"
      ]
    },
    {
      "cell_type": "code",
      "execution_count": null,
      "metadata": {
        "colab": {
          "base_uri": "https://localhost:8080/",
          "height": 472
        },
        "id": "TIuQYs5K0F9-",
        "outputId": "b9c8de7b-d558-4026-f8e1-1208cddce785"
      },
      "outputs": [],
      "source": [
        "z5 = [max_iterations_CR[cr] for cr in cooling_rates]\n",
        "\n",
        "plt.plot(z, z5, label='Nombre d\\'itérations maximum')\n",
        "plt.title('Nombre d\\'itérations max en fonction du facteur de refroidissement')\n",
        "plt.xlabel('Facteur de refroidissement')\n",
        "plt.ylabel('Nb Itérations')\n",
        "plt.grid()\n",
        "plt.show()"
      ]
    },
    {
      "cell_type": "code",
      "execution_count": null,
      "metadata": {},
      "outputs": [],
      "source": [
        "import pandas as pd\n",
        "import os\n",
        "import matplotlib.pyplot as plt\n",
        "import seaborn as sns\n",
        "import statsmodels.api as sm\n",
        "\n",
        "def collecter_donnees_recuit(temp_list, cr_list, n, fichier):\n",
        "    donnees = []\n",
        "\n",
        "    for temp in temp_list:\n",
        "        for cr in cr_list:\n",
        "            file_name = f\"Resultats/Temp{temperature}_CR{cooling_rate}resultats_recuit_simule{n}_{fichier}.csv\"\n",
        "            \n",
        "            if os.path.exists(file_name):\n",
        "                try:\n",
        "                    df = pd.read_csv(file_name)\n",
        "                    if 'Nouveau profit' in df.columns:\n",
        "                        profit = df['Nouveau profit'].iloc[0]\n",
        "                        donnees.append({\n",
        "                            \"Température\": temp,\n",
        "                            \"CR\": cr,\n",
        "                            \"Profit max\": profit\n",
        "                        })\n",
        "                    else:\n",
        "                        print(f\"'profit_final' manquant dans {file_name}\")\n",
        "                except Exception as e:\n",
        "                    print(f\"Erreur de lecture {file_name} : {e}\")\n",
        "            else:\n",
        "                print(f\"Fichier introuvable : {file_name}\")\n",
        "\n",
        "    return pd.DataFrame(donnees)\n",
        "\n",
        "data_pi12_n100 = collecter_donnees_recuit(temperatures, cooling_rates, 100, 13)\n",
        "print(data_pi12_n100)\n",
        "\n",
        "def tracer_regression_lineaire(df):\n",
        "    X = df[[\"Température\", \"CR\"]]\n",
        "    y = df[\"Profit max\"]\n",
        "\n",
        "    X = sm.add_constant(X)\n",
        "\n",
        "    # Régression linéaire\n",
        "    model = sm.OLS(y, X).fit()\n",
        "    print(model.summary())\n",
        "\n",
        "    # Extraction des coefficients\n",
        "    a = model.params[\"Température\"]\n",
        "    b = model.params[\"CR\"]\n",
        "    c = model.params[\"const\"]\n",
        "\n",
        "    print(f\"L'équation de régression linéaire est : Profit max = {a:.4f} * Température + {b:.4f} * CR + {c:.4f}\")\n",
        "\n",
        "    y_pred = model.predict(X)\n",
        "\n",
        "    plt.figure(figsize=(10, 6))\n",
        "    sns.scatterplot(data=df, x=\"Température\", y=\"Profit max\", hue=\"CR\", palette=\"viridis\", s=100)\n",
        "    sns.lineplot(x=df[\"Température\"], y=y_pred, color=\"red\", label=\"Régression linéaire (projection)\")\n",
        "    plt.title(\"Profit max en fonction de la température (CR en couleur)\")\n",
        "    plt.legend()\n",
        "    plt.grid()\n",
        "    plt.show()\n",
        "\n",
        "tracer_regression_lineaire(data_pi12_n100)\n"
      ]
    },
    {
      "cell_type": "code",
      "execution_count": null,
      "metadata": {
        "id": "Q3uODk230X4w"
      },
      "outputs": [],
      "source": [
        "import os\n",
        "import pandas as pd\n",
        "\n",
        "def find_optimal_solution(temperatures, cooling_rates, optimal_solution):\n",
        "    filenames = []\n",
        "    for temp in temperatures:\n",
        "        for cr in cooling_rates:\n",
        "            filename = f\"Resultats/Temp{temperature}_CR{cooling_rate}resultats_recuit_simule100_13.csv\"\n",
        "            if os.path.exists(filename):\n",
        "                try:\n",
        "                    df = pd.read_csv(filename)\n",
        "                    if \"Nouvelle solution\" in df.columns:\n",
        "                        if optimal_solution in df[\"Nouvelle solution\"].values:\n",
        "                            filenames.append(filename)\n",
        "                except pd.errors.ParserError:\n",
        "                    print(f\"Warning: Could not parse file {filename}. Skipping.\")\n",
        "    return filenames"
      ]
    },
    {
      "cell_type": "code",
      "execution_count": null,
      "metadata": {
        "id": "nnmVG7OW1aAl"
      },
      "outputs": [],
      "source": [
        "def find_files_with_profit_and_weight(target_profit, target_weight, dossier=\"Resultats\"):\n",
        "    filenames = []\n",
        "    for filename in os.listdir(dossier):\n",
        "        if filename.startswith(\"Temp\") and filename.endswith(\"100_13.csv\"):\n",
        "            full_path = os.path.join(dossier, filename)\n",
        "            try:\n",
        "                df = pd.read_csv(full_path)\n",
        "                if 'Nouveau profit' in df.columns and 'Nouveau Poids' in df.columns:\n",
        "                    match = (df['Nouveau profit'] == target_profit) & (df['Nouveau Poids'] == target_weight)\n",
        "                    if any(match):\n",
        "                        filenames.append(filename)\n",
        "            except pd.errors.ParserError:\n",
        "                print(f\"Fichier {filename} non retrouve.\")\n",
        "    return filenames\n"
      ]
    },
    {
      "cell_type": "code",
      "execution_count": null,
      "metadata": {
        "id": "UpaYlQyp02ef"
      },
      "outputs": [],
      "source": [
        "fichier_optimal = find_optimal_solution(temperatures, cooling_rates, best_solution_str)\n",
        "\n",
        "if len(fichier_optimal) == 0:\n",
        "    print(\"Le recuit simulé n'a pas abouti à la solution optimale en termes de choix/répartition d'objets.\")\n",
        "else:\n",
        "    for f in fichier_optimal:\n",
        "        print(f)"
      ]
    },
    {
      "cell_type": "markdown",
      "metadata": {},
      "source": [
        "A éxecuter uniquement si le recuit simulé a pu donner la solution optimale "
      ]
    },
    {
      "cell_type": "code",
      "execution_count": null,
      "metadata": {
        "colab": {
          "base_uri": "https://localhost:8080/"
        },
        "id": "R-BcF7Od10yR",
        "outputId": "813e1bb3-3145-4390-fb1e-d199473ef343"
      },
      "outputs": [],
      "source": [
        "found_files = find_files_with_profit_and_weight(target_profit, target_weight)\n",
        "for f in found_files:\n",
        "  print(f)"
      ]
    },
    {
      "cell_type": "code",
      "execution_count": null,
      "metadata": {
        "id": "vncvZPgr1_60"
      },
      "outputs": [],
      "source": [
        "def analyze_files(found_files):\n",
        "    temp_counts = {}\n",
        "    cr_counts = {}\n",
        "\n",
        "    for file in found_files:\n",
        "        try:\n",
        "            df = pd.read_csv(file)\n",
        "\n",
        "            # Extract temperature and cooling rate from the filename\n",
        "            parts = file.split(\"_\")\n",
        "            temp_str = parts[0].split(\"Temp\")[1]\n",
        "            cr_str = parts[1].split(\"CR\")[1].split(\"resultats\")[0]\n",
        "\n",
        "            temperature = int(temp_str)\n",
        "            cooling_rate = float(cr_str)\n",
        "\n",
        "            temp_counts[temperature] = temp_counts.get(temperature, 0) + 1\n",
        "            cr_counts[cooling_rate] = cr_counts.get(cooling_rate, 0) + 1\n",
        "\n",
        "        except FileNotFoundError:\n",
        "            print(f\"File not found: {file}\")\n",
        "        except (pd.errors.EmptyDataError, pd.errors.ParserError):\n",
        "            print(f\"Error reading file or empty file: {file}\")\n",
        "        except Exception as e:\n",
        "            print(f\"An unexpected error occurred with file {file}: {e}\")\n",
        "\n",
        "\n",
        "    return temp_counts, cr_counts"
      ]
    },
    {
      "cell_type": "code",
      "execution_count": null,
      "metadata": {
        "colab": {
          "base_uri": "https://localhost:8080/"
        },
        "id": "PHsHhu1C2U8y",
        "outputId": "57c360ac-ada9-4d1e-957e-d91f88febdad"
      },
      "outputs": [],
      "source": [
        "temp_dict, cr_dict = analyze_files(found_files)\n",
        "\n",
        "print(\"Temperature counts:\", temp_dict)\n",
        "print(\"Cooling rate counts:\", cr_dict)\n",
        "\n",
        "max_temps = max(temp_dict, key=temp_dict.get)\n",
        "print(\"La température optimale est:\", max_temps)\n",
        "max_crs = max(cr_dict, key=cr_dict.get)\n",
        "print(\"Le facteur de refroidissement optimal est:\", max_crs)"
      ]
    },
    {
      "cell_type": "markdown",
      "metadata": {
        "id": "VQkpTJTupieU"
      },
      "source": [
        "#### Métaheuristique 2 - Génétique"
      ]
    },
    {
      "cell_type": "code",
      "execution_count": null,
      "metadata": {
        "id": "KO8TvNdhpnzS"
      },
      "outputs": [],
      "source": [
        "def roulette_selection(population, profits):\n",
        "    # Calcul du profit total pour la population\n",
        "    fitness = [calculate_profit(sol, profits) for sol in population]\n",
        "    total_fitness = sum(fitness)\n",
        "\n",
        "    # Si la fitness totale est 0, on retourne un choix aléatoire\n",
        "    if total_fitness == 0:\n",
        "        return random.choice(population)\n",
        "\n",
        "    # Sélection d'un parent par roulette\n",
        "    pick = random.uniform(0, total_fitness)\n",
        "    current = 0\n",
        "    for i, sol in enumerate(population):\n",
        "        current += fitness[i]\n",
        "        if current > pick:\n",
        "            return sol\n",
        "    return population[-1]  # Retourne le dernier si aucune sélection avant\n"
      ]
    },
    {
      "cell_type": "code",
      "execution_count": null,
      "metadata": {
        "id": "vYWG1PNmqJxV"
      },
      "outputs": [],
      "source": [
        "def crossover(nb_items, parent1, parent2, max_capacity, weights):\n",
        "    point = random.randint(1, nb_items - 1)\n",
        "    child1 = parent1[:point] + parent2[point:]\n",
        "    child2 = parent2[:point] + parent1[point:]\n",
        "\n",
        "    # Vérification si les enfants sont valides\n",
        "    if calculate_weight(child1, weights) > max_capacity:\n",
        "        child1 = parent1  # Si l'enfant dépasse la capacité, on garde le parent\n",
        "    if calculate_weight(child2, weights) > max_capacity:\n",
        "        child2 = parent2  # Idem pour l'autre enfant\n",
        "\n",
        "    return child1, child2\n"
      ]
    },
    {
      "cell_type": "code",
      "execution_count": null,
      "metadata": {
        "id": "9X0yJn5BqT-7"
      },
      "outputs": [],
      "source": [
        "def mutate(nb_items, max_capacity, weights, solution):\n",
        "    sol_list = list(solution)\n",
        "    index = random.randint(0, nb_items - 1)\n",
        "    sol_list[index] = \"1\" if sol_list[index] == \"0\" else \"0\"\n",
        "\n",
        "    # Vérification de la validité après mutation\n",
        "    new_sol = \"\".join(sol_list)\n",
        "    if calculate_weight(new_sol, weights) <= max_capacity:\n",
        "        return new_sol  # Retourner la solution si elle respecte la capacité\n",
        "    return solution  # Si la mutation rend la solution invalide, on garde l'ancienne solution\n"
      ]
    },
    {
      "cell_type": "code",
      "execution_count": null,
      "metadata": {
        "id": "sBZ2Wa3Yqrwv"
      },
      "outputs": [],
      "source": [
        "import matplotlib.pyplot as plt\n",
        "\n",
        "def algo_genetique(\n",
        "      nb_items: int,\n",
        "      max_capacity: int,\n",
        "      weights: list,\n",
        "      profits: list,\n",
        "      nbPop: int,\n",
        "      nbGen: int,\n",
        "      probaCross: float,\n",
        "      nbBest: int\n",
        "    ):\n",
        "\n",
        "    # Initialisation de la population\n",
        "    population = [gen_valid_solution(max_capacity, weights, nb_items) for _ in range(nbPop)]\n",
        "    best_solution = max(population, key=lambda sol: calculate_profit(sol, profits))\n",
        "    best_profit = calculate_profit(best_solution, profits)\n",
        "\n",
        "    # Pour le graphique\n",
        "    evolution_profits = []\n",
        "    evolution_weights = []\n",
        "\n",
        "    for generation in range(nbGen):\n",
        "        new_population = []\n",
        "\n",
        "        # Sélection et reproduction\n",
        "        for _ in range(nbPop):\n",
        "            parent1 = roulette_selection(population, profits)\n",
        "            parent2 = roulette_selection(population, profits)\n",
        "\n",
        "            # Croisement ou mutation\n",
        "            if random.random() < probaCross:\n",
        "                child1, child2 = crossover(nb_items, parent1, parent2, max_capacity, weights)\n",
        "            else:\n",
        "                child1 = mutate(nb_items, max_capacity, weights, parent1)\n",
        "                child2 = mutate(nb_items, max_capacity, weights, parent2)\n",
        "\n",
        "            new_population.append(child1)\n",
        "            new_population.append(child2)\n",
        "\n",
        "        # Garder les meilleures solutions\n",
        "        population = sorted(new_population, key=lambda sol: calculate_profit(sol, profits), reverse=True)[:nbPop]\n",
        "\n",
        "        # Meilleure solution actuelle\n",
        "        current_best_solution = population[0]\n",
        "        current_best_profit = calculate_profit(current_best_solution, profits)\n",
        "        current_best_weight = calculate_weight(current_best_solution, weights)\n",
        "\n",
        "        # Enregistrer l’évolution\n",
        "        evolution_profits.append(current_best_profit)\n",
        "        evolution_weights.append(current_best_weight)\n",
        "\n",
        "        # Mettre à jour la meilleure globale\n",
        "        if current_best_profit > best_profit:\n",
        "            best_solution = current_best_solution\n",
        "            best_profit = current_best_profit\n",
        "\n",
        "    # Tracer l'évolution du profit et du poids\n",
        "    '''plt.figure(figsize=(12, 6))\n",
        "\n",
        "    # Tracer du profit au fil des itérations\n",
        "    plt.subplot(1, 2, 1)\n",
        "    plt.plot(evolution_profits, label='Profit', color='blue')\n",
        "    plt.title('Évolution du profit au fil des itérations')\n",
        "    plt.xlabel('Itérations')\n",
        "    plt.ylabel('Profit')\n",
        "    plt.grid(True)\n",
        "\n",
        "    # Tracer du poids au fil des itérations\n",
        "    plt.subplot(1, 2, 2)\n",
        "    plt.plot(evolution_weights, label='Poids', color='red')\n",
        "    plt.title('Évolution du poids au fil des itérations')\n",
        "    plt.xlabel('Itérations')\n",
        "    plt.ylabel('Poids')\n",
        "    plt.grid(True)\n",
        "\n",
        "    plt.tight_layout()\n",
        "    plt.show()'''\n",
        "\n",
        "    return best_solution, best_profit\n"
      ]
    },
    {
      "cell_type": "code",
      "execution_count": null,
      "metadata": {
        "colab": {
          "base_uri": "https://localhost:8080/"
        },
        "id": "d-tGXSyeq7rI",
        "outputId": "cf25a476-b5e8-4e7b-eed0-7d1e199778fb"
      },
      "outputs": [],
      "source": [
        "nbPop = 10  # Taille de la population\n",
        "nbGen = 100  # Nombre de générations\n",
        "probaCross = 0.7  # Probabilité de croisement\n",
        "nbBest = 2  # Nombre de meilleures solutions conservées\n",
        "\n",
        "best_solution, best_profit = algo_genetique(nb_items_pi13_n100, max_capacity_pi13_n100, weights_pi13_n100, profits_pi13_n100, nbPop, nbGen, probaCross, nbBest)\n",
        "print(\"Meilleure solution trouvée :\", best_solution)\n",
        "print(\"Meilleur profit :\", best_profit)\n",
        "print(\"Poids atteind :\", calculate_weight(best_solution, weights_pi13_n100))"
      ]
    },
    {
      "cell_type": "markdown",
      "metadata": {
        "id": "giGNjDYAACk6"
      },
      "source": [
        "#### Tests"
      ]
    },
    {
      "cell_type": "code",
      "execution_count": null,
      "metadata": {
        "id": "4gOrJhT0F4yz"
      },
      "outputs": [],
      "source": [
        "import pandas as pd\n",
        "import time\n",
        "import os\n",
        "\n",
        "def test_algo_genetique(nb_items, max_capacity, weights, profits, nbPop, nbGen, probaCross, nbBest):\n",
        "                    results = []\n",
        "                    \n",
        "                    # Générer une solution initiale valide\n",
        "                    initial_solution = gen_valid_solution(max_capacity, weights, nb_items)\n",
        "                    initial_profit = calculate_profit(initial_solution, profits)\n",
        "                    initial_weight = calculate_weight(initial_solution, weights)\n",
        "\n",
        "                    # Démarrer le chronomètre\n",
        "                    start_time = time.time()\n",
        "\n",
        "                    # Exécuter l'algorithme génétique\n",
        "                    best_solution, best_profit = algo_genetique(\n",
        "                        nb_items, max_capacity, weights, profits, nbPop, nbGen, probaCross, nbBest\n",
        "                    )\n",
        "\n",
        "                    # Arrêter le chronomètre\n",
        "                    end_time = time.time()\n",
        "                    execution_time = end_time - start_time  # Temps en secondes\n",
        "\n",
        "                    # Calculer le poids et le nombre d'objets de la meilleure solution\n",
        "                    best_weight = calculate_weight(best_solution, weights)\n",
        "                    nb_objects = sum(1 for i in range(len(best_solution)) if best_solution[i] == \"1\")\n",
        "\n",
        "                    # Enregistrement des résultats\n",
        "                    results.append({\n",
        "                        \"Solution initiale\": initial_solution,\n",
        "                        \"Profit initial\": initial_profit,\n",
        "                        \"Poids initial\": initial_weight,\n",
        "                        \"NbPop\": nbPop,\n",
        "                        \"NbGen\": nbGen,\n",
        "                        \"ProbaCross\": probaCross,\n",
        "                        \"NbBest\": nbBest,\n",
        "                        \"Nouvelle solution\": best_solution,\n",
        "                        \"Nouveau profit\": best_profit,\n",
        "                        \"Nouveau Poids\": best_weight,\n",
        "                        \"Nb objets\": nb_objects,\n",
        "                        \"Temps (s)\": execution_time\n",
        "                    })\n",
        "\n",
        "                    # Convertir en DataFrame et sauvegarder le fichier\n",
        "                    df = pd.DataFrame(results)\n",
        "                    return df\n",
        "                \n"
      ]
    },
    {
      "cell_type": "code",
      "execution_count": null,
      "metadata": {
        "id": "vCA5MUoFJVR7"
      },
      "outputs": [],
      "source": [
        "# Fixer un interval pour les paramètres\n",
        "\n",
        "nbPop_list = [10, 50, 70, 100]\n",
        "nbGen_list = [10, 50, 70, 100]\n",
        "probaCross_list = [0.1, 0.5, 0.9]\n",
        "nbBest_list = [2, 5]\n",
        "\n",
        "'''for nbPop in nbPop_list:\n",
        "    for nbGen in nbGen_list:\n",
        "        for probaCross in probaCross_list:\n",
        "            for nbBest in nbBest_list:\n",
        "                print(f\"NbPop {nbPop}\\nNbGen {nbGen}\\nProbaCross {probaCross}\\nNbBest {nbBest}\")\n",
        "                test = test_algo_genetique(nb_items_pi13_n100, max_capacity_pi13_n100, weights_pi13_n100, profits_pi13_n100, nbPop, nbGen, probaCross, nbBest)\n",
        "                test.to_csv(f\"Resultats/NbPop{nbPop}_NbGen{nbGen}_ProbaCross{probaCross}_NbBest{nbBest}_resultats_algo_genetique100_13.csv\", index=False)\n",
        "'''"
      ]
    },
    {
      "cell_type": "code",
      "execution_count": null,
      "metadata": {
        "id": "wsRjfJaCOGcv"
      },
      "outputs": [],
      "source": [
        "def extract_max_profit_from_probaCross(nbPop_list, nbGen_list, probaCross_list, nbBest_list):\n",
        "    max_profits = {}\n",
        "\n",
        "    for probaCross in probaCross_list:\n",
        "        max_profit = float('-inf')\n",
        "\n",
        "        for nbPop in nbPop_list:\n",
        "            for nbGen in nbGen_list:\n",
        "                for nbBest in nbBest_list:\n",
        "                    file_name = f\"Resultats/NbPop{nbPop}_NbGen{nbGen}_ProbaCross{probaCross}_NbBest{nbBest}_resultats_algo_genetique100_13.csv\"\n",
        "\n",
        "\n",
        "                    if os.path.exists(file_name):\n",
        "                        df = pd.read_csv(file_name)\n",
        "                        max_profit = max(max_profit, df[\"Nouveau profit\"].max())\n",
        "                    else:\n",
        "                        print(f\"Fichier manquant: {file_name}\")\n",
        "\n",
        "        max_profits[probaCross] = max_profit\n",
        "\n",
        "    return max_profits"
      ]
    },
    {
      "cell_type": "code",
      "execution_count": null,
      "metadata": {
        "id": "min-LuYiNun3"
      },
      "outputs": [],
      "source": [
        "def extract_min_weight_from_probaCross(nbPop_list, nbGen_list, probaCross_list, nbBest_list):\n",
        "    min_weights = {}\n",
        "\n",
        "    for probaCross in probaCross_list:\n",
        "        min_weight = float('inf')\n",
        "\n",
        "        for nbPop in nbPop_list:\n",
        "            for nbGen in nbGen_list:\n",
        "                for nbBest in nbBest_list:\n",
        "                    file_name = f\"Resultats/NbPop{nbPop}_NbGen{nbGen}_ProbaCross{probaCross}_NbBest{nbBest}_resultats_algo_genetique100_13.csv\"\n",
        "\n",
        "                    if os.path.exists(file_name):\n",
        "                        df = pd.read_csv(file_name)\n",
        "                        min_weight = min(min_weight, df[\"Nouveau Poids\"].min())\n",
        "                    else:\n",
        "                        print(f\"Fichier manquant: {file_name}\")\n",
        "\n",
        "        min_weights[probaCross] = min_weight\n",
        "\n",
        "    return min_weights\n"
      ]
    },
    {
      "cell_type": "code",
      "execution_count": null,
      "metadata": {
        "colab": {
          "base_uri": "https://localhost:8080/"
        },
        "id": "3Gr-jnsBOOM6",
        "outputId": "727d26ed-cce3-4258-9969-f9ce64a9ea28"
      },
      "outputs": [],
      "source": [
        "max_profits_probaCross = extract_max_profit_from_probaCross(nbPop_list, nbGen_list, probaCross_list, nbBest_list)\n",
        "print(max_profits_probaCross)"
      ]
    },
    {
      "cell_type": "code",
      "execution_count": null,
      "metadata": {
        "colab": {
          "base_uri": "https://localhost:8080/"
        },
        "id": "dinWBlYyOXNp",
        "outputId": "52d76ead-5eef-423e-a49c-d50576392316"
      },
      "outputs": [],
      "source": [
        "min_weights_probaCross = extract_min_weight_from_probaCross(nbPop_list, nbGen_list, probaCross_list, nbBest_list)\n",
        "print(min_weights_probaCross)"
      ]
    },
    {
      "cell_type": "code",
      "execution_count": null,
      "metadata": {
        "id": "ru1MpT3bOayF"
      },
      "outputs": [],
      "source": [
        "def extract_max_profit_from_nbGen(nbPop_list, nbGen_list, probaCross_list, nbBest_list):\n",
        "    max_profits = {}\n",
        "\n",
        "    for nbGen in nbGen_list:\n",
        "        max_profit = float('-inf')\n",
        "\n",
        "        for nbPop in nbPop_list:\n",
        "            for probaCross in probaCross_list:\n",
        "                for nbBest in nbBest_list:\n",
        "                    file_name = f\"Resultats/NbPop{nbPop}_NbGen{nbGen}_ProbaCross{probaCross}_NbBest{nbBest}_resultats_algo_genetique100_13.csv\"\n",
        "\n",
        "                    if os.path.exists(file_name):\n",
        "                        df = pd.read_csv(file_name)\n",
        "                        max_profit = max(max_profit, df[\"Nouveau profit\"].max())\n",
        "                    else:\n",
        "                        print(f\"Fichier manquant: {file_name}\")\n",
        "\n",
        "        max_profits[nbGen] = max_profit\n",
        "\n",
        "    return max_profits\n"
      ]
    },
    {
      "cell_type": "code",
      "execution_count": null,
      "metadata": {
        "id": "WheES9PTOf99"
      },
      "outputs": [],
      "source": [
        "def extract_min_weight_from_nbGen(nbPop_list, nbGen_list, probaCross_list, nbBest_list):\n",
        "    min_weights = {}\n",
        "\n",
        "    for nbGen in nbGen_list:\n",
        "        min_weight = float('inf')\n",
        "\n",
        "        for nbPop in nbPop_list:\n",
        "            for probaCross in probaCross_list:\n",
        "                for nbBest in nbBest_list:\n",
        "                    file_name = f\"Resultats/NbPop{nbPop}_NbGen{nbGen}_ProbaCross{probaCross}_NbBest{nbBest}_resultats_algo_genetique100_13.csv\"\n",
        "\n",
        "                    if os.path.exists(file_name):\n",
        "                        df = pd.read_csv(file_name)\n",
        "                        min_weight = min(min_weight, df[\"Nouveau Poids\"].min())\n",
        "                    else:\n",
        "                        print(f\"Fichier manquant: {file_name}\")\n",
        "\n",
        "        min_weights[nbGen] = min_weight\n",
        "\n",
        "    return min_weights"
      ]
    },
    {
      "cell_type": "code",
      "execution_count": null,
      "metadata": {
        "colab": {
          "base_uri": "https://localhost:8080/"
        },
        "id": "TJjjaNmGO9zf",
        "outputId": "bfc2a143-1172-4a1f-94a5-982d039ed4e9"
      },
      "outputs": [],
      "source": [
        "max_profits_nbGen = extract_max_profit_from_nbGen(nbPop_list, nbGen_list, probaCross_list, nbBest_list)\n",
        "print(max_profits_nbGen)"
      ]
    },
    {
      "cell_type": "code",
      "execution_count": null,
      "metadata": {
        "colab": {
          "base_uri": "https://localhost:8080/"
        },
        "id": "ymwgkLTXPAZH",
        "outputId": "8dac508a-a36e-494b-a73d-f04fa186be39"
      },
      "outputs": [],
      "source": [
        "min_weights_nbGen = extract_min_weight_from_nbGen(nbPop_list, nbGen_list, probaCross_list, nbBest_list)\n",
        "print(min_weights_nbGen)"
      ]
    },
    {
      "cell_type": "code",
      "execution_count": null,
      "metadata": {
        "id": "JuBnLFS9PK2Q"
      },
      "outputs": [],
      "source": [
        "def extract_max_profit_from_nbBest(nbPop_list, nbGen_list, probaCross_list, nbBest_list):\n",
        "    max_profits = {}\n",
        "\n",
        "    for nbBest in nbBest_list:\n",
        "        max_profit = float('-inf')\n",
        "\n",
        "        for nbPop in nbPop_list:\n",
        "            for nbGen in nbGen_list:\n",
        "                for probaCross in probaCross_list:\n",
        "                    file_name = f\"Resultats/NbPop{nbPop}_NbGen{nbGen}_ProbaCross{probaCross}_NbBest{nbBest}_resultats_algo_genetique100_13.csv\"\n",
        "\n",
        "                    if os.path.exists(file_name):\n",
        "                        df = pd.read_csv(file_name)\n",
        "                        max_profit = max(max_profit, df[\"Nouveau profit\"].max())\n",
        "                    else:\n",
        "                        print(f\"Fichier manquant: {file_name}\")\n",
        "\n",
        "        max_profits[nbBest] = max_profit\n",
        "\n",
        "    return max_profits"
      ]
    },
    {
      "cell_type": "code",
      "execution_count": null,
      "metadata": {
        "id": "UTbnC4k-PY3U"
      },
      "outputs": [],
      "source": [
        "def extract_min_weight_from_nbBest(nbPop_list, nbGen_list, probaCross_list, nbBest_list):\n",
        "    min_weights = {}\n",
        "\n",
        "    for nbBest in nbBest_list:\n",
        "        min_weight = float('inf')\n",
        "\n",
        "        for nbPop in nbPop_list:\n",
        "            for nbGen in nbGen_list:\n",
        "                for probaCross in probaCross_list:\n",
        "                    file_name = f\"Resultats/NbPop{nbPop}_NbGen{nbGen}_ProbaCross{probaCross}_NbBest{nbBest}_resultats_algo_genetique100_13.csv\"\n",
        "\n",
        "                    if os.path.exists(file_name):\n",
        "                        df = pd.read_csv(file_name)\n",
        "                        min_weight = min(min_weight, df[\"Nouveau Poids\"].min())\n",
        "                    else:\n",
        "                        print(f\"Fichier manquant: {file_name}\")\n",
        "\n",
        "        min_weights[nbBest] = min_weight\n",
        "\n",
        "    return min_weights"
      ]
    },
    {
      "cell_type": "code",
      "execution_count": null,
      "metadata": {
        "colab": {
          "base_uri": "https://localhost:8080/"
        },
        "id": "M73c2wpDPcOp",
        "outputId": "0a67f201-a107-4da1-d834-570993af5b8a"
      },
      "outputs": [],
      "source": [
        "max_profits_nbBest = extract_max_profit_from_nbBest(nbPop_list, nbGen_list, probaCross_list, nbBest_list)\n",
        "print(max_profits_nbBest)"
      ]
    },
    {
      "cell_type": "code",
      "execution_count": null,
      "metadata": {
        "colab": {
          "base_uri": "https://localhost:8080/"
        },
        "id": "SNQoUlYNPid7",
        "outputId": "d03f8e74-b90d-4955-b8bd-58eb9ae5a651"
      },
      "outputs": [],
      "source": [
        "min_weights_nbBest = extract_min_weight_from_nbBest(nbPop_list, nbGen_list, probaCross_list, nbBest_list)\n",
        "print(min_weights_nbBest)"
      ]
    },
    {
      "cell_type": "code",
      "execution_count": null,
      "metadata": {
        "id": "FIquJbgWPwoQ"
      },
      "outputs": [],
      "source": [
        "def extract_max_profit_from_nbPop(nbPop_list, nbGen_list, probaCross_list, nbBest_list):\n",
        "    max_profits = {}\n",
        "\n",
        "    for nbPop in nbPop_list:\n",
        "        max_profit = float('-inf')\n",
        "\n",
        "        for nbGen in nbGen_list:\n",
        "            for probaCross in probaCross_list:\n",
        "                for nbBest in nbBest_list:\n",
        "                    file_name = f\"Resultats/NbPop{nbPop}_NbGen{nbGen}_ProbaCross{probaCross}_NbBest{nbBest}_resultats_algo_genetique100_13.csv\"\n",
        "\n",
        "                    if os.path.exists(file_name):\n",
        "                        df = pd.read_csv(file_name)\n",
        "                        max_profit = max(max_profit, df[\"Nouveau profit\"].max())\n",
        "                    else:\n",
        "                        print(f\"Fichier manquant: {file_name}\")\n",
        "\n",
        "        max_profits[nbPop] = max_profit\n",
        "\n",
        "    return max_profits"
      ]
    },
    {
      "cell_type": "code",
      "execution_count": null,
      "metadata": {
        "id": "kv5n-37SP4PJ"
      },
      "outputs": [],
      "source": [
        "def extract_min_weight_from_nbPop(nbPop_list, nbGen_list, probaCross_list, nbBest_list):\n",
        "    min_weights = {}\n",
        "\n",
        "    for nbPop in nbPop_list:\n",
        "        min_weight = float('inf')\n",
        "\n",
        "        for nbGen in nbGen_list:\n",
        "            for probaCross in probaCross_list:\n",
        "                for nbBest in nbBest_list:\n",
        "                    file_name = f\"Resultats/NbPop{nbPop}_NbGen{nbGen}_ProbaCross{probaCross}_NbBest{nbBest}_resultats_algo_genetique100_13.csv\"\n",
        "\n",
        "                    if os.path.exists(file_name):\n",
        "                        df = pd.read_csv(file_name)\n",
        "                        min_weight = min(min_weight, df[\"Nouveau Poids\"].min())\n",
        "                    else:\n",
        "                        print(f\"Fichier manquant: {file_name}\")\n",
        "\n",
        "        min_weights[nbPop] = min_weight\n",
        "\n",
        "    return min_weights"
      ]
    },
    {
      "cell_type": "code",
      "execution_count": null,
      "metadata": {
        "colab": {
          "base_uri": "https://localhost:8080/"
        },
        "id": "ZniguqoAP6qt",
        "outputId": "ca9ad02d-61e3-4691-9085-1e89755d326e"
      },
      "outputs": [],
      "source": [
        "max_profits_nbPop = extract_max_profit_from_nbPop(nbPop_list, nbGen_list, probaCross_list, nbBest_list)\n",
        "print(max_profits_nbPop)"
      ]
    },
    {
      "cell_type": "code",
      "execution_count": null,
      "metadata": {
        "colab": {
          "base_uri": "https://localhost:8080/"
        },
        "id": "PAMIDliiQHq6",
        "outputId": "35f68911-702d-4b59-8889-dc8f1ed6da85"
      },
      "outputs": [],
      "source": [
        "min_weights_nbPop = extract_min_weight_from_nbPop(nbPop_list, nbGen_list, probaCross_list, nbBest_list)\n",
        "print(min_weights_nbPop)"
      ]
    },
    {
      "cell_type": "code",
      "execution_count": null,
      "metadata": {},
      "outputs": [],
      "source": [
        "y = probaCross_list\n",
        "y1 = [max_profits_probaCross[i] for i in y]\n",
        "y2 = [min_weights_probaCross[i] for i in y]\n",
        "\n",
        "plt.plot(y, y1, label='Meilleur profit')\n",
        "plt.plot(y, y2, label='Poids minimum')\n",
        "plt.xlabel('ProbaCross')\n",
        "plt.ylabel('Profit/Poids')\n",
        "plt.title('Profit max et poids min en fonction de ProbaCross')\n",
        "plt.legend()\n",
        "plt.grid()\n",
        "plt.show()"
      ]
    },
    {
      "cell_type": "code",
      "execution_count": null,
      "metadata": {},
      "outputs": [],
      "source": [
        "z = nbGen_list\n",
        "z1 = [max_profits_nbGen[i] for i in z]\n",
        "z2 = [min_weights_nbGen[i] for i in z]\n",
        "\n",
        "plt.plot(z, z1, label='Meilleur profit')\n",
        "plt.plot(z, z2, label='Poids minimum')\n",
        "plt.xlabel('NbGen')\n",
        "plt.ylabel('Profit/Poids')\n",
        "plt.title('Profit max et poids min en fonction de NbGen')\n",
        "plt.legend()\n",
        "plt.grid()\n",
        "plt.show()"
      ]
    },
    {
      "cell_type": "code",
      "execution_count": null,
      "metadata": {},
      "outputs": [],
      "source": [
        "k = nbBest_list\n",
        "k1 = [max_profits_nbBest[i] for i in k]\n",
        "k2 = [min_weights_nbBest[i] for i in k]\n",
        "\n",
        "plt.plot(k, k1, label='Meilleur profit')\n",
        "plt.plot(k, k2, label='Poids minimum')\n",
        "plt.xlabel('NbBest')\n",
        "plt.ylabel('Profit/Poids')\n",
        "plt.title('Profit max et poids min en fonction de NbBest')\n",
        "plt.legend()\n",
        "plt.grid()\n",
        "plt.show()"
      ]
    },
    {
      "cell_type": "code",
      "execution_count": null,
      "metadata": {},
      "outputs": [],
      "source": [
        "x = nbPop_list\n",
        "x1 = [max_profits_nbPop[i] for i in x]\n",
        "x2 = [min_weights_nbPop[i] for i in x]\n",
        "\n",
        "plt.plot(x, x1, label='Meilleur profit')\n",
        "plt.plot(x, x2, label='Poids minimum')\n",
        "plt.xlabel('NbPop')\n",
        "plt.ylabel('Profit/Poids')\n",
        "plt.title('Profit max et poids min en fonction de NbPop')\n",
        "plt.legend()\n",
        "plt.grid()\n",
        "plt.show()"
      ]
    },
    {
      "cell_type": "code",
      "execution_count": null,
      "metadata": {
        "id": "KCjq3vb4XByH"
      },
      "outputs": [],
      "source": [
        "def find_optimal_solution(nbPop_list, nbGen_list, probaCross_list, nbBest_list, optimal_solution):\n",
        "\n",
        "    filenames = []\n",
        "    for nbPop in nbPop_list:\n",
        "        for nbGen in nbGen_list:\n",
        "          for probaCross in probaCross_list:\n",
        "            for nbBest in nbBest_list:\n",
        "                filename = f\"Resultats/NbPop{nbPop}_NbGen{nbGen}_ProbaCross{probaCross}_NbBest{nbBest}_resultats_algo_genetique100_13.csv\"\n",
        "                if os.path.exists(filename):\n",
        "                    try:\n",
        "                        df = pd.read_csv(filename)\n",
        "                        if optimal_solution in df[\"Nouvelle solution\"].values:\n",
        "                            filenames.append(filename)\n",
        "                    except pd.errors.ParserError:\n",
        "                        print(f\"Warning: Could not parse file {filename}. Skipping.\")\n",
        "                else:\n",
        "                    print(f\"Fichier manquant: {filename}\")\n",
        "\n",
        "    return filenames\n"
      ]
    },
    {
      "cell_type": "code",
      "execution_count": null,
      "metadata": {
        "id": "84LbviW7XByH"
      },
      "outputs": [],
      "source": [
        "def find_files_with_profit_and_weight(target_profit, target_weight, dossier=\"Resultats\"):\n",
        "    filenames = []\n",
        "\n",
        "    for filename in os.listdir(dossier):\n",
        "        if filename.startswith(\"NbPop\") and filename.endswith(\".csv\"):\n",
        "            filepath = os.path.join(dossier, filename)\n",
        "            try:\n",
        "                df = pd.read_csv(filepath)\n",
        "\n",
        "                if 'Nouveau profit' in df.columns and 'Nouveau Poids' in df.columns:\n",
        "                    condition = (df['Nouveau profit'] == target_profit) & (df['Nouveau Poids'] == target_weight)\n",
        "                    if any(condition):\n",
        "                        filenames.append(filename)\n",
        "            except Exception as e:\n",
        "                print(f\"Erreur avec le fichier {filename}: {e}\")\n",
        "\n",
        "    return filenames\n"
      ]
    },
    {
      "cell_type": "code",
      "execution_count": null,
      "metadata": {
        "id": "R0LkLtE5XByH"
      },
      "outputs": [],
      "source": [
        "fichier_optimal = find_optimal_solution(nbPop_list, nbGen_list, probaCross_list, nbBest_list, best_solution_str)\n",
        "for f in fichier_optimal:\n",
        "  print(f) #aucun fichier contient la solution optimale en termes de choix d'objets"
      ]
    },
    {
      "cell_type": "markdown",
      "metadata": {},
      "source": [
        "Ne pas executer si le resultat du code precedent est nul"
      ]
    },
    {
      "cell_type": "code",
      "execution_count": null,
      "metadata": {
        "colab": {
          "base_uri": "https://localhost:8080/"
        },
        "id": "nuAAlcMTXByH",
        "outputId": "048b7188-fbd2-4be8-eabd-c2665ec76098"
      },
      "outputs": [],
      "source": [
        "print(target_profit)\n",
        "print(target_weight)\n",
        "found_files = find_files_with_profit_and_weight(target_profit, target_weight)\n",
        "for f in found_files:\n",
        "  print(f)"
      ]
    },
    {
      "cell_type": "code",
      "execution_count": null,
      "metadata": {
        "id": "aITvpNnpXByH"
      },
      "outputs": [],
      "source": [
        "import os\n",
        "import pandas as pd\n",
        "\n",
        "def analyze_files(found_files, dossier=\"Resultats\"):\n",
        "    nbPop_counts = {}\n",
        "    nbGen_counts = {}\n",
        "    probaCross_counts = {}\n",
        "    nbBest_counts = {}\n",
        "\n",
        "    for file in found_files:\n",
        "        filepath = os.path.join(dossier, file)\n",
        "        try:\n",
        "            df = pd.read_csv(filepath)\n",
        "\n",
        "            # Extraction des paramètres depuis le nom du fichier\n",
        "            parts = file.split(\"_\")\n",
        "\n",
        "            try:\n",
        "                pop_str = parts[0].replace(\"NbPop\", \"\")\n",
        "                gen_str = parts[1].replace(\"NbGen\", \"\")\n",
        "                probaCross_str = parts[2].replace(\"ProbaCross\", \"\")\n",
        "                best_str = parts[3].replace(\"NbBest\", \"\")\n",
        "\n",
        "                nbPop_counts[int(pop_str)] = nbPop_counts.get(int(pop_str), 0) + 1\n",
        "                nbGen_counts[int(gen_str)] = nbGen_counts.get(int(gen_str), 0) + 1\n",
        "                probaCross_counts[float(probaCross_str)] = probaCross_counts.get(float(probaCross_str), 0) + 1\n",
        "                nbBest_counts[int(best_str)] = nbBest_counts.get(int(best_str), 0) + 1\n",
        "\n",
        "            except (IndexError, ValueError) as e:\n",
        "                print(f\"Erreur lors de l'extraction des paramètres depuis {file} : {e}\")\n",
        "\n",
        "        except Exception as e:\n",
        "            print(f\"Erreur avec le fichier {file} : {e}\")\n",
        "\n",
        "    return nbPop_counts, nbGen_counts, probaCross_counts, nbBest_counts\n",
        "\n",
        "nbPop_dict, nbGen_dict, probaCross_dict, nbBest_dict = analyze_files(found_files)\n",
        "print(nbPop_dict)\n",
        "print(nbGen_dict)\n",
        "print(probaCross_dict)\n",
        "print(nbBest_dict)\n",
        "\n",
        "max_nbPop = max(nbPop_dict, key=nbPop_dict.get)\n",
        "print(\"Le nombre de population optimal est:\", max_nbPop)\n",
        "max_nbGen = max(nbGen_dict, key=nbGen_dict.get)\n",
        "print(\"Le nombre de génération optimal est:\", max_nbGen)\n",
        "max_probaCross = max(probaCross_dict, key=probaCross_dict.get)\n",
        "print(\"La probabilité de croisement optimale est:\", max_probaCross)\n",
        "max_nbBest = max(nbBest_dict, key=nbBest_dict.get)\n",
        "print(\"Le nombre de meilleures solutions optimal est:\", max_nbBest)"
      ]
    },
    {
      "cell_type": "markdown",
      "metadata": {
        "id": "8ZDpjQehZuME"
      },
      "source": [
        "### Pi-13: n = 1000"
      ]
    },
    {
      "cell_type": "code",
      "execution_count": null,
      "metadata": {
        "id": "dzjabMpbZ3Vq"
      },
      "outputs": [],
      "source": [
        "file_pi13_n1000 = \"pi-13-1000-1000-001.kna\"\n",
        "\n",
        "def extract_data(file_path):\n",
        "  with open(file_path, 'r') as f:\n",
        "      content = f.readlines()\n",
        "      profit = []\n",
        "      weight = []\n",
        "      for i in range(7, len(content)):\n",
        "        profit.append(content[i].split(\" \")[1])\n",
        "        weight.append(content[i].split(\" \")[2].split(\"\\n\")[0])\n",
        "  return profit, weight"
      ]
    },
    {
      "cell_type": "code",
      "execution_count": null,
      "metadata": {
        "colab": {
          "base_uri": "https://localhost:8080/"
        },
        "id": "2fxx2rxAZ3Vq",
        "outputId": "c03a687d-84e7-4f52-8b4a-07c6c6c1cd69"
      },
      "outputs": [],
      "source": [
        "profits_pi13_n1000, weights_pi13_n1000 = extract_data(file_pi13_n1000)\n",
        "profits_pi13_n1000 = [int(i) for i in profits_pi13_n1000]\n",
        "weights_pi13_n1000 = [int(i) for i in weights_pi13_n1000]\n",
        "print(profits_pi13_n1000)\n",
        "print(weights_pi13_n1000)\n",
        "print(len(profits_pi13_n1000))\n",
        "print(len(weights_pi13_n1000))"
      ]
    },
    {
      "cell_type": "code",
      "execution_count": null,
      "metadata": {
        "id": "RycFK79FZ3Vr"
      },
      "outputs": [],
      "source": [
        "def extract_info(file_path):\n",
        "  with open(file_path, 'r') as f:\n",
        "      content = f.readlines()\n",
        "      content_line4 = content[3].split(\"NB_ITEMS: \")\n",
        "      nb_items = content_line4[1].split(\"\\n\")[0]\n",
        "      content_line5 = content[4].split(\"MAX_CAPACITY: \")\n",
        "      max_capacity = content_line5[1].split(\"\\n\")[0]\n",
        "      max_capacity = int(max_capacity)\n",
        "\n",
        "  return int(nb_items), int(max_capacity)"
      ]
    },
    {
      "cell_type": "code",
      "execution_count": null,
      "metadata": {
        "colab": {
          "base_uri": "https://localhost:8080/"
        },
        "id": "EZzxmRodZ3Vr",
        "outputId": "c533a797-6b1d-4299-c706-9de345b1a8b3"
      },
      "outputs": [],
      "source": [
        "nb_items_pi13_n1000, max_capacity_pi13_n1000 = extract_info(file_pi13_n1000)\n",
        "print(nb_items_pi13_n1000)\n",
        "print(max_capacity_pi13_n1000)"
      ]
    },
    {
      "cell_type": "code",
      "execution_count": null,
      "metadata": {
        "id": "wgUOfXDKZ3Vr"
      },
      "outputs": [],
      "source": [
        "def calculate_profit(\n",
        "    solution: str,\n",
        "    profits: list\n",
        "  ):\n",
        "\n",
        "  profit = 0\n",
        "  for i in range(len(solution)):\n",
        "    if solution[i] == \"1\":\n",
        "      profit += int(profits[i])\n",
        "\n",
        "  return profit"
      ]
    },
    {
      "cell_type": "code",
      "execution_count": null,
      "metadata": {
        "id": "Y5PdUbd_Z3Vr"
      },
      "outputs": [],
      "source": [
        "def calculate_weight(\n",
        "    solution: str,\n",
        "    weights: list\n",
        "  ):\n",
        "\n",
        "  weight = 0\n",
        "  for i in range(len(solution)):\n",
        "    if solution[i] == \"1\":\n",
        "      weight += int(weights[i])\n",
        "\n",
        "  return weight"
      ]
    },
    {
      "cell_type": "markdown",
      "metadata": {
        "id": "tpKlDF6fZ3Vr"
      },
      "source": [
        "#### Création d'une solution valide (pas forcément optimale):\n",
        "-->Ajouter des items aléatoirement dans le sac à dos jusqu'à arriver au poids maximal."
      ]
    },
    {
      "cell_type": "code",
      "execution_count": null,
      "metadata": {
        "id": "ugG5AXXmZ3Vr"
      },
      "outputs": [],
      "source": [
        "import random\n",
        "\n",
        "def gen_valid_solution(max_capacity, weights, nb_items):\n",
        "    sol = []  #liste pour stocker la solution binaire\n",
        "    current_capacity = 0\n",
        "\n",
        "    for i in range(nb_items):\n",
        "        if current_capacity >= max_capacity:\n",
        "            sol.append(\"0\")  # Si on atteint la limite, on met \"0\"\n",
        "        else:\n",
        "            bit = random.choice([\"0\", \"1\"])\n",
        "            if bit == \"1\" and current_capacity + weights[i] > max_capacity:\n",
        "                bit = \"0\"  # On force un \"0\" si ajouter 1 dépasse la capacité\n",
        "            sol.append(bit)\n",
        "            if bit == \"1\":\n",
        "                current_capacity += weights[i]  # Mise à jour du poids\n",
        "\n",
        "    return \"\".join(sol)\n"
      ]
    },
    {
      "cell_type": "code",
      "execution_count": null,
      "metadata": {
        "colab": {
          "base_uri": "https://localhost:8080/"
        },
        "id": "iKmRORsyZ3Vr",
        "outputId": "bc208129-e712-4bb5-d121-cb560a0f610a"
      },
      "outputs": [],
      "source": [
        "print(\"Poids à ne pas dépasser: \",max_capacity_pi13_n1000)\n",
        "a_solution = gen_valid_solution(max_capacity_pi13_n1000, weights_pi13_n1000, nb_items_pi13_n1000)\n",
        "print(\"Une solution valide est: \", a_solution)\n",
        "print(\"Le profit de cette solution est: \", calculate_profit(a_solution, profits_pi13_n1000))\n",
        "print(\"Le poids total de cette solution est: \", calculate_weight(a_solution, weights_pi13_n1000))"
      ]
    },
    {
      "cell_type": "markdown",
      "metadata": {
        "id": "B92KKIOKc-_J"
      },
      "source": [
        "#### La solution optimale avec un solver"
      ]
    },
    {
      "cell_type": "code",
      "execution_count": null,
      "metadata": {
        "colab": {
          "base_uri": "https://localhost:8080/"
        },
        "id": "Nl6Ca0TFc-_K",
        "outputId": "768cce1f-6f5b-4a8e-e320-909245703edb"
      },
      "outputs": [],
      "source": [
        "from ortools.linear_solver import pywraplp\n",
        "import numpy as np\n",
        "import time\n",
        "\n",
        "def solve_knapsack(profits, weights, capacity_max):\n",
        "\n",
        "    solver = pywraplp.Solver.CreateSolver('SCIP')\n",
        "    if not solver:\n",
        "        print(\"Solveur non disponible.\")\n",
        "        return None, None\n",
        "\n",
        "    n = len(profits)\n",
        "\n",
        "    x = [solver.BoolVar(f'x_{i}') for i in range(n)]\n",
        "\n",
        "    # Ajout de la contrainte de capacité\n",
        "    solver.Add(solver.Sum(weights[i] * x[i] for i in range(n)) <= capacity_max)\n",
        "\n",
        "    # Définition de la fonction objectif : Maximiser le profit total\n",
        "    solver.Maximize(solver.Sum(profits[i] * x[i] for i in range(n)))\n",
        "\n",
        "    # Résolution du problème\n",
        "    status = solver.Solve()\n",
        "\n",
        "    if status == pywraplp.Solver.OPTIMAL:\n",
        "        # Extraction de la solution optimale\n",
        "        best_solution = [int(x[i].solution_value()) for i in range(n)]\n",
        "        best_profit = solver.Objective().Value()\n",
        "        return best_solution, best_profit\n",
        "    else:\n",
        "        print(\"Aucune solution optimale trouvée.\")\n",
        "        return None, None\n",
        "time1 = time.time()\n",
        "\n",
        "best_solution, best_profit = solve_knapsack(profits_pi13_n1000, weights_pi13_n1000, max_capacity_pi13_n1000)\n",
        "\n",
        "target_profit = best_profit\n",
        "target_weight = sum(weights_pi13_n1000[i] for i in range(len(best_solution)) if best_solution[i] == 1)\n",
        "if best_solution:\n",
        "    print(\"Meilleure solution trouvée :\", best_solution)\n",
        "    print(\"Meilleur profit :\", target_profit)\n",
        "    print(\"Poids atteint :\", target_weight)\n",
        "\n",
        "\n",
        "indice = np.where(np.array(best_solution) == 1)[0]\n",
        "print(indice)\n",
        "time2 = time.time()\n",
        "temps_exec1000 = time2 - time1\n",
        "temps_solver.append(temps_exec1000)\n",
        "print(\"Temps d'exécution : \", temps_exec1000)\n",
        "print(temps_solver)"
      ]
    },
    {
      "cell_type": "code",
      "execution_count": null,
      "metadata": {
        "colab": {
          "base_uri": "https://localhost:8080/"
        },
        "id": "xM8Hg9t_BWsR",
        "outputId": "8e5e06fe-7450-4301-bbcd-3b591301bf28"
      },
      "outputs": [],
      "source": [
        "best_solution_str = \"\".join(map(str, best_solution))\n",
        "print(\"Meilleure solution trouvée (string):\", best_solution_str)"
      ]
    },
    {
      "cell_type": "markdown",
      "metadata": {
        "id": "AjhhvCRBZ3Vr"
      },
      "source": [
        "#### Métaheuristique 1 - Recuit simulé"
      ]
    },
    {
      "cell_type": "code",
      "execution_count": null,
      "metadata": {
        "id": "gtah5x8uZ3Vs"
      },
      "outputs": [],
      "source": [
        "#Méthode de voisinage - Transformation locale (p. 98 du cours)\n",
        "def generate_single_neighbor(current_solution: str):\n",
        "\n",
        "    \"\"\"Génère un seul voisin en modifiant un bit de la solution actuelle.\"\"\"\n",
        "\n",
        "    neighbor = list(current_solution)\n",
        "    index = random.randint(0, len(current_solution) - 1)\n",
        "    neighbor[index] = '1' if neighbor[index] == '0' else '0'\n",
        "\n",
        "    return ''.join(neighbor)"
      ]
    },
    {
      "cell_type": "code",
      "execution_count": null,
      "metadata": {
        "id": "vSac-34YZ3Vs"
      },
      "outputs": [],
      "source": [
        "import numpy as np\n",
        "import random\n",
        "import matplotlib.pyplot as plt\n",
        "\n",
        "def simulated_annealing(\n",
        "    initial_solution: str,\n",
        "    max_capacity: int,\n",
        "    profits: list,\n",
        "    weights: list,\n",
        "    temperature: float,\n",
        "    cooling_rate: float,\n",
        "):\n",
        "    current_solution = initial_solution\n",
        "    current_profit = calculate_profit(current_solution, profits)\n",
        "    current_weight = calculate_weight(current_solution, weights)\n",
        "\n",
        "    best_solution = current_solution\n",
        "    best_profit = current_profit\n",
        "\n",
        "    iteration = 0\n",
        "\n",
        "    # Listes pour stocker les valeurs à chaque itération\n",
        "    profits_list = []\n",
        "    weights_list = []\n",
        "\n",
        "    while temperature > 1:\n",
        "        iteration += 1\n",
        "\n",
        "        # Générer un voisin valide (ne dépassant pas max_capacity)\n",
        "        while True:\n",
        "            neighbor = generate_single_neighbor(current_solution)\n",
        "            neighbor_profit = calculate_profit(neighbor, profits)\n",
        "            neighbor_weight = calculate_weight(neighbor, weights)\n",
        "\n",
        "            if neighbor_weight <= max_capacity:\n",
        "                break  # On garde ce voisin valide\n",
        "\n",
        "        delta = neighbor_profit - current_profit\n",
        "\n",
        "        if delta > 0:\n",
        "            current_solution = neighbor\n",
        "            current_profit = neighbor_profit\n",
        "            if neighbor_profit > best_profit:\n",
        "                best_solution = neighbor\n",
        "                best_profit = neighbor_profit\n",
        "        else:\n",
        "            probability = np.exp(delta / temperature)\n",
        "            if random.uniform(0, 1) < probability:\n",
        "                current_solution = neighbor\n",
        "                current_profit = neighbor_profit\n",
        "\n",
        "        # Ajouter les valeurs actuelles de profit et poids dans les listes\n",
        "        profits_list.append(current_profit)\n",
        "        weights_list.append(current_weight)\n",
        "\n",
        "        # Réduction progressive de la température\n",
        "        temperature *= cooling_rate\n",
        "\n",
        "    # Tracer l'évolution du profit et du poids\n",
        "    plt.figure(figsize=(12, 6))\n",
        "\n",
        "    # Tracer du profit au fil des itérations\n",
        "    plt.subplot(1, 2, 1)\n",
        "    plt.plot(profits_list, label='Profit', color='blue')\n",
        "    plt.title('Évolution du profit au fil des itérations')\n",
        "    plt.xlabel('Itérations')\n",
        "    plt.ylabel('Profit')\n",
        "    plt.grid(True)\n",
        "\n",
        "    # Tracer du poids au fil des itérations\n",
        "    plt.subplot(1, 2, 2)\n",
        "    plt.plot(weights_list, label='Poids', color='red')\n",
        "    plt.title('Évolution du poids au fil des itérations')\n",
        "    plt.xlabel('Itérations')\n",
        "    plt.ylabel('Poids')\n",
        "    plt.grid(True)\n",
        "\n",
        "    plt.tight_layout()\n",
        "    plt.show()\n",
        "\n",
        "    return best_solution, best_profit, iteration\n"
      ]
    },
    {
      "cell_type": "code",
      "execution_count": null,
      "metadata": {
        "colab": {
          "base_uri": "https://localhost:8080/"
        },
        "id": "dL0ebIThZ3Vs",
        "outputId": "1c7b2505-e694-46f5-c873-62676a3271f3"
      },
      "outputs": [],
      "source": [
        "# Test du recuit simulé\n",
        "\n",
        "print(\"Poids à ne pas dépasser:\", max_capacity_pi13_n1000)\n",
        "initial_solution = gen_valid_solution(max_capacity_pi13_n1000, weights_pi13_n1000, nb_items_pi13_n1000)\n",
        "\n",
        "print(\"Solution initiale choisie aléatoirement: \",initial_solution)\n",
        "print(\"Son profit actuel:\",calculate_profit(initial_solution, profits_pi13_n1000))\n",
        "print(\"Son poids actuel:\",calculate_weight(initial_solution, weights_pi13_n1000))\n",
        "print()\n",
        "\n",
        "temperature = 1000\n",
        "cooling_rate = 0.95\n",
        "\n",
        "best_sol, best_prof, iterations = simulated_annealing(initial_solution, max_capacity_pi13_n1000, profits_pi13_n1000, weights_pi13_n1000, temperature, cooling_rate)\n",
        "print(\"Meilleure solution trouvée :\", best_sol)\n",
        "print(\"Meilleur profit :\", best_prof)\n",
        "print(\"Poids atteind :\", calculate_weight(best_sol, weights_pi13_n1000))\n",
        "print(f\"Solution trouvée en {iterations} itérations\")\n"
      ]
    },
    {
      "cell_type": "markdown",
      "metadata": {
        "id": "oVoF6OXUZ3Vs"
      },
      "source": [
        "#### Tests\n"
      ]
    },
    {
      "cell_type": "code",
      "execution_count": null,
      "metadata": {
        "id": "qS6Fe9FzZ3Vs"
      },
      "outputs": [],
      "source": [
        "import pandas as pd\n",
        "import time\n",
        "\n",
        "def test_recuit_simule(temperature, cooling_rate, max_capacity, profits, weights, nb_items):\n",
        "    results = []\n",
        "\n",
        "    # Générer une solution initiale valide\n",
        "    initial_solution = gen_valid_solution(max_capacity, weights, nb_items)\n",
        "    initial_profit = calculate_profit(initial_solution, profits)\n",
        "    initial_weight = calculate_weight(initial_solution, weights)\n",
        "\n",
        "    # Démarrer le chronomètre\n",
        "    start_time = time.time()\n",
        "\n",
        "    # Appliquer le recuit simulé\n",
        "    best_solution, best_profit, iterations = simulated_annealing(\n",
        "        initial_solution, max_capacity, profits, weights, temperature, cooling_rate\n",
        "    )\n",
        "\n",
        "    # Arrêter le chronomètre\n",
        "    end_time = time.time()\n",
        "    execution_time = end_time - start_time  # Temps en secondes\n",
        "\n",
        "    best_weight = calculate_weight(best_solution, weights)\n",
        "    nb_objects = 0\n",
        "    for i in range(len(best_solution)):\n",
        "      if best_solution[i] == \"1\":\n",
        "        nb_objects += 1\n",
        "\n",
        "    # Enregistrement des résultats\n",
        "    results.append({\n",
        "        \"Solution initiale\": initial_solution,\n",
        "        \"Profit initial\": initial_profit,\n",
        "        \"Poids initial\": initial_weight,\n",
        "        \"Temperature\": temperature,\n",
        "        \"Cooling Rate\": cooling_rate,\n",
        "        \"Nouvelle solution\": best_solution,\n",
        "        \"Nouveau profit\": best_profit,\n",
        "        \"Nouveau Poids\": best_weight,\n",
        "        \"Nb Itérations\": iterations,\n",
        "        \"Nb objets\": nb_objects,\n",
        "        \"Temps (s)\": execution_time\n",
        "    })\n",
        "\n",
        "    # Convertir en DataFrame pandas\n",
        "    df = pd.DataFrame(results)\n",
        "\n",
        "    return df"
      ]
    },
    {
      "cell_type": "code",
      "execution_count": null,
      "metadata": {
        "colab": {
          "base_uri": "https://localhost:8080/"
        },
        "id": "wI9MvPz3B0fn",
        "outputId": "17880021-6a64-46cd-e078-81af62b28570"
      },
      "outputs": [],
      "source": [
        "temperatures = [100, 200, 500, 700, 1000, 2000, 5000, 7000, 10000]\n",
        "cooling_rates = [round(0.85 + i * 0.01, 2) for i in range(15)] # pour [0.85, 0.86, ..., 0.99]\n",
        "\n",
        "'''for temperature in temperatures:\n",
        "    for cooling_rate in cooling_rates:\n",
        "        print(f\"Temp {temperature}\\nCooling rate {cooling_rate}\")\n",
        "        test = test_recuit_simule(temperature, cooling_rate, max_capacity_pi13_n1000, profits_pi13_n1000, weights_pi13_n1000, nb_items_pi13_n1000)\n",
        "        test.to_csv(f\"Resultats/Temp{temperature}_CR{cooling_rate}resultats_recuit_simule{nb_items_pi13_n1000}_13.csv\", index=False)\n",
        "'''"
      ]
    },
    {
      "cell_type": "code",
      "execution_count": null,
      "metadata": {
        "id": "-oYdJaA3MXBj"
      },
      "outputs": [],
      "source": [
        "import pandas as pd\n",
        "import matplotlib.pyplot as plt\n",
        "import os\n",
        "\n",
        "def extract_max_profit_from_temp(temperatures, cooling_rates):\n",
        "    max_profits = {}\n",
        "\n",
        "    for temperature in temperatures:\n",
        "        max_profit = float('-inf')\n",
        "\n",
        "        for cooling_rate in cooling_rates:\n",
        "            file_name = f\"Resultats/Temp{temperature}_CR{cooling_rate}resultats_recuit_simule1000_13.csv\"\n",
        "\n",
        "            if os.path.exists(file_name):\n",
        "                df = pd.read_csv(file_name)\n",
        "                max_profit = max(max_profit, df[\"Nouveau profit\"].max())\n",
        "            else:\n",
        "                print(f\"Fichier manquant: {file_name}\")\n",
        "\n",
        "        max_profits[temperature] = max_profit\n",
        "\n",
        "    return max_profits\n"
      ]
    },
    {
      "cell_type": "code",
      "execution_count": null,
      "metadata": {
        "id": "roxUQXQLCqna"
      },
      "outputs": [],
      "source": [
        "import pandas as pd\n",
        "import os\n",
        "\n",
        "def extract_max_profit_from_CR(temperatures, cooling_rates):\n",
        "    max_profits = {}\n",
        "\n",
        "    for cooling_rate in cooling_rates:\n",
        "        max_profit = float('-inf')\n",
        "\n",
        "        for temperature in temperatures:\n",
        "            file_name = f\"Resultats/Temp{temperature}_CR{cooling_rate}resultats_recuit_simule1000_13.csv\"\n",
        "\n",
        "            if os.path.exists(file_name):\n",
        "                df = pd.read_csv(file_name)\n",
        "                current_max = df[\"Nouveau profit\"].max()\n",
        "                max_profit = max(max_profit, current_max)\n",
        "            else:\n",
        "                print(f\"Fichier manquant: {file_name}\")\n",
        "\n",
        "        max_profits[cooling_rate] = max_profit if max_profit != float('-inf') else None\n",
        "\n",
        "    return max_profits\n"
      ]
    },
    {
      "cell_type": "code",
      "execution_count": null,
      "metadata": {
        "colab": {
          "base_uri": "https://localhost:8080/"
        },
        "id": "5NnQ4VQZCqna",
        "outputId": "025fba7c-f7b1-4792-a82a-c313e334a0d3"
      },
      "outputs": [],
      "source": [
        "max_profits_temp = extract_max_profit_from_temp(temperatures, cooling_rates)\n",
        "print(max_profits_temp)"
      ]
    },
    {
      "cell_type": "code",
      "execution_count": null,
      "metadata": {
        "colab": {
          "base_uri": "https://localhost:8080/"
        },
        "id": "SLm9vcnWCqnb",
        "outputId": "59806cf7-b53a-4392-f0b9-4f0a6fccd0a2"
      },
      "outputs": [],
      "source": [
        "max_profits_CR = extract_max_profit_from_CR(temperatures, cooling_rates)\n",
        "print(max_profits_CR)"
      ]
    },
    {
      "cell_type": "code",
      "execution_count": null,
      "metadata": {
        "id": "gxTChnCnCqnb"
      },
      "outputs": [],
      "source": [
        "import pandas as pd\n",
        "import matplotlib.pyplot as plt\n",
        "import os\n",
        "\n",
        "def extract_min_weight_from_temp(temperatures, cooling_rates):\n",
        "    min_weights = {}\n",
        "\n",
        "    for temperature in temperatures:\n",
        "        min_weight = float('inf')\n",
        "\n",
        "        for cooling_rate in cooling_rates:\n",
        "            file_name = f\"Resultats/Temp{temperature}_CR{cooling_rate}resultats_recuit_simule1000_13.csv\"\n",
        "\n",
        "            if os.path.exists(file_name):\n",
        "                df = pd.read_csv(file_name)\n",
        "                min_weight = min(min_weight, df[\"Nouveau Poids\"].min())\n",
        "            else:\n",
        "                print(f\"Warning: File {file_name} not found.\")\n",
        "\n",
        "        min_weights[temperature] = min_weight\n",
        "\n",
        "    return min_weights"
      ]
    },
    {
      "cell_type": "code",
      "execution_count": null,
      "metadata": {
        "id": "WoTJ2X44Cqnb"
      },
      "outputs": [],
      "source": [
        "def extract_min_weight_from_CR(temperatures, cooling_rates):\n",
        "    min_weights = {}\n",
        "\n",
        "    for cooling_rate in cooling_rates:\n",
        "        min_weight = float('inf')\n",
        "\n",
        "        for temperature in temperatures:\n",
        "            filename = f\"Resultats/Temp{temperature}_CR{cooling_rate}resultats_recuit_simule1000_13.csv\"\n",
        "\n",
        "            if os.path.exists(filename):\n",
        "                df = pd.read_csv(filename)\n",
        "                min_weight = min(min_weight, df[\"Nouveau Poids\"].min())\n",
        "            else:\n",
        "                print(f\"Fichier manquant: {filename}\")\n",
        "\n",
        "        min_weights[cooling_rate] = min_weight\n",
        "\n",
        "    return min_weights\n"
      ]
    },
    {
      "cell_type": "code",
      "execution_count": null,
      "metadata": {
        "colab": {
          "base_uri": "https://localhost:8080/"
        },
        "id": "qjahvrFWCqnb",
        "outputId": "5457cbc7-c1f8-437b-b72e-493f6aabb4db"
      },
      "outputs": [],
      "source": [
        "min_weights_temp = extract_min_weight_from_temp(temperatures, cooling_rates)\n",
        "print(min_weights_temp)"
      ]
    },
    {
      "cell_type": "code",
      "execution_count": null,
      "metadata": {
        "colab": {
          "base_uri": "https://localhost:8080/"
        },
        "id": "D-5Q62hyCqnb",
        "outputId": "20dacf8f-c04e-403b-cd8c-ce5d409e45e7"
      },
      "outputs": [],
      "source": [
        "min_weights_CR = extract_min_weight_from_CR(temperatures, cooling_rates)\n",
        "print(min_weights_CR)"
      ]
    },
    {
      "cell_type": "code",
      "execution_count": null,
      "metadata": {
        "id": "fEBLyJ0eCqnb"
      },
      "outputs": [],
      "source": [
        "import pandas as pd\n",
        "import matplotlib.pyplot as plt\n",
        "import os\n",
        "\n",
        "def extract_min_object_from_temp(temperatures, cooling_rates):\n",
        "    min_objects = {}\n",
        "\n",
        "    for temperature in temperatures:\n",
        "        min_object = float('inf')\n",
        "\n",
        "        for cooling_rate in cooling_rates:\n",
        "            file_name = f\"Resultats/Temp{temperature}_CR{cooling_rate}resultats_recuit_simule1000_13.csv\"\n",
        "\n",
        "            if os.path.exists(file_name):\n",
        "                df = pd.read_csv(file_name)\n",
        "                min_object = min(min_object, df[\"Nb objets\"].min())\n",
        "            else:\n",
        "                print(f\"Fichier manquant: {file_name}\")\n",
        "\n",
        "        min_objects[temperature] = min_object\n",
        "\n",
        "    return min_objects"
      ]
    },
    {
      "cell_type": "code",
      "execution_count": null,
      "metadata": {
        "id": "FNka4nBICqnb"
      },
      "outputs": [],
      "source": [
        "import pandas as pd\n",
        "import os\n",
        "\n",
        "def extract_min_object_from_CR(temperatures, cooling_rates):\n",
        "    min_objects = {}\n",
        "\n",
        "    for cooling_rate in cooling_rates:\n",
        "        min_object = float('inf')\n",
        "\n",
        "        for temperature in temperatures:\n",
        "            file_name = f\"Resultats/Temp{temperature}_CR{cooling_rate}resultats_recuit_simule1000_13.csv\"\n",
        "\n",
        "            if os.path.exists(file_name):\n",
        "                df = pd.read_csv(file_name)\n",
        "                current_min = df[\"Nb objets\"].min()\n",
        "                min_object = min(min_object, current_min)\n",
        "            else:\n",
        "                print(f\"Fichier manquant: {file_name}\")\n",
        "\n",
        "        if min_object != float('inf'):\n",
        "            min_objects[cooling_rate] = min_object\n",
        "        else:\n",
        "            min_objects[cooling_rate] = None\n",
        "\n",
        "    return min_objects\n"
      ]
    },
    {
      "cell_type": "code",
      "execution_count": null,
      "metadata": {
        "id": "S-cHcjB1Cqnb"
      },
      "outputs": [],
      "source": [
        "import pandas as pd\n",
        "import matplotlib.pyplot as plt\n",
        "import os\n",
        "\n",
        "def extract_max_object_from_temp(temperatures, cooling_rates):\n",
        "    max_objects = {}\n",
        "\n",
        "    for temperature in temperatures:\n",
        "        max_object = float('-inf')\n",
        "\n",
        "        for cooling_rate in cooling_rates:\n",
        "            file_name = f\"Resultats/Temp{temperature}_CR{cooling_rate}resultats_recuit_simule1000_13.csv\"\n",
        "\n",
        "            if os.path.exists(file_name):\n",
        "                df = pd.read_csv(file_name)\n",
        "                max_object = max(max_object, df[\"Nb objets\"].max())\n",
        "            else:\n",
        "                print(f\"Fichier manquant: {file_name}\")\n",
        "\n",
        "        max_objects[temperature] = max_object\n",
        "\n",
        "    return max_objects"
      ]
    },
    {
      "cell_type": "code",
      "execution_count": null,
      "metadata": {
        "id": "AZEYqid-Cqnc"
      },
      "outputs": [],
      "source": [
        "import pandas as pd\n",
        "import os\n",
        "\n",
        "def extract_max_object_from_CR(temperatures, cooling_rates):\n",
        "    max_objects = {}\n",
        "\n",
        "    for cooling_rate in cooling_rates:\n",
        "        max_object = float('-inf')\n",
        "\n",
        "        for temperature in temperatures:\n",
        "            file_name = f\"Resultats/Temp{temperature}_CR{cooling_rate}resultats_recuit_simule1000_13.csv\"\n",
        "\n",
        "            if os.path.exists(file_name):\n",
        "                df = pd.read_csv(file_name)\n",
        "                current_max = df[\"Nb objets\"].max()\n",
        "                max_object = max(max_object, current_max)\n",
        "            else:\n",
        "                print(f\"Fichier manquant: {file_name}\")\n",
        "\n",
        "        if max_object != float('-inf'):\n",
        "            max_objects[cooling_rate] = max_object\n",
        "        else:\n",
        "            max_objects[cooling_rate] = None\n",
        "\n",
        "    return max_objects\n"
      ]
    },
    {
      "cell_type": "code",
      "execution_count": null,
      "metadata": {
        "colab": {
          "base_uri": "https://localhost:8080/"
        },
        "id": "_lIJs5pnCqnc",
        "outputId": "45da1de7-e17b-4fe6-8370-fc49b5e7f66c"
      },
      "outputs": [],
      "source": [
        "max_objects_temp = extract_max_object_from_temp(temperatures, cooling_rates)\n",
        "print(max_objects_temp)\n",
        "min_objects_temp = extract_min_object_from_temp(temperatures, cooling_rates)\n",
        "print(min_objects_temp)"
      ]
    },
    {
      "cell_type": "code",
      "execution_count": null,
      "metadata": {
        "colab": {
          "base_uri": "https://localhost:8080/"
        },
        "id": "dsWbfID9Cqnc",
        "outputId": "fb43a43a-c4fa-49f3-e015-f4f6afaa90ad"
      },
      "outputs": [],
      "source": [
        "max_objects_CR = extract_max_object_from_CR(temperatures, cooling_rates)\n",
        "print(max_objects_CR)\n",
        "min_objects_CR = extract_min_object_from_CR(temperatures, cooling_rates)\n",
        "print(min_objects_CR)"
      ]
    },
    {
      "cell_type": "code",
      "execution_count": null,
      "metadata": {
        "id": "ofeazxDqCqnc"
      },
      "outputs": [],
      "source": [
        "import pandas as pd\n",
        "import matplotlib.pyplot as plt\n",
        "import os\n",
        "\n",
        "def extract_max_iterations_from_temp(temperatures, cooling_rates):\n",
        "    max_iterations = {}\n",
        "\n",
        "    for temperature in temperatures:\n",
        "        max_iteration = float('-inf')\n",
        "\n",
        "        for cooling_rate in cooling_rates:\n",
        "            file_name = f\"Resultats/Temp{temperature}_CR{cooling_rate}resultats_recuit_simule1000_13.csv\"\n",
        "\n",
        "            if os.path.exists(file_name):\n",
        "                df = pd.read_csv(file_name)\n",
        "                max_iteration = max(max_iteration, df[\"Nb Itérations\"].max())\n",
        "            else:\n",
        "                print(f\"Fichier manquant: {file_name}\")\n",
        "\n",
        "        max_iterations[temperature] = max_iteration\n",
        "\n",
        "    return max_iterations"
      ]
    },
    {
      "cell_type": "code",
      "execution_count": null,
      "metadata": {
        "id": "xmai1_QoCqnc"
      },
      "outputs": [],
      "source": [
        "import pandas as pd\n",
        "import os\n",
        "\n",
        "def extract_max_iterations_from_CR(temperatures, cooling_rates):\n",
        "    max_iterations = {}\n",
        "\n",
        "    for cooling_rate in cooling_rates:\n",
        "        max_iteration = float('-inf')\n",
        "\n",
        "        for temperature in temperatures:\n",
        "            file_name = f\"Resultats/Temp{temperature}_CR{cooling_rate}resultats_recuit_simule1000_13.csv\"\n",
        "\n",
        "            if os.path.exists(file_name):\n",
        "                df = pd.read_csv(file_name)\n",
        "                current_max = df[\"Nb Itérations\"].max()\n",
        "                max_iteration = max(max_iteration, current_max)\n",
        "            else:\n",
        "                print(f\"Fichier manquant: {file_name}\")\n",
        "\n",
        "        if max_iteration != float('-inf'):\n",
        "            max_iterations[cooling_rate] = max_iteration\n",
        "        else:\n",
        "            max_iterations[cooling_rate] = None\n",
        "\n",
        "    return max_iterations\n"
      ]
    },
    {
      "cell_type": "code",
      "execution_count": null,
      "metadata": {
        "colab": {
          "base_uri": "https://localhost:8080/"
        },
        "id": "VulaI0n_Cqnc",
        "outputId": "572f3222-27d6-4c6e-cff9-d7bfe2bae5b8"
      },
      "outputs": [],
      "source": [
        "max_iterations_temp = extract_max_iterations_from_temp(temperatures, cooling_rates)\n",
        "print(max_iterations_temp)"
      ]
    },
    {
      "cell_type": "code",
      "execution_count": null,
      "metadata": {
        "colab": {
          "base_uri": "https://localhost:8080/"
        },
        "id": "1B7FI3mICqnc",
        "outputId": "038215ee-e36e-4b87-b653-0f31278f4dd0"
      },
      "outputs": [],
      "source": [
        "max_iterations_CR = extract_max_iterations_from_CR(temperatures, cooling_rates)\n",
        "print(max_iterations_CR)"
      ]
    },
    {
      "cell_type": "code",
      "execution_count": null,
      "metadata": {
        "id": "YO4c4e8jCqnc"
      },
      "outputs": [],
      "source": [
        "import pandas as pd\n",
        "import matplotlib.pyplot as plt\n",
        "import os\n",
        "\n",
        "def extract_max_time_from_temp(temperatures, cooling_rates):\n",
        "    max_times = {}\n",
        "\n",
        "    for temperature in temperatures:\n",
        "        max_time = float('-inf')\n",
        "\n",
        "        for cooling_rate in cooling_rates:\n",
        "            file_name = f\"Resultats/Temp{temperature}_CR{cooling_rate}resultats_recuit_simule1000_13.csv\"\n",
        "\n",
        "            if os.path.exists(file_name):\n",
        "                df = pd.read_csv(file_name)\n",
        "                max_time = max(max_time, df[\"Temps (s)\"].max())\n",
        "            else:\n",
        "                print(f\"Fichier manquant: {file_name}\")\n",
        "\n",
        "        max_times[temperature] = max_time\n",
        "\n",
        "    return max_times"
      ]
    },
    {
      "cell_type": "code",
      "execution_count": null,
      "metadata": {
        "id": "tnGUo074Cqnc"
      },
      "outputs": [],
      "source": [
        "import pandas as pd\n",
        "import os\n",
        "\n",
        "def extract_max_time_from_CR(temperatures, cooling_rates):\n",
        "    max_times = {}\n",
        "\n",
        "    for cooling_rate in cooling_rates:\n",
        "        max_time = float('-inf')\n",
        "\n",
        "        for temperature in temperatures:\n",
        "            file_name = f\"Resultats/Temp{temperature}_CR{cooling_rate}resultats_recuit_simule1000_13.csv\"\n",
        "\n",
        "            if os.path.exists(file_name):\n",
        "                df = pd.read_csv(file_name)\n",
        "                current_max = df[\"Temps (s)\"].max()\n",
        "                max_time = max(max_time, current_max)\n",
        "            else:\n",
        "                print(f\"Fichier manquant: {file_name}\")\n",
        "\n",
        "        if max_time != float('-inf'):\n",
        "            max_times[cooling_rate] = max_time\n",
        "        else:\n",
        "            max_times[cooling_rate] = None\n",
        "\n",
        "    return max_times\n"
      ]
    },
    {
      "cell_type": "code",
      "execution_count": null,
      "metadata": {
        "colab": {
          "base_uri": "https://localhost:8080/"
        },
        "id": "xiHlgt6GCqnc",
        "outputId": "a7d2b5a4-d6c5-4da3-bce0-c152986e5c3a"
      },
      "outputs": [],
      "source": [
        "max_time_temp = extract_max_time_from_temp(temperatures, cooling_rates)\n",
        "print(max_time_temp)"
      ]
    },
    {
      "cell_type": "code",
      "execution_count": null,
      "metadata": {
        "colab": {
          "base_uri": "https://localhost:8080/"
        },
        "id": "DSYCnOb-Cqnd",
        "outputId": "e5e207a7-feab-4d5e-c17a-d02e12459ad6"
      },
      "outputs": [],
      "source": [
        "max_time_CR = extract_max_time_from_CR(temperatures, cooling_rates)\n",
        "print(max_time_CR)"
      ]
    },
    {
      "cell_type": "code",
      "execution_count": null,
      "metadata": {
        "colab": {
          "base_uri": "https://localhost:8080/",
          "height": 473
        },
        "id": "GNklKxorCqnd",
        "outputId": "f94766ba-8aa4-44c4-e943-95e54647eb79"
      },
      "outputs": [],
      "source": [
        "x = temperatures\n",
        "y1 = [max_profits_temp[temp] for temp in temperatures]\n",
        "y2 = [min_weights_temp[temp] for temp in temperatures]\n",
        "\n",
        "plt.plot(x, y1, label='Meilleur profit')\n",
        "plt.plot(x, y2, label='Poids minimum')\n",
        "plt.xlabel('Température')\n",
        "plt.ylabel('Profit/Poids')\n",
        "plt.title('Profit max et poids min en fonction de la température')\n",
        "plt.legend()\n",
        "plt.grid()\n",
        "plt.show()"
      ]
    },
    {
      "cell_type": "code",
      "execution_count": null,
      "metadata": {
        "colab": {
          "base_uri": "https://localhost:8080/",
          "height": 472
        },
        "id": "Qb2gwj_6Cqnd",
        "outputId": "815e8101-acfc-4c6a-e8bc-085d6844e838"
      },
      "outputs": [],
      "source": [
        "z = cooling_rates\n",
        "z1 = [max_profits_CR[cr] for cr in cooling_rates]\n",
        "z2 = [min_weights_CR[cr] for cr in cooling_rates]\n",
        "\n",
        "plt.plot(z, z1, label='Meilleur profit')\n",
        "plt.plot(z, z2, label='Poids minimum')\n",
        "plt.xlabel('Facteur de refroidissement')\n",
        "plt.ylabel('Profit/Poids')\n",
        "plt.title('Profit max et poids min en fonction du facteur de refroidissement')\n",
        "plt.legend()\n",
        "plt.grid()\n",
        "plt.show()"
      ]
    },
    {
      "cell_type": "code",
      "execution_count": null,
      "metadata": {
        "colab": {
          "base_uri": "https://localhost:8080/",
          "height": 473
        },
        "id": "6-hic1BnCqnd",
        "outputId": "4b24e260-0b7e-4860-defd-3ebb4e33dc84"
      },
      "outputs": [],
      "source": [
        "y3 = [min_objects_temp[temp] for temp in temperatures]\n",
        "y4 = [max_objects_temp[temp] for temp in temperatures]\n",
        "\n",
        "plt.plot(x, y3, label='Nombre d\\'objets minimum')\n",
        "plt.plot(x, y4, label='Nombre d\\'objets maximum')\n",
        "plt.title(\"Nombre d'objets max et min en fonction de la température\")\n",
        "plt.xlabel('Température')\n",
        "plt.ylabel(\"Nb d'objets min et max\")\n",
        "plt.legend()\n",
        "plt.grid()\n",
        "plt.show()"
      ]
    },
    {
      "cell_type": "code",
      "execution_count": null,
      "metadata": {
        "colab": {
          "base_uri": "https://localhost:8080/",
          "height": 472
        },
        "id": "VUOYdSG-Cqnd",
        "outputId": "ad855dbb-253d-497e-f9a7-fb92f0314240"
      },
      "outputs": [],
      "source": [
        "z3 = [min_objects_CR[cr] for cr in cooling_rates]\n",
        "z4 = [max_objects_CR[cr] for cr in cooling_rates]\n",
        "\n",
        "plt.plot(z, z3, label='Nombre d\\'objets minimum')\n",
        "plt.plot(z, z4, label='Nombre d\\'objets maximum')\n",
        "plt.title(\"Nombre d'objets max et min en fonction du facteur de refroidissement\")\n",
        "plt.xlabel('Facteur de refroidissement')\n",
        "plt.ylabel(\"Nb d'objets min et max\")\n",
        "plt.legend()\n",
        "plt.grid()\n",
        "plt.show()"
      ]
    },
    {
      "cell_type": "code",
      "execution_count": null,
      "metadata": {
        "colab": {
          "base_uri": "https://localhost:8080/",
          "height": 473
        },
        "id": "1VvrYWptCqnd",
        "outputId": "8e7954bf-d0e5-4bcc-c423-cb657baf58b2"
      },
      "outputs": [],
      "source": [
        "y5 = [max_iterations_temp[temp] for temp in temperatures]\n",
        "\n",
        "plt.plot(x, y5, label='Nombre d\\'itérations maximum')\n",
        "plt.title('Nombre d\\'itérations max en fonction de la température')\n",
        "plt.xlabel('Température')\n",
        "plt.ylabel('Nb Itérations')\n",
        "plt.grid()\n",
        "plt.show()"
      ]
    },
    {
      "cell_type": "code",
      "execution_count": null,
      "metadata": {
        "colab": {
          "base_uri": "https://localhost:8080/",
          "height": 472
        },
        "id": "0G9c2YU5Cqnd",
        "outputId": "994ffacc-6516-470f-b292-49942c33a782"
      },
      "outputs": [],
      "source": [
        "z5 = [max_iterations_CR[cr] for cr in cooling_rates]\n",
        "\n",
        "plt.plot(z, z5, label='Nombre d\\'itérations maximum')\n",
        "plt.title('Nombre d\\'itérations max en fonction du facteur de refroidissement')\n",
        "plt.xlabel('Facteur de refroidissement')\n",
        "plt.ylabel('Nb Itérations')\n",
        "plt.grid()\n",
        "plt.show()"
      ]
    },
    {
      "cell_type": "code",
      "execution_count": null,
      "metadata": {},
      "outputs": [],
      "source": [
        "import pandas as pd\n",
        "import os\n",
        "import matplotlib.pyplot as plt\n",
        "import seaborn as sns\n",
        "import statsmodels.api as sm\n",
        "\n",
        "def collecter_donnees_recuit(temp_list, cr_list, n, fichier):\n",
        "    donnees = []\n",
        "\n",
        "    for temp in temp_list:\n",
        "        for cr in cr_list:\n",
        "            file_name = f\"Resultats/Temp{temperature}_CR{cooling_rate}resultats_recuit_simule{n}_{fichier}.csv\"\n",
        "            \n",
        "            if os.path.exists(file_name):\n",
        "                try:\n",
        "                    df = pd.read_csv(file_name)\n",
        "                    if 'Nouveau profit' in df.columns:\n",
        "                        profit = df['Nouveau profit'].iloc[0]\n",
        "                        donnees.append({\n",
        "                            \"Température\": temp,\n",
        "                            \"CR\": cr,\n",
        "                            \"Profit max\": profit\n",
        "                        })\n",
        "                    else:\n",
        "                        print(f\"'profit_final' manquant dans {file_name}\")\n",
        "                except Exception as e:\n",
        "                    print(f\"Erreur de lecture {file_name} : {e}\")\n",
        "            else:\n",
        "                print(f\"Fichier introuvable : {file_name}\")\n",
        "\n",
        "    return pd.DataFrame(donnees)\n",
        "\n",
        "data_pi12_n100 = collecter_donnees_recuit(temperatures, cooling_rates, 1000, 13)\n",
        "print(data_pi12_n100)\n",
        "\n",
        "def tracer_regression_lineaire(df):\n",
        "    X = df[[\"Température\", \"CR\"]]\n",
        "    y = df[\"Profit max\"]\n",
        "\n",
        "    X = sm.add_constant(X)\n",
        "\n",
        "    # Régression linéaire\n",
        "    model = sm.OLS(y, X).fit()\n",
        "    print(model.summary())\n",
        "\n",
        "    # Extraction des coefficients\n",
        "    a = model.params[\"Température\"]\n",
        "    b = model.params[\"CR\"]\n",
        "    c = model.params[\"const\"]\n",
        "\n",
        "    print(f\"L'équation de régression linéaire est : Profit max = {a:.4f} * Température + {b:.4f} * CR + {c:.4f}\")\n",
        "\n",
        "    y_pred = model.predict(X)\n",
        "\n",
        "    plt.figure(figsize=(10, 6))\n",
        "    sns.scatterplot(data=df, x=\"Température\", y=\"Profit max\", hue=\"CR\", palette=\"viridis\", s=100)\n",
        "    sns.lineplot(x=df[\"Température\"], y=y_pred, color=\"red\", label=\"Régression linéaire (projection)\")\n",
        "    plt.title(\"Profit max en fonction de la température (CR en couleur)\")\n",
        "    plt.legend()\n",
        "    plt.grid()\n",
        "    plt.show()\n",
        "\n",
        "tracer_regression_lineaire(data_pi12_n100)\n"
      ]
    },
    {
      "cell_type": "code",
      "execution_count": null,
      "metadata": {
        "id": "m8kd2rXUCqnd"
      },
      "outputs": [],
      "source": [
        "import os\n",
        "import pandas as pd\n",
        "\n",
        "def find_optimal_solution(temperatures, cooling_rates, optimal_solution):\n",
        "    filenames = []\n",
        "    for temp in temperatures:\n",
        "        for cr in cooling_rates:\n",
        "            filename = f\"Resultats/Temp{temperature}_CR{cooling_rate}resultats_recuit_simule1000_13.csv\"\n",
        "            if os.path.exists(filename):\n",
        "                try:\n",
        "                    df = pd.read_csv(filename)\n",
        "                    if \"Nouvelle solution\" in df.columns:\n",
        "                        if optimal_solution in df[\"Nouvelle solution\"].values:\n",
        "                            filenames.append(filename)\n",
        "                except pd.errors.ParserError:\n",
        "                    print(f\"Warning: Could not parse file {filename}. Skipping.\")\n",
        "    return filenames"
      ]
    },
    {
      "cell_type": "code",
      "execution_count": null,
      "metadata": {
        "id": "Pbb_5dVLCqnd"
      },
      "outputs": [],
      "source": [
        "def find_files_with_profit_and_weight(target_profit, target_weight, dossier=\"Resultats\"):\n",
        "    filenames = []\n",
        "    for filename in os.listdir(dossier):\n",
        "        if filename.startswith(\"Temp\") and filename.endswith(\"1000_13.csv\"):\n",
        "            full_path = os.path.join(dossier, filename)\n",
        "            try:\n",
        "                df = pd.read_csv(full_path)\n",
        "                if 'Nouveau profit' in df.columns and 'Nouveau Poids' in df.columns:\n",
        "                    match = (df['Nouveau profit'] == target_profit) & (df['Nouveau Poids'] == target_weight)\n",
        "                    if any(match):\n",
        "                        filenames.append(filename)\n",
        "            except pd.errors.ParserError:\n",
        "                print(f\"Fichier {filename} non retrouve.\")\n",
        "    return filenames\n"
      ]
    },
    {
      "cell_type": "code",
      "execution_count": null,
      "metadata": {
        "id": "b-Emc9DhCqnd"
      },
      "outputs": [],
      "source": [
        "fichier_optimal = find_optimal_solution(temperatures, cooling_rates, best_solution_str)\n",
        "\n",
        "if len(fichier_optimal) == 0:\n",
        "    print(\"Le recuit simulé n'a pas abouti à la solution optimale en termes de choix/répartition d'objets.\")\n",
        "else:\n",
        "    for f in fichier_optimal:\n",
        "        print(f)"
      ]
    },
    {
      "cell_type": "markdown",
      "metadata": {},
      "source": [
        "A éxecuter uniquement si le recuit simulé a pu donner la solution optimale "
      ]
    },
    {
      "cell_type": "code",
      "execution_count": null,
      "metadata": {
        "id": "YOC1dkfYCqnd"
      },
      "outputs": [],
      "source": [
        "print(target_weight)\n",
        "print(target_profit)\n",
        "found_files = find_files_with_profit_and_weight(target_profit, target_weight)\n",
        "for f in found_files:\n",
        "  print(f)"
      ]
    },
    {
      "cell_type": "code",
      "execution_count": null,
      "metadata": {
        "id": "_SM5dK5bCqne"
      },
      "outputs": [],
      "source": [
        "def analyze_files(found_files):\n",
        "    temp_counts = {}\n",
        "    cr_counts = {}\n",
        "\n",
        "    for file in found_files:\n",
        "        try:\n",
        "            df = pd.read_csv(file)\n",
        "\n",
        "            # Extract temperature and cooling rate from the filename\n",
        "            parts = file.split(\"_\")\n",
        "            temp_str = parts[0].split(\"Temp\")[1]\n",
        "            cr_str = parts[1].split(\"CR\")[1].split(\"resultats\")[0]\n",
        "\n",
        "            temperature = int(temp_str)\n",
        "            cooling_rate = float(cr_str)\n",
        "\n",
        "            # Update counts\n",
        "            temp_counts[temperature] = temp_counts.get(temperature, 0) + 1\n",
        "            cr_counts[cooling_rate] = cr_counts.get(cooling_rate, 0) + 1\n",
        "\n",
        "        except FileNotFoundError:\n",
        "            print(f\"File not found: {file}\")\n",
        "        except (pd.errors.EmptyDataError, pd.errors.ParserError):\n",
        "            print(f\"Error reading file or empty file: {file}\")\n",
        "        except Exception as e:\n",
        "            print(f\"An unexpected error occurred with file {file}: {e}\")\n",
        "\n",
        "\n",
        "    return temp_counts, cr_counts"
      ]
    },
    {
      "cell_type": "code",
      "execution_count": null,
      "metadata": {
        "colab": {
          "base_uri": "https://localhost:8080/",
          "height": 245
        },
        "id": "eMVnt-C4Cqne",
        "outputId": "d70f9996-1ff6-4890-d29c-64dd363a86f0"
      },
      "outputs": [],
      "source": [
        "temp_dict, cr_dict = analyze_files(found_files)\n",
        "\n",
        "print(\"Temperature counts:\", temp_dict)\n",
        "print(\"Cooling rate counts:\", cr_dict)\n",
        "\n",
        "max_temps = max(temp_dict, key=temp_dict.get)\n",
        "print(\"La température optimale est:\", max_temps)\n",
        "max_crs = max(cr_dict, key=cr_dict.get)\n",
        "print(\"Le facteur de refroidissement optimal est:\", max_crs)"
      ]
    },
    {
      "cell_type": "markdown",
      "metadata": {
        "id": "Gj8YkWvKc-_K"
      },
      "source": [
        "#### Métaheuristique 2 - Génétique"
      ]
    },
    {
      "cell_type": "code",
      "execution_count": null,
      "metadata": {
        "id": "WurkSiu0c-_K"
      },
      "outputs": [],
      "source": [
        "def roulette_selection(population, profits):\n",
        "    # Calcul du profit total pour la population\n",
        "    fitness = [calculate_profit(sol, profits) for sol in population]\n",
        "    total_fitness = sum(fitness)\n",
        "\n",
        "    # Si la fitness totale est 0, on retourne un choix aléatoire\n",
        "    if total_fitness == 0:\n",
        "        return random.choice(population)\n",
        "\n",
        "    # Sélection d'un parent par roulette\n",
        "    pick = random.uniform(0, total_fitness)\n",
        "    current = 0\n",
        "    for i, sol in enumerate(population):\n",
        "        current += fitness[i]\n",
        "        if current > pick:\n",
        "            return sol\n",
        "    return population[-1]  # Retourne le dernier si aucune sélection avant\n"
      ]
    },
    {
      "cell_type": "code",
      "execution_count": null,
      "metadata": {
        "id": "pAYA_ZRdc-_K"
      },
      "outputs": [],
      "source": [
        "def crossover(nb_items, parent1, parent2, max_capacity, weights):\n",
        "    point = random.randint(1, nb_items - 1)\n",
        "    child1 = parent1[:point] + parent2[point:]\n",
        "    child2 = parent2[:point] + parent1[point:]\n",
        "\n",
        "    # Vérification si les enfants sont valides\n",
        "    if calculate_weight(child1, weights) > max_capacity:\n",
        "        child1 = parent1  # Si l'enfant dépasse la capacité, on garde le parent\n",
        "    if calculate_weight(child2, weights) > max_capacity:\n",
        "        child2 = parent2  # Idem pour l'autre enfant\n",
        "\n",
        "    return child1, child2\n"
      ]
    },
    {
      "cell_type": "code",
      "execution_count": null,
      "metadata": {
        "id": "TUYM0zEYc-_K"
      },
      "outputs": [],
      "source": [
        "def mutate(nb_items, max_capacity, weights, solution):\n",
        "    sol_list = list(solution)\n",
        "    index = random.randint(0, nb_items - 1)\n",
        "    sol_list[index] = \"1\" if sol_list[index] == \"0\" else \"0\"\n",
        "\n",
        "    # Vérification de la validité après mutation\n",
        "    new_sol = \"\".join(sol_list)\n",
        "    if calculate_weight(new_sol, weights) <= max_capacity:\n",
        "        return new_sol  # Retourner la solution si elle respecte la capacité\n",
        "    return solution  # Si la mutation rend la solution invalide, on garde l'ancienne solution\n"
      ]
    },
    {
      "cell_type": "code",
      "execution_count": null,
      "metadata": {
        "id": "nliMM3M-c-_K"
      },
      "outputs": [],
      "source": [
        "import matplotlib.pyplot as plt\n",
        "\n",
        "def algo_genetique(\n",
        "      nb_items: int,\n",
        "      max_capacity: int,\n",
        "      weights: list,\n",
        "      profits: list,\n",
        "      nbPop: int,\n",
        "      nbGen: int,\n",
        "      probaCross: float,\n",
        "      nbBest: int\n",
        "    ):\n",
        "\n",
        "    # Initialisation de la population\n",
        "    population = [gen_valid_solution(max_capacity, weights, nb_items) for _ in range(nbPop)]\n",
        "    best_solution = max(population, key=lambda sol: calculate_profit(sol, profits))\n",
        "    best_profit = calculate_profit(best_solution, profits)\n",
        "\n",
        "    # Pour le graphique\n",
        "    evolution_profits = []\n",
        "    evolution_weights = []\n",
        "\n",
        "    for generation in range(nbGen):\n",
        "        new_population = []\n",
        "\n",
        "        # Sélection et reproduction\n",
        "        for _ in range(nbPop):\n",
        "            parent1 = roulette_selection(population, profits)\n",
        "            parent2 = roulette_selection(population, profits)\n",
        "\n",
        "            # Croisement ou mutation\n",
        "            if random.random() < probaCross:\n",
        "                child1, child2 = crossover(nb_items, parent1, parent2, max_capacity, weights)\n",
        "            else:\n",
        "                child1 = mutate(nb_items, max_capacity, weights, parent1)\n",
        "                child2 = mutate(nb_items, max_capacity, weights, parent2)\n",
        "\n",
        "            new_population.append(child1)\n",
        "            new_population.append(child2)\n",
        "\n",
        "        # Garder les meilleures solutions\n",
        "        population = sorted(new_population, key=lambda sol: calculate_profit(sol, profits), reverse=True)[:nbPop]\n",
        "\n",
        "        # Meilleure solution actuelle\n",
        "        current_best_solution = population[0]\n",
        "        current_best_profit = calculate_profit(current_best_solution, profits)\n",
        "        current_best_weight = calculate_weight(current_best_solution, weights)\n",
        "\n",
        "        # Enregistrer l’évolution\n",
        "        evolution_profits.append(current_best_profit)\n",
        "        evolution_weights.append(current_best_weight)\n",
        "\n",
        "        # Mettre à jour la meilleure globale\n",
        "        if current_best_profit > best_profit:\n",
        "            best_solution = current_best_solution\n",
        "            best_profit = current_best_profit\n",
        "\n",
        "    # Tracer l'évolution du profit et du poids\n",
        "    '''plt.figure(figsize=(12, 6))\n",
        "\n",
        "    # Tracer du profit au fil des itérations\n",
        "    plt.subplot(1, 2, 1)\n",
        "    plt.plot(evolution_profits, label='Profit', color='blue')\n",
        "    plt.title('Évolution du profit au fil des itérations')\n",
        "    plt.xlabel('Itérations')\n",
        "    plt.ylabel('Profit')\n",
        "    plt.grid(True)\n",
        "\n",
        "    # Tracer du poids au fil des itérations\n",
        "    plt.subplot(1, 2, 2)\n",
        "    plt.plot(evolution_weights, label='Poids', color='red')\n",
        "    plt.title('Évolution du poids au fil des itérations')\n",
        "    plt.xlabel('Itérations')\n",
        "    plt.ylabel('Poids')\n",
        "    plt.grid(True)\n",
        "\n",
        "    plt.tight_layout()\n",
        "    plt.show()'''\n",
        "\n",
        "    return best_solution, best_profit\n"
      ]
    },
    {
      "cell_type": "code",
      "execution_count": null,
      "metadata": {
        "colab": {
          "base_uri": "https://localhost:8080/"
        },
        "id": "0reU1g6Jc-_L",
        "outputId": "cf25a476-b5e8-4e7b-eed0-7d1e199778fb"
      },
      "outputs": [],
      "source": [
        "nbPop = 10  # Taille de la population\n",
        "nbGen = 100  # Nombre de générations\n",
        "probaCross = 0.7  # Probabilité de croisement\n",
        "nbBest = 2  # Nombre de meilleures solutions conservées\n",
        "\n",
        "best_solution, best_profit = algo_genetique(nb_items_pi13_n1000, max_capacity_pi13_n1000, weights_pi13_n1000, profits_pi13_n1000, nbPop, nbGen, probaCross, nbBest)\n",
        "print(\"Meilleure solution trouvée :\", best_solution)\n",
        "print(\"Meilleur profit :\", best_profit)\n",
        "print(\"Poids atteind :\", calculate_weight(best_solution, weights_pi13_n1000))"
      ]
    },
    {
      "cell_type": "markdown",
      "metadata": {
        "id": "sxGfnaM5c-_L"
      },
      "source": [
        "#### Tests"
      ]
    },
    {
      "cell_type": "code",
      "execution_count": null,
      "metadata": {
        "id": "zyDkWVX1XmwE"
      },
      "outputs": [],
      "source": [
        "import pandas as pd\n",
        "import time\n",
        "import os\n",
        "\n",
        "def test_algo_genetique(nb_items, max_capacity, weights, profits, nbPop, nbGen, probaCross, nbBest):\n",
        "                    results = []\n",
        "                    \n",
        "                    # Générer une solution initiale valide\n",
        "                    initial_solution = gen_valid_solution(max_capacity, weights, nb_items)\n",
        "                    initial_profit = calculate_profit(initial_solution, profits)\n",
        "                    initial_weight = calculate_weight(initial_solution, weights)\n",
        "\n",
        "                    # Démarrer le chronomètre\n",
        "                    start_time = time.time()\n",
        "\n",
        "                    # Exécuter l'algorithme génétique\n",
        "                    best_solution, best_profit = algo_genetique(\n",
        "                        nb_items, max_capacity, weights, profits, nbPop, nbGen, probaCross, nbBest\n",
        "                    )\n",
        "\n",
        "                    # Arrêter le chronomètre\n",
        "                    end_time = time.time()\n",
        "                    execution_time = end_time - start_time  # Temps en secondes\n",
        "\n",
        "                    # Calculer le poids et le nombre d'objets de la meilleure solution\n",
        "                    best_weight = calculate_weight(best_solution, weights)\n",
        "                    nb_objects = sum(1 for i in range(len(best_solution)) if best_solution[i] == \"1\")\n",
        "\n",
        "                    # Enregistrement des résultats\n",
        "                    results.append({\n",
        "                        \"Solution initiale\": initial_solution,\n",
        "                        \"Profit initial\": initial_profit,\n",
        "                        \"Poids initial\": initial_weight,\n",
        "                        \"NbPop\": nbPop,\n",
        "                        \"NbGen\": nbGen,\n",
        "                        \"ProbaCross\": probaCross,\n",
        "                        \"NbBest\": nbBest,\n",
        "                        \"Nouvelle solution\": best_solution,\n",
        "                        \"Nouveau profit\": best_profit,\n",
        "                        \"Nouveau Poids\": best_weight,\n",
        "                        \"Nb objets\": nb_objects,\n",
        "                        \"Temps (s)\": execution_time\n",
        "                    })\n",
        "\n",
        "                    # Convertir en DataFrame et sauvegarder le fichier\n",
        "                    df = pd.DataFrame(results)\n",
        "                    return df\n",
        "                \n"
      ]
    },
    {
      "cell_type": "code",
      "execution_count": null,
      "metadata": {
        "id": "f5BtuRF3XmwE"
      },
      "outputs": [],
      "source": [
        "# Fixer un interval pour les paramètres\n",
        "\n",
        "nbPop_list = [10, 50, 70, 100]\n",
        "nbGen_list = [10, 50, 70, 100]\n",
        "probaCross_list = [0.1, 0.5, 0.9]\n",
        "nbBest_list = [2, 5]\n",
        "\n",
        "'''for nbPop in nbPop_list:\n",
        "    for nbGen in nbGen_list:\n",
        "        for probaCross in probaCross_list:\n",
        "            for nbBest in nbBest_list:\n",
        "                print(f\"NbPop {nbPop}\\nNbGen {nbGen}\\nProbaCross {probaCross}\\nNbBest {nbBest}\")\n",
        "                test = test_algo_genetique(nb_items_pi13_n1000, max_capacity_pi13_n1000, weights_pi13_n1000, profits_pi13_n1000, nbPop, nbGen, probaCross, nbBest)\n",
        "                test.to_csv(f\"Resultats/NbPop{nbPop}_NbGen{nbGen}_ProbaCross{probaCross}_NbBest{nbBest}_resultats_algo_genetique1000_13.csv\", index=False)\n",
        "'''"
      ]
    },
    {
      "cell_type": "code",
      "execution_count": null,
      "metadata": {
        "id": "b3Ge-KUsXmwE"
      },
      "outputs": [],
      "source": [
        "def extract_max_profit_from_probaCross(nbPop_list, nbGen_list, probaCross_list, nbBest_list):\n",
        "    max_profits = {}\n",
        "\n",
        "    for probaCross in probaCross_list:\n",
        "        max_profit = float('-inf')\n",
        "\n",
        "        for nbPop in nbPop_list:\n",
        "            for nbGen in nbGen_list:\n",
        "                for nbBest in nbBest_list:\n",
        "                    file_name = f\"Resultats/NbPop{nbPop}_NbGen{nbGen}_ProbaCross{probaCross}_NbBest{nbBest}_resultats_algo_genetique1000_13.csv\"\n",
        "\n",
        "                    if os.path.exists(file_name):\n",
        "                        df = pd.read_csv(file_name)\n",
        "                        max_profit = max(max_profit, df[\"Nouveau profit\"].max())\n",
        "                    else:\n",
        "                        print(f\"Fichier manquant: {file_name}\")\n",
        "\n",
        "        max_profits[probaCross] = max_profit\n",
        "\n",
        "    return max_profits"
      ]
    },
    {
      "cell_type": "code",
      "execution_count": null,
      "metadata": {
        "id": "GXfIpqCHXmwE"
      },
      "outputs": [],
      "source": [
        "def extract_min_weight_from_probaCross(nbPop_list, nbGen_list, probaCross_list, nbBest_list):\n",
        "    min_weights = {}\n",
        "\n",
        "    for probaCross in probaCross_list:\n",
        "        min_weight = float('inf')\n",
        "\n",
        "        for nbPop in nbPop_list:\n",
        "            for nbGen in nbGen_list:\n",
        "                for nbBest in nbBest_list:\n",
        "                    file_name = f\"Resultats/NbPop{nbPop}_NbGen{nbGen}_ProbaCross{probaCross}_NbBest{nbBest}_resultats_algo_genetique1000_13.csv\"\n",
        "\n",
        "                    if os.path.exists(file_name):\n",
        "                        df = pd.read_csv(file_name)\n",
        "                        min_weight = min(min_weight, df[\"Nouveau Poids\"].min())\n",
        "                    else:\n",
        "                        print(f\"Fichier manquant: {file_name}\")\n",
        "\n",
        "        min_weights[probaCross] = min_weight\n",
        "\n",
        "    return min_weights\n"
      ]
    },
    {
      "cell_type": "code",
      "execution_count": null,
      "metadata": {
        "colab": {
          "base_uri": "https://localhost:8080/"
        },
        "id": "7f1eXB6AXmwE",
        "outputId": "727d26ed-cce3-4258-9969-f9ce64a9ea28"
      },
      "outputs": [],
      "source": [
        "max_profits_probaCross = extract_max_profit_from_probaCross(nbPop_list, nbGen_list, probaCross_list, nbBest_list)\n",
        "print(max_profits_probaCross)"
      ]
    },
    {
      "cell_type": "code",
      "execution_count": null,
      "metadata": {
        "colab": {
          "base_uri": "https://localhost:8080/"
        },
        "id": "-StjEm1XXmwF",
        "outputId": "52d76ead-5eef-423e-a49c-d50576392316"
      },
      "outputs": [],
      "source": [
        "min_weights_probaCross = extract_min_weight_from_probaCross(nbPop_list, nbGen_list, probaCross_list, nbBest_list)\n",
        "print(min_weights_probaCross)"
      ]
    },
    {
      "cell_type": "code",
      "execution_count": null,
      "metadata": {
        "id": "eMY5Sr82XmwF"
      },
      "outputs": [],
      "source": [
        "def extract_max_profit_from_nbGen(nbPop_list, nbGen_list, probaCross_list, nbBest_list):\n",
        "    max_profits = {}\n",
        "\n",
        "    for nbGen in nbGen_list:\n",
        "        max_profit = float('-inf')\n",
        "\n",
        "        for nbPop in nbPop_list:\n",
        "            for probaCross in probaCross_list:\n",
        "                for nbBest in nbBest_list:\n",
        "                    file_name = f\"Resultats/NbPop{nbPop}_NbGen{nbGen}_ProbaCross{probaCross}_NbBest{nbBest}_resultats_algo_genetique1000_13.csv\"\n",
        "\n",
        "                    if os.path.exists(file_name):\n",
        "                        df = pd.read_csv(file_name)\n",
        "                        max_profit = max(max_profit, df[\"Nouveau profit\"].max())\n",
        "                    else:\n",
        "                        print(f\"Fichier manquant: {file_name}\")\n",
        "\n",
        "        max_profits[nbGen] = max_profit\n",
        "\n",
        "    return max_profits\n"
      ]
    },
    {
      "cell_type": "code",
      "execution_count": null,
      "metadata": {
        "id": "0rwFjsukXmwF"
      },
      "outputs": [],
      "source": [
        "def extract_min_weight_from_nbGen(nbPop_list, nbGen_list, probaCross_list, nbBest_list):\n",
        "    min_weights = {}\n",
        "\n",
        "    for nbGen in nbGen_list:\n",
        "        min_weight = float('inf')\n",
        "\n",
        "        for nbPop in nbPop_list:\n",
        "            for probaCross in probaCross_list:\n",
        "                for nbBest in nbBest_list:\n",
        "                    file_name = f\"Resultats/NbPop{nbPop}_NbGen{nbGen}_ProbaCross{probaCross}_NbBest{nbBest}_resultats_algo_genetique1000_13.csv\"\n",
        "\n",
        "                    if os.path.exists(file_name):\n",
        "                        df = pd.read_csv(file_name)\n",
        "                        min_weight = min(min_weight, df[\"Nouveau Poids\"].min())\n",
        "                    else:\n",
        "                        print(f\"Fichier manquant: {file_name}\")\n",
        "\n",
        "        min_weights[nbGen] = min_weight\n",
        "\n",
        "    return min_weights"
      ]
    },
    {
      "cell_type": "code",
      "execution_count": null,
      "metadata": {
        "colab": {
          "base_uri": "https://localhost:8080/"
        },
        "id": "zR8M-5OPXmwF",
        "outputId": "bfc2a143-1172-4a1f-94a5-982d039ed4e9"
      },
      "outputs": [],
      "source": [
        "max_profits_nbGen = extract_max_profit_from_nbGen(nbPop_list, nbGen_list, probaCross_list, nbBest_list)\n",
        "print(max_profits_nbGen)"
      ]
    },
    {
      "cell_type": "code",
      "execution_count": null,
      "metadata": {
        "colab": {
          "base_uri": "https://localhost:8080/"
        },
        "id": "8rVHJG4hXmwF",
        "outputId": "8dac508a-a36e-494b-a73d-f04fa186be39"
      },
      "outputs": [],
      "source": [
        "min_weights_nbGen = extract_min_weight_from_nbGen(nbPop_list, nbGen_list, probaCross_list, nbBest_list)\n",
        "print(min_weights_nbGen)"
      ]
    },
    {
      "cell_type": "code",
      "execution_count": null,
      "metadata": {
        "id": "z-2-92RiXmwF"
      },
      "outputs": [],
      "source": [
        "def extract_max_profit_from_nbBest(nbPop_list, nbGen_list, probaCross_list, nbBest_list):\n",
        "    max_profits = {}\n",
        "\n",
        "    for nbBest in nbBest_list:\n",
        "        max_profit = float('-inf')\n",
        "\n",
        "        for nbPop in nbPop_list:\n",
        "            for nbGen in nbGen_list:\n",
        "                for probaCross in probaCross_list:\n",
        "                    file_name = f\"Resultats/NbPop{nbPop}_NbGen{nbGen}_ProbaCross{probaCross}_NbBest{nbBest}_resultats_algo_genetique1000_13.csv\"\n",
        "\n",
        "                    if os.path.exists(file_name):\n",
        "                        df = pd.read_csv(file_name)\n",
        "                        max_profit = max(max_profit, df[\"Nouveau profit\"].max())\n",
        "                    else:\n",
        "                        print(f\"Fichier manquant: {file_name}\")\n",
        "\n",
        "        max_profits[nbBest] = max_profit\n",
        "\n",
        "    return max_profits"
      ]
    },
    {
      "cell_type": "code",
      "execution_count": null,
      "metadata": {
        "id": "BLBBKW6JXmwF"
      },
      "outputs": [],
      "source": [
        "def extract_min_weight_from_nbBest(nbPop_list, nbGen_list, probaCross_list, nbBest_list):\n",
        "    min_weights = {}\n",
        "\n",
        "    for nbBest in nbBest_list:\n",
        "        min_weight = float('inf')\n",
        "\n",
        "        for nbPop in nbPop_list:\n",
        "            for nbGen in nbGen_list:\n",
        "                for probaCross in probaCross_list:\n",
        "                    file_name = f\"Resultats/NbPop{nbPop}_NbGen{nbGen}_ProbaCross{probaCross}_NbBest{nbBest}_resultats_algo_genetique1000_13.csv\"\n",
        "\n",
        "                    if os.path.exists(file_name):\n",
        "                        df = pd.read_csv(file_name)\n",
        "                        min_weight = min(min_weight, df[\"Nouveau Poids\"].min())\n",
        "                    else:\n",
        "                        print(f\"Fichier manquant: {file_name}\")\n",
        "\n",
        "        min_weights[nbBest] = min_weight\n",
        "\n",
        "    return min_weights"
      ]
    },
    {
      "cell_type": "code",
      "execution_count": null,
      "metadata": {
        "colab": {
          "base_uri": "https://localhost:8080/"
        },
        "id": "XPfEdnOGXmwF",
        "outputId": "0a67f201-a107-4da1-d834-570993af5b8a"
      },
      "outputs": [],
      "source": [
        "max_profits_nbBest = extract_max_profit_from_nbBest(nbPop_list, nbGen_list, probaCross_list, nbBest_list)\n",
        "print(max_profits_nbBest)"
      ]
    },
    {
      "cell_type": "code",
      "execution_count": null,
      "metadata": {
        "colab": {
          "base_uri": "https://localhost:8080/"
        },
        "id": "_3Q6OZFdXmwF",
        "outputId": "d03f8e74-b90d-4955-b8bd-58eb9ae5a651"
      },
      "outputs": [],
      "source": [
        "min_weights_nbBest = extract_min_weight_from_nbBest(nbPop_list, nbGen_list, probaCross_list, nbBest_list)\n",
        "print(min_weights_nbBest)"
      ]
    },
    {
      "cell_type": "code",
      "execution_count": null,
      "metadata": {
        "id": "PIUwzF0IXmwF"
      },
      "outputs": [],
      "source": [
        "def extract_max_profit_from_nbPop(nbPop_list, nbGen_list, probaCross_list, nbBest_list):\n",
        "    max_profits = {}\n",
        "\n",
        "    for nbPop in nbPop_list:\n",
        "        max_profit = float('-inf')\n",
        "\n",
        "        for nbGen in nbGen_list:\n",
        "            for probaCross in probaCross_list:\n",
        "                for nbBest in nbBest_list:\n",
        "                    file_name = f\"Resultats/NbPop{nbPop}_NbGen{nbGen}_ProbaCross{probaCross}_NbBest{nbBest}_resultats_algo_genetique1000_13.csv\"\n",
        "\n",
        "                    if os.path.exists(file_name):\n",
        "                        df = pd.read_csv(file_name)\n",
        "                        max_profit = max(max_profit, df[\"Nouveau profit\"].max())\n",
        "                    else:\n",
        "                        print(f\"Fichier manquant: {file_name}\")\n",
        "\n",
        "        max_profits[nbPop] = max_profit\n",
        "\n",
        "    return max_profits"
      ]
    },
    {
      "cell_type": "code",
      "execution_count": null,
      "metadata": {
        "id": "DfFd-Xl5XmwF"
      },
      "outputs": [],
      "source": [
        "def extract_min_weight_from_nbPop(nbPop_list, nbGen_list, probaCross_list, nbBest_list):\n",
        "    min_weights = {}\n",
        "\n",
        "    for nbPop in nbPop_list:\n",
        "        min_weight = float('inf')\n",
        "\n",
        "        for nbGen in nbGen_list:\n",
        "            for probaCross in probaCross_list:\n",
        "                for nbBest in nbBest_list:\n",
        "                    file_name = f\"Resultats/NbPop{nbPop}_NbGen{nbGen}_ProbaCross{probaCross}_NbBest{nbBest}_resultats_algo_genetique1000_13.csv\"\n",
        "\n",
        "                    if os.path.exists(file_name):\n",
        "                        df = pd.read_csv(file_name)\n",
        "                        min_weight = min(min_weight, df[\"Nouveau Poids\"].min())\n",
        "                    else:\n",
        "                        print(f\"Fichier manquant: {file_name}\")\n",
        "\n",
        "        min_weights[nbPop] = min_weight\n",
        "\n",
        "    return min_weights"
      ]
    },
    {
      "cell_type": "code",
      "execution_count": null,
      "metadata": {
        "colab": {
          "base_uri": "https://localhost:8080/"
        },
        "id": "0J7hGY7WXmwG",
        "outputId": "ca9ad02d-61e3-4691-9085-1e89755d326e"
      },
      "outputs": [],
      "source": [
        "max_profits_nbPop = extract_max_profit_from_nbPop(nbPop_list, nbGen_list, probaCross_list, nbBest_list)\n",
        "print(max_profits_nbPop)"
      ]
    },
    {
      "cell_type": "code",
      "execution_count": null,
      "metadata": {
        "colab": {
          "base_uri": "https://localhost:8080/"
        },
        "id": "5me666rCXmwG",
        "outputId": "35f68911-702d-4b59-8889-dc8f1ed6da85"
      },
      "outputs": [],
      "source": [
        "min_weights_nbPop = extract_min_weight_from_nbPop(nbPop_list, nbGen_list, probaCross_list, nbBest_list)\n",
        "print(min_weights_nbPop)"
      ]
    },
    {
      "cell_type": "code",
      "execution_count": null,
      "metadata": {},
      "outputs": [],
      "source": [
        "y = probaCross_list\n",
        "y1 = [max_profits_probaCross[i] for i in y]\n",
        "y2 = [min_weights_probaCross[i] for i in y]\n",
        "\n",
        "plt.plot(y, y1, label='Meilleur profit')\n",
        "plt.plot(y, y2, label='Poids minimum')\n",
        "plt.xlabel('ProbaCross')\n",
        "plt.ylabel('Profit/Poids')\n",
        "plt.title('Profit max et poids min en fonction de ProbaCross')\n",
        "plt.legend()\n",
        "plt.grid()\n",
        "plt.show()"
      ]
    },
    {
      "cell_type": "code",
      "execution_count": null,
      "metadata": {},
      "outputs": [],
      "source": [
        "z = nbGen_list\n",
        "z1 = [max_profits_nbGen[i] for i in z]\n",
        "z2 = [min_weights_nbGen[i] for i in z]\n",
        "\n",
        "plt.plot(z, z1, label='Meilleur profit')\n",
        "plt.plot(z, z2, label='Poids minimum')\n",
        "plt.xlabel('NbGen')\n",
        "plt.ylabel('Profit/Poids')\n",
        "plt.title('Profit max et poids min en fonction de NbGen')\n",
        "plt.legend()\n",
        "plt.grid()\n",
        "plt.show()"
      ]
    },
    {
      "cell_type": "code",
      "execution_count": null,
      "metadata": {},
      "outputs": [],
      "source": [
        "k = nbBest_list\n",
        "k1 = [max_profits_nbBest[i] for i in k]\n",
        "k2 = [min_weights_nbBest[i] for i in k]\n",
        "\n",
        "plt.plot(k, k1, label='Meilleur profit')\n",
        "plt.plot(k, k2, label='Poids minimum')\n",
        "plt.xlabel('NbBest')\n",
        "plt.ylabel('Profit/Poids')\n",
        "plt.title('Profit max et poids min en fonction de NbBest')\n",
        "plt.legend()\n",
        "plt.grid()\n",
        "plt.show()"
      ]
    },
    {
      "cell_type": "code",
      "execution_count": null,
      "metadata": {},
      "outputs": [],
      "source": [
        "x = nbPop_list\n",
        "x1 = [max_profits_nbPop[i] for i in x]\n",
        "x2 = [min_weights_nbPop[i] for i in x]\n",
        "\n",
        "plt.plot(x, x1, label='Meilleur profit')\n",
        "plt.plot(x, x2, label='Poids minimum')\n",
        "plt.xlabel('NbPop')\n",
        "plt.ylabel('Profit/Poids')\n",
        "plt.title('Profit max et poids min en fonction de NbPop')\n",
        "plt.legend()\n",
        "plt.grid()\n",
        "plt.show()"
      ]
    },
    {
      "cell_type": "code",
      "execution_count": null,
      "metadata": {
        "id": "1gWLRW1wXmwG"
      },
      "outputs": [],
      "source": [
        "def find_optimal_solution(nbPop_list, nbGen_list, probaCross_list, nbBest_list, optimal_solution):\n",
        "\n",
        "    filenames = []\n",
        "    for nbPop in nbPop_list:\n",
        "        for nbGen in nbGen_list:\n",
        "          for probaCross in probaCross_list:\n",
        "            for nbBest in nbBest_list:\n",
        "                filename = f\"Resultats/NbPop{nbPop}_NbGen{nbGen}_ProbaCross{probaCross}_NbBest{nbBest}_resultats_algo_genetique1000_13.csv\"\n",
        "                if os.path.exists(filename):\n",
        "                    try:\n",
        "                        df = pd.read_csv(filename)\n",
        "                        if optimal_solution in df[\"Nouvelle solution\"].values:\n",
        "                            filenames.append(filename)\n",
        "                    except pd.errors.ParserError:\n",
        "                        print(f\"Warning: Could not parse file {filename}. Skipping.\")\n",
        "                else:\n",
        "                    print(f\"Fichier manquant: {filename}\")\n",
        "\n",
        "    return filenames\n"
      ]
    },
    {
      "cell_type": "code",
      "execution_count": null,
      "metadata": {
        "id": "r9z4Uh88XmwG"
      },
      "outputs": [],
      "source": [
        "def find_files_with_profit_and_weight(target_profit, target_weight, dossier=\"Resultats\"):\n",
        "    filenames = []\n",
        "\n",
        "    for filename in os.listdir(dossier):\n",
        "        if filename.startswith(\"NbPop\") and filename.endswith(\".csv\"):\n",
        "            filepath = os.path.join(dossier, filename)\n",
        "            try:\n",
        "                df = pd.read_csv(filepath)\n",
        "\n",
        "                if 'Nouveau profit' in df.columns and 'Nouveau Poids' in df.columns:\n",
        "                    condition = (df['Nouveau profit'] == target_profit) & (df['Nouveau Poids'] == target_weight)\n",
        "                    if any(condition):\n",
        "                        filenames.append(filename)\n",
        "            except Exception as e:\n",
        "                print(f\"Erreur avec le fichier {filename}: {e}\")\n",
        "\n",
        "    return filenames\n"
      ]
    },
    {
      "cell_type": "code",
      "execution_count": null,
      "metadata": {
        "id": "jVvAIl5QXmwG"
      },
      "outputs": [],
      "source": [
        "fichier_optimal = find_optimal_solution(nbPop_list, nbGen_list, probaCross_list, nbBest_list, best_solution_str)\n",
        "for f in fichier_optimal:\n",
        "  print(f) #aucun fichier contient la solution optimale en termes de choix d'objets"
      ]
    },
    {
      "cell_type": "code",
      "execution_count": null,
      "metadata": {
        "colab": {
          "base_uri": "https://localhost:8080/"
        },
        "id": "cDNXRMX-XmwG",
        "outputId": "048b7188-fbd2-4be8-eabd-c2665ec76098"
      },
      "outputs": [],
      "source": [
        "print(target_profit)\n",
        "print(target_weight)\n",
        "\n",
        "found_files = find_files_with_profit_and_weight(target_profit, target_weight)\n",
        "for f in found_files:\n",
        "  print(f)"
      ]
    },
    {
      "cell_type": "markdown",
      "metadata": {},
      "source": [
        "Executer uniquement si le resultat precedent n'est pas nul"
      ]
    },
    {
      "cell_type": "code",
      "execution_count": null,
      "metadata": {
        "id": "zKHZ1msxXmwG"
      },
      "outputs": [],
      "source": [
        "def analyze_files(found_files):\n",
        "    nbPop_counts = {}\n",
        "    nbGen_counts = {}\n",
        "    probaCross_counts = {}\n",
        "    nbBest_counts = {}\n",
        "\n",
        "    for file in found_files:\n",
        "      try:\n",
        "          df = pd.read_csv(file)\n",
        "\n",
        "          parts = file.split(\"_\")\n",
        "\n",
        "          pop_str = parts[0].split(\"NbPop\")[1]\n",
        "          nbPop_counts[int(pop_str)] = nbPop_counts.get(int(pop_str), 0) + 1\n",
        "\n",
        "          gen_str = parts[1].split(\"NbGen\")[1]\n",
        "          nbGen_counts[int(gen_str)] = nbGen_counts.get(int(gen_str), 0) + 1\n",
        "\n",
        "          probaCross_str = parts[2].split(\"ProbaCross\")[1]\n",
        "          probaCross_counts[float(probaCross_str)] = probaCross_counts.get(float(probaCross_str), 0) + 1\n",
        "\n",
        "          best_str = parts[3].split(\"NbBest\")[1]\n",
        "          nbBest_counts[int(best_str)] = nbBest_counts.get(int(best_str), 0) + 1\n",
        "      except pd.errors.ParserError:\n",
        "          print(f\"Fichier {file} non retrouve.\")\n",
        "\n",
        "    return nbPop_counts, nbGen_counts, probaCross_counts, nbBest_counts"
      ]
    },
    {
      "cell_type": "code",
      "execution_count": null,
      "metadata": {
        "colab": {
          "base_uri": "https://localhost:8080/"
        },
        "id": "084KC7grXmwG",
        "outputId": "d7740c2c-4511-437c-e101-86de1ad5ab18"
      },
      "outputs": [],
      "source": [
        "nbPop_dict, nbGen_dict, probaCross_dict, nbBest_dict = analyze_files(found_files)\n",
        "print(nbPop_dict)\n",
        "print(nbGen_dict)\n",
        "print(probaCross_dict)\n",
        "print(nbBest_dict)\n",
        "\n",
        "max_nbPop = max(nbPop_dict, key=nbPop_dict.get)\n",
        "print(\"Le nombre de population optimal est:\", max_nbPop)\n",
        "max_nbGen = max(nbGen_dict, key=nbGen_dict.get)\n",
        "print(\"Le nombre de génération optimal est:\", max_nbGen)\n",
        "max_probaCross = max(probaCross_dict, key=probaCross_dict.get)\n",
        "print(\"La probabilité de croisement optimale est:\", max_probaCross)\n",
        "max_nbBest = max(nbBest_dict, key=nbBest_dict.get)\n",
        "print(\"Le nombre de meilleures solutions optimal est:\", max_nbBest)"
      ]
    },
    {
      "cell_type": "markdown",
      "metadata": {
        "id": "gHtpTmtpkaz5"
      },
      "source": [
        "### Pi-13: n=10 000"
      ]
    },
    {
      "cell_type": "code",
      "execution_count": null,
      "metadata": {
        "id": "sSkWnRTTkkRQ"
      },
      "outputs": [],
      "source": [
        "file_pi13_n10000 = \"pi-13-10000-1000-001.kna\"\n",
        "\n",
        "def extract_data(file_path):\n",
        "  with open(file_path, 'r') as f:\n",
        "      content = f.readlines()\n",
        "      profit = []\n",
        "      weight = []\n",
        "      for i in range(7, len(content)):\n",
        "        profit.append(content[i].split(\" \")[1])\n",
        "        weight.append(content[i].split(\" \")[2].split(\"\\n\")[0])\n",
        "  return profit, weight"
      ]
    },
    {
      "cell_type": "code",
      "execution_count": null,
      "metadata": {
        "colab": {
          "base_uri": "https://localhost:8080/"
        },
        "id": "p5-jwKM2kkRQ",
        "outputId": "58130c04-24e0-417a-d93a-0648ee29f83c"
      },
      "outputs": [],
      "source": [
        "profits_pi13_n10000, weights_pi13_n10000 = extract_data(file_pi13_n10000)\n",
        "profits_pi13_n10000 = [int(i) for i in profits_pi13_n10000]\n",
        "weights_pi13_n10000 = [int(i) for i in weights_pi13_n10000]\n",
        "print(profits_pi13_n10000)\n",
        "print(weights_pi13_n10000)"
      ]
    },
    {
      "cell_type": "code",
      "execution_count": null,
      "metadata": {
        "id": "R0-Q64DZkkRR"
      },
      "outputs": [],
      "source": [
        "def extract_info(file_path):\n",
        "  with open(file_path, 'r') as f:\n",
        "      content = f.readlines()\n",
        "      content_line4 = content[3].split(\"NB_ITEMS: \")\n",
        "      nb_items = content_line4[1].split(\"\\n\")[0]\n",
        "      content_line5 = content[4].split(\"MAX_CAPACITY: \")\n",
        "      max_capacity = content_line5[1].split(\"\\n\")[0]\n",
        "      max_capacity = int(max_capacity)\n",
        "\n",
        "\n",
        "  return int(nb_items), int(max_capacity)"
      ]
    },
    {
      "cell_type": "code",
      "execution_count": null,
      "metadata": {
        "colab": {
          "base_uri": "https://localhost:8080/"
        },
        "id": "uOMFFzn-kkRR",
        "outputId": "3ef42c9a-c2dc-4274-e934-38c0b71c11ba"
      },
      "outputs": [],
      "source": [
        "nb_items_pi13_n10000, max_capacity_pi13_n10000 = extract_info(file_pi13_n10000)\n",
        "print(nb_items_pi13_n10000)\n",
        "print(max_capacity_pi13_n10000)"
      ]
    },
    {
      "cell_type": "code",
      "execution_count": null,
      "metadata": {
        "id": "gUqwT6hNkkRR"
      },
      "outputs": [],
      "source": [
        "def calculate_profit(\n",
        "    solution: str,\n",
        "    profits: list\n",
        "  ):\n",
        "\n",
        "  profit = 0\n",
        "  for i in range(len(solution)):\n",
        "    if solution[i] == \"1\":\n",
        "      profit += int(profits[i])\n",
        "\n",
        "  return profit"
      ]
    },
    {
      "cell_type": "code",
      "execution_count": null,
      "metadata": {
        "id": "uM6F3mhNkkRR"
      },
      "outputs": [],
      "source": [
        "def calculate_weight(\n",
        "    solution: str,\n",
        "    weights: list\n",
        "  ):\n",
        "\n",
        "  weight = 0\n",
        "  for i in range(len(solution)):\n",
        "    if solution[i] == \"1\":\n",
        "      weight += int(weights[i])\n",
        "\n",
        "  return weight"
      ]
    },
    {
      "cell_type": "markdown",
      "metadata": {
        "id": "vB9tCuo_kkRR"
      },
      "source": [
        "#### Création d'une solution valide (pas forcément optimale):\n",
        "-->Ajouter des items aléatoirement dans le sac à dos jusqu'à arriver au poids maximal."
      ]
    },
    {
      "cell_type": "code",
      "execution_count": null,
      "metadata": {
        "id": "c2EZRL82kkRR"
      },
      "outputs": [],
      "source": [
        "import random\n",
        "\n",
        "def gen_valid_solution(max_capacity, weights, nb_items):\n",
        "    sol = []  #liste pour stocker la solution binaire\n",
        "    current_capacity = 0\n",
        "\n",
        "    for i in range(nb_items):\n",
        "        if current_capacity >= max_capacity:\n",
        "            sol.append(\"0\")  # Si on atteint la limite, on met \"0\"\n",
        "        else:\n",
        "            bit = random.choice([\"0\", \"1\"])\n",
        "            if bit == \"1\" and current_capacity + weights[i] > max_capacity:\n",
        "                bit = \"0\"  # On force un \"0\" si ajouter 1 dépasse la capacité\n",
        "            sol.append(bit)\n",
        "            if bit == \"1\":\n",
        "                current_capacity += weights[i]  # Mise à jour du poids\n",
        "\n",
        "    return \"\".join(sol)\n"
      ]
    },
    {
      "cell_type": "code",
      "execution_count": null,
      "metadata": {
        "colab": {
          "base_uri": "https://localhost:8080/"
        },
        "id": "OEDPPb-pkkRR",
        "outputId": "a24f4547-1d42-42cb-c1bb-3fb883c4b89c"
      },
      "outputs": [],
      "source": [
        "print(\"Poids à ne pas dépasser: \",max_capacity_pi13_n10000)\n",
        "a_solution = gen_valid_solution(max_capacity_pi13_n10000, weights_pi13_n10000, nb_items_pi13_n10000)\n",
        "print(\"Une solution valide est: \", a_solution)\n",
        "print(\"Le profit de cette solution est: \", calculate_profit(a_solution, profits_pi13_n10000))\n",
        "print(\"Le poids total de cette solution est: \", calculate_weight(a_solution, weights_pi13_n10000))"
      ]
    },
    {
      "cell_type": "markdown",
      "metadata": {
        "id": "j6aZRQCjGQEU"
      },
      "source": [
        "#### La solution optimale avec un solver"
      ]
    },
    {
      "cell_type": "code",
      "execution_count": null,
      "metadata": {
        "colab": {
          "base_uri": "https://localhost:8080/"
        },
        "id": "w3opnnqqGQEV",
        "outputId": "6ba95ac1-f13b-499f-b3a9-df8aa7c39adb"
      },
      "outputs": [],
      "source": [
        "from ortools.linear_solver import pywraplp\n",
        "import numpy as np\n",
        "import time\n",
        "\n",
        "def solve_knapsack(profits, weights, capacity_max):\n",
        "\n",
        "    solver = pywraplp.Solver.CreateSolver('SCIP')\n",
        "    if not solver:\n",
        "        print(\"Solveur non disponible.\")\n",
        "        return None, None\n",
        "\n",
        "    n = len(profits)\n",
        "\n",
        "    x = [solver.BoolVar(f'x_{i}') for i in range(n)]\n",
        "\n",
        "    # Ajout de la contrainte de capacité\n",
        "    solver.Add(solver.Sum(weights[i] * x[i] for i in range(n)) <= capacity_max)\n",
        "\n",
        "    # Définition de la fonction objectif : Maximiser le profit total\n",
        "    solver.Maximize(solver.Sum(profits[i] * x[i] for i in range(n)))\n",
        "\n",
        "    # Résolution du problème\n",
        "    status = solver.Solve()\n",
        "\n",
        "    if status == pywraplp.Solver.OPTIMAL:\n",
        "        # Extraction de la solution optimale\n",
        "        best_solution = [int(x[i].solution_value()) for i in range(n)]\n",
        "        best_profit = solver.Objective().Value()\n",
        "        return best_solution, best_profit\n",
        "    else:\n",
        "        print(\"Aucune solution optimale trouvée.\")\n",
        "        return None, None\n",
        "time1 = time.time()\n",
        "\n",
        "best_solution, best_profit = solve_knapsack(profits_pi13_n10000, weights_pi13_n10000, max_capacity_pi13_n10000)\n",
        "\n",
        "target_profit = best_profit\n",
        "target_weight = sum(weights_pi13_n10000[i] for i in range(len(best_solution)) if best_solution[i] == 1)\n",
        "if best_solution:\n",
        "    print(\"Meilleure solution trouvée :\", best_solution)\n",
        "    print(\"Meilleur profit :\", target_profit)\n",
        "    print(\"Poids atteint :\", target_weight)\n",
        "\n",
        "\n",
        "indice = np.where(np.array(best_solution) == 1)[0]\n",
        "print(indice)\n",
        "time2 = time.time()\n",
        "temps_exec10000 = time2 - time1\n",
        "temps_solver.append(temps_exec10000)\n",
        "print(\"Temps d'exécution : \", temps_exec10000)\n",
        "print(temps_solver)"
      ]
    },
    {
      "cell_type": "code",
      "execution_count": null,
      "metadata": {
        "colab": {
          "base_uri": "https://localhost:8080/"
        },
        "id": "V8BpSGRg1EGj",
        "outputId": "acfde055-1856-42f6-ba17-632e92f44f1b"
      },
      "outputs": [],
      "source": [
        "best_solution_str = \"\".join(map(str, best_solution))\n",
        "print(\"Meilleure solution trouvée (string):\", best_solution_str)"
      ]
    },
    {
      "cell_type": "markdown",
      "metadata": {
        "id": "Nxr7yKBPkkRS"
      },
      "source": [
        "#### Métaheuristique 1 - Recuit simulé"
      ]
    },
    {
      "cell_type": "code",
      "execution_count": null,
      "metadata": {
        "colab": {
          "base_uri": "https://localhost:8080/"
        },
        "id": "4Rr2MtlrkkRT",
        "outputId": "64c46a36-4c04-4e89-99b0-3468a1fd9a3a"
      },
      "outputs": [],
      "source": [
        "# Test du recuit simulé\n",
        "\n",
        "print(\"Poids à ne pas dépasser:\", max_capacity_pi13_n10000)\n",
        "initial_solution = gen_valid_solution(max_capacity_pi13_n10000, weights_pi13_n10000, nb_items_pi13_n10000)\n",
        "\n",
        "print(\"Solution initiale choisie aléatoirement: \",initial_solution)\n",
        "print(\"Son profit actuel:\",calculate_profit(initial_solution, profits_pi13_n10000))\n",
        "print(\"Son poids actuel:\",calculate_weight(initial_solution, weights_pi13_n10000))\n",
        "print()\n",
        "\n",
        "temperature = 1000\n",
        "cooling_rate = 0.95\n",
        "\n",
        "best_sol, best_prof, iterations = simulated_annealing(initial_solution, max_capacity_pi13_n10000, profits_pi13_n10000, weights_pi13_n10000, temperature, cooling_rate)\n",
        "print(\"Meilleure solution trouvée :\", best_sol)\n",
        "print(\"Meilleur profit :\", best_prof)\n",
        "print(\"Poids atteind :\", calculate_weight(best_sol, weights_pi13_n10000))\n",
        "print(f\"Solution trouvée en {iterations} itérations\")\n"
      ]
    },
    {
      "cell_type": "markdown",
      "metadata": {
        "id": "SVZgHxqYkkRT"
      },
      "source": [
        "#### Tests\n"
      ]
    },
    {
      "cell_type": "code",
      "execution_count": null,
      "metadata": {
        "id": "-fZDNI7cHJzc"
      },
      "outputs": [],
      "source": [
        "import pandas as pd\n",
        "import time\n",
        "\n",
        "def test_recuit_simule(temperature, cooling_rate, max_capacity, profits, weights, nb_items):\n",
        "    results = []\n",
        "\n",
        "    # Générer une solution initiale valide\n",
        "    initial_solution = gen_valid_solution(max_capacity, weights, nb_items)\n",
        "    initial_profit = calculate_profit(initial_solution, profits)\n",
        "    initial_weight = calculate_weight(initial_solution, weights)\n",
        "\n",
        "    # Démarrer le chronomètre\n",
        "    start_time = time.time()\n",
        "\n",
        "    # Appliquer le recuit simulé\n",
        "    best_solution, best_profit, iterations = simulated_annealing(\n",
        "        initial_solution, max_capacity, profits, weights, temperature, cooling_rate\n",
        "    )\n",
        "\n",
        "    # Arrêter le chronomètre\n",
        "    end_time = time.time()\n",
        "    execution_time = end_time - start_time  # Temps en secondes\n",
        "\n",
        "    best_weight = calculate_weight(best_solution, weights)\n",
        "    nb_objects = 0\n",
        "    for i in range(len(best_solution)):\n",
        "      if best_solution[i] == \"1\":\n",
        "        nb_objects += 1\n",
        "\n",
        "    # Enregistrement des résultats\n",
        "    results.append({\n",
        "        \"Solution initiale\": initial_solution,\n",
        "        \"Profit initial\": initial_profit,\n",
        "        \"Poids initial\": initial_weight,\n",
        "        \"Temperature\": temperature,\n",
        "        \"Cooling Rate\": cooling_rate,\n",
        "        \"Nouvelle solution\": best_solution,\n",
        "        \"Nouveau profit\": best_profit,\n",
        "        \"Nouveau Poids\": best_weight,\n",
        "        \"Nb Itérations\": iterations,\n",
        "        \"Nb objets\": nb_objects,\n",
        "        \"Temps (s)\": execution_time\n",
        "    })\n",
        "\n",
        "    # Convertir en DataFrame pandas\n",
        "    df = pd.DataFrame(results)\n",
        "\n",
        "    return df"
      ]
    },
    {
      "cell_type": "code",
      "execution_count": null,
      "metadata": {
        "colab": {
          "base_uri": "https://localhost:8080/"
        },
        "id": "Z7P85AwAHJzc",
        "outputId": "8f83acc2-a6f3-4251-ee49-8beec73e7130"
      },
      "outputs": [],
      "source": [
        "temperatures = [100, 200, 500, 700, 1000, 2000, 5000, 7000, 10000]\n",
        "cooling_rates = [round(0.85 + i * 0.01, 2) for i in range(15)] # pour [0.85, 0.86, ..., 0.99]\n",
        "\n",
        "'''for temperature in temperatures:\n",
        "    for cooling_rate in cooling_rates:\n",
        "        print(f\"Temp {temperature}\\nCooling rate {cooling_rate}\")\n",
        "        test = test_recuit_simule(temperature, cooling_rate, max_capacity_pi13_n10000, profits_pi13_n10000, weights_pi13_n10000, nb_items_pi13_n10000)\n",
        "        test.to_csv(f\"Resultats/Temp{temperature}_CR{cooling_rate}resultats_recuit_simule{nb_items_pi13_n10000}_13.csv\", index=False)\n",
        "'''"
      ]
    },
    {
      "cell_type": "code",
      "execution_count": null,
      "metadata": {
        "id": "cVarXoS9HJzd"
      },
      "outputs": [],
      "source": [
        "import pandas as pd\n",
        "import matplotlib.pyplot as plt\n",
        "import os\n",
        "\n",
        "def extract_max_profit_from_temp(temperatures, cooling_rates):\n",
        "    max_profits = {}\n",
        "\n",
        "    for temperature in temperatures:\n",
        "        max_profit = float('-inf')\n",
        "\n",
        "        for cooling_rate in cooling_rates:\n",
        "            file_name = f\"Resultats/Temp{temperature}_CR{cooling_rate}resultats_recuit_simule10000_13.csv\"\n",
        "\n",
        "            if os.path.exists(file_name):\n",
        "                df = pd.read_csv(file_name)\n",
        "                max_profit = max(max_profit, df[\"Nouveau profit\"].max())\n",
        "            else:\n",
        "                print(f\"Fichier manquant: {file_name}\")\n",
        "\n",
        "        max_profits[temperature] = max_profit\n",
        "\n",
        "    return max_profits\n"
      ]
    },
    {
      "cell_type": "code",
      "execution_count": null,
      "metadata": {
        "id": "sHy-Tlm3HJzd"
      },
      "outputs": [],
      "source": [
        "import pandas as pd\n",
        "import os\n",
        "\n",
        "def extract_max_profit_from_CR(temperatures, cooling_rates):\n",
        "    max_profits = {}\n",
        "\n",
        "    for cooling_rate in cooling_rates:\n",
        "        max_profit = float('-inf')\n",
        "\n",
        "        for temperature in temperatures:\n",
        "            file_name = f\"Resultats/Temp{temperature}_CR{cooling_rate}resultats_recuit_simule10000_13.csv\"\n",
        "\n",
        "            if os.path.exists(file_name):\n",
        "                df = pd.read_csv(file_name)\n",
        "                current_max = df[\"Nouveau profit\"].max()\n",
        "                max_profit = max(max_profit, current_max)\n",
        "            else:\n",
        "                print(f\"Fichier manquant: {file_name}\")\n",
        "\n",
        "        max_profits[cooling_rate] = max_profit if max_profit != float('-inf') else None\n",
        "\n",
        "    return max_profits\n"
      ]
    },
    {
      "cell_type": "code",
      "execution_count": null,
      "metadata": {
        "colab": {
          "base_uri": "https://localhost:8080/"
        },
        "id": "hM6hhVuDHJzd",
        "outputId": "e0227f62-f4fc-41c5-d9aa-9824df2f3fe0"
      },
      "outputs": [],
      "source": [
        "max_profits_temp = extract_max_profit_from_temp(temperatures, cooling_rates)\n",
        "print(max_profits_temp)"
      ]
    },
    {
      "cell_type": "code",
      "execution_count": null,
      "metadata": {
        "colab": {
          "base_uri": "https://localhost:8080/"
        },
        "id": "EFesrY-OHJzd",
        "outputId": "13860b6f-9389-4f6e-d58e-c8ed75893e78"
      },
      "outputs": [],
      "source": [
        "max_profits_CR = extract_max_profit_from_CR(temperatures, cooling_rates)\n",
        "print(max_profits_CR)"
      ]
    },
    {
      "cell_type": "code",
      "execution_count": null,
      "metadata": {
        "id": "k30QUH4yHJzd"
      },
      "outputs": [],
      "source": [
        "import pandas as pd\n",
        "import matplotlib.pyplot as plt\n",
        "import os\n",
        "\n",
        "def extract_min_weight_from_temp(temperatures, cooling_rates):\n",
        "    min_weights = {}\n",
        "\n",
        "    for temperature in temperatures:\n",
        "        min_weight = float('inf')\n",
        "\n",
        "        for cooling_rate in cooling_rates:\n",
        "            file_name = f\"Resultats/Temp{temperature}_CR{cooling_rate}resultats_recuit_simule10000_13.csv\"\n",
        "\n",
        "            if os.path.exists(file_name):\n",
        "                df = pd.read_csv(file_name)\n",
        "                min_weight = min(min_weight, df[\"Nouveau Poids\"].min())\n",
        "            else:\n",
        "                print(f\"Warning: File {file_name} not found.\")\n",
        "\n",
        "        min_weights[temperature] = min_weight\n",
        "\n",
        "    return min_weights"
      ]
    },
    {
      "cell_type": "code",
      "execution_count": null,
      "metadata": {
        "id": "AG6cnkQCHJzd"
      },
      "outputs": [],
      "source": [
        "def extract_min_weight_from_CR(temperatures, cooling_rates):\n",
        "    min_weights = {}\n",
        "\n",
        "    for cooling_rate in cooling_rates:\n",
        "        min_weight = float('inf')\n",
        "\n",
        "        for temperature in temperatures:\n",
        "            filename = f\"Resultats/Temp{temperature}_CR{cooling_rate}resultats_recuit_simule10000_13.csv\"\n",
        "\n",
        "            if os.path.exists(filename):\n",
        "                df = pd.read_csv(filename)\n",
        "                min_weight = min(min_weight, df[\"Nouveau Poids\"].min())\n",
        "            else:\n",
        "                print(f\"Fichier manquant: {filename}\")\n",
        "\n",
        "        min_weights[cooling_rate] = min_weight\n",
        "\n",
        "    return min_weights\n"
      ]
    },
    {
      "cell_type": "code",
      "execution_count": null,
      "metadata": {
        "colab": {
          "base_uri": "https://localhost:8080/"
        },
        "id": "g-kcA0F_HJzd",
        "outputId": "42f9ab85-ed90-4bdf-b2f9-84fb35055dfe"
      },
      "outputs": [],
      "source": [
        "min_weights_temp = extract_min_weight_from_temp(temperatures, cooling_rates)\n",
        "print(min_weights_temp)"
      ]
    },
    {
      "cell_type": "code",
      "execution_count": null,
      "metadata": {
        "colab": {
          "base_uri": "https://localhost:8080/"
        },
        "id": "5FsK2TtHHJzd",
        "outputId": "8710165a-bed0-4be6-893f-8ba98d48fc7d"
      },
      "outputs": [],
      "source": [
        "min_weights_CR = extract_min_weight_from_CR(temperatures, cooling_rates)\n",
        "print(min_weights_CR)"
      ]
    },
    {
      "cell_type": "code",
      "execution_count": null,
      "metadata": {
        "id": "eMXc1-apHJzd"
      },
      "outputs": [],
      "source": [
        "import pandas as pd\n",
        "import matplotlib.pyplot as plt\n",
        "import os\n",
        "\n",
        "def extract_min_object_from_temp(temperatures, cooling_rates):\n",
        "    min_objects = {}\n",
        "\n",
        "    for temperature in temperatures:\n",
        "        min_object = float('inf')\n",
        "\n",
        "        for cooling_rate in cooling_rates:\n",
        "            file_name = f\"Resultats/Temp{temperature}_CR{cooling_rate}resultats_recuit_simule10000_13.csv\"\n",
        "\n",
        "            if os.path.exists(file_name):\n",
        "                df = pd.read_csv(file_name)\n",
        "                min_object = min(min_object, df[\"Nb objets\"].min())\n",
        "            else:\n",
        "                print(f\"Fichier manquant: {file_name}\")\n",
        "\n",
        "        min_objects[temperature] = min_object\n",
        "\n",
        "    return min_objects"
      ]
    },
    {
      "cell_type": "code",
      "execution_count": null,
      "metadata": {
        "id": "barKj6WuHJzd"
      },
      "outputs": [],
      "source": [
        "import pandas as pd\n",
        "import os\n",
        "\n",
        "def extract_min_object_from_CR(temperatures, cooling_rates):\n",
        "    min_objects = {}\n",
        "\n",
        "    for cooling_rate in cooling_rates:\n",
        "        min_object = float('inf')\n",
        "\n",
        "        for temperature in temperatures:\n",
        "            file_name = f\"Resultats/Temp{temperature}_CR{cooling_rate}resultats_recuit_simule10000_13.csv\"\n",
        "\n",
        "            if os.path.exists(file_name):\n",
        "                df = pd.read_csv(file_name)\n",
        "                current_min = df[\"Nb objets\"].min()\n",
        "                min_object = min(min_object, current_min)\n",
        "            else:\n",
        "                print(f\"Fichier manquant: {file_name}\")\n",
        "\n",
        "        if min_object != float('inf'):\n",
        "            min_objects[cooling_rate] = min_object\n",
        "        else:\n",
        "            min_objects[cooling_rate] = None\n",
        "\n",
        "    return min_objects\n"
      ]
    },
    {
      "cell_type": "code",
      "execution_count": null,
      "metadata": {
        "id": "Ga8m-9UYHJzd"
      },
      "outputs": [],
      "source": [
        "import pandas as pd\n",
        "import matplotlib.pyplot as plt\n",
        "import os\n",
        "\n",
        "def extract_max_object_from_temp(temperatures, cooling_rates):\n",
        "    max_objects = {}\n",
        "\n",
        "    for temperature in temperatures:\n",
        "        max_object = float('-inf')\n",
        "\n",
        "        for cooling_rate in cooling_rates:\n",
        "            file_name = f\"Resultats/Temp{temperature}_CR{cooling_rate}resultats_recuit_simule10000_13.csv\"\n",
        "\n",
        "            if os.path.exists(file_name):\n",
        "                df = pd.read_csv(file_name)\n",
        "                max_object = max(max_object, df[\"Nb objets\"].max())\n",
        "            else:\n",
        "                print(f\"Fichier manquant: {file_name}\")\n",
        "\n",
        "        max_objects[temperature] = max_object\n",
        "\n",
        "    return max_objects"
      ]
    },
    {
      "cell_type": "code",
      "execution_count": null,
      "metadata": {
        "id": "z1SyPillHJzd"
      },
      "outputs": [],
      "source": [
        "import pandas as pd\n",
        "import os\n",
        "\n",
        "def extract_max_object_from_CR(temperatures, cooling_rates):\n",
        "    max_objects = {}\n",
        "\n",
        "    for cooling_rate in cooling_rates:\n",
        "        max_object = float('-inf')\n",
        "\n",
        "        for temperature in temperatures:\n",
        "            file_name = f\"Resultats/Temp{temperature}_CR{cooling_rate}resultats_recuit_simule10000_13.csv\"\n",
        "\n",
        "            if os.path.exists(file_name):\n",
        "                df = pd.read_csv(file_name)\n",
        "                current_max = df[\"Nb objets\"].max()\n",
        "                max_object = max(max_object, current_max)\n",
        "            else:\n",
        "                print(f\"Fichier manquant: {file_name}\")\n",
        "\n",
        "        if max_object != float('-inf'):\n",
        "            max_objects[cooling_rate] = max_object\n",
        "        else:\n",
        "            max_objects[cooling_rate] = None\n",
        "\n",
        "    return max_objects\n"
      ]
    },
    {
      "cell_type": "code",
      "execution_count": null,
      "metadata": {
        "colab": {
          "base_uri": "https://localhost:8080/"
        },
        "id": "Ez1h4EQxHJze",
        "outputId": "8f6020e4-6fe8-4c82-959f-a1984bc09ac7"
      },
      "outputs": [],
      "source": [
        "max_objects_temp = extract_max_object_from_temp(temperatures, cooling_rates)\n",
        "print(max_objects_temp)\n",
        "min_objects_temp = extract_min_object_from_temp(temperatures, cooling_rates)\n",
        "print(min_objects_temp)"
      ]
    },
    {
      "cell_type": "code",
      "execution_count": null,
      "metadata": {
        "colab": {
          "base_uri": "https://localhost:8080/"
        },
        "id": "tdOxr2clHJze",
        "outputId": "2205cc9a-432c-40c4-fc7a-41d796b7980e"
      },
      "outputs": [],
      "source": [
        "max_objects_CR = extract_max_object_from_CR(temperatures, cooling_rates)\n",
        "print(max_objects_CR)\n",
        "min_objects_CR = extract_min_object_from_CR(temperatures, cooling_rates)\n",
        "print(min_objects_CR)"
      ]
    },
    {
      "cell_type": "code",
      "execution_count": null,
      "metadata": {
        "id": "rEUwKObZHJze"
      },
      "outputs": [],
      "source": [
        "import pandas as pd\n",
        "import matplotlib.pyplot as plt\n",
        "import os\n",
        "\n",
        "def extract_max_iterations_from_temp(temperatures, cooling_rates):\n",
        "    max_iterations = {}\n",
        "\n",
        "    for temperature in temperatures:\n",
        "        max_iteration = float('-inf')\n",
        "\n",
        "        for cooling_rate in cooling_rates:\n",
        "            file_name = f\"Resultats/Temp{temperature}_CR{cooling_rate}resultats_recuit_simule10000_13.csv\"\n",
        "\n",
        "            if os.path.exists(file_name):\n",
        "                df = pd.read_csv(file_name)\n",
        "                max_iteration = max(max_iteration, df[\"Nb Itérations\"].max())\n",
        "            else:\n",
        "                print(f\"Fichier manquant: {file_name}\")\n",
        "\n",
        "        max_iterations[temperature] = max_iteration\n",
        "\n",
        "    return max_iterations"
      ]
    },
    {
      "cell_type": "code",
      "execution_count": null,
      "metadata": {
        "id": "wEgeYBRsHJze"
      },
      "outputs": [],
      "source": [
        "import pandas as pd\n",
        "import os\n",
        "\n",
        "def extract_max_iterations_from_CR(temperatures, cooling_rates):\n",
        "    max_iterations = {}\n",
        "\n",
        "    for cooling_rate in cooling_rates:\n",
        "        max_iteration = float('-inf')\n",
        "\n",
        "        for temperature in temperatures:\n",
        "            file_name = f\"Resultats/Temp{temperature}_CR{cooling_rate}resultats_recuit_simule10000_13.csv\"\n",
        "\n",
        "            if os.path.exists(file_name):\n",
        "                df = pd.read_csv(file_name)\n",
        "                current_max = df[\"Nb Itérations\"].max()\n",
        "                max_iteration = max(max_iteration, current_max)\n",
        "            else:\n",
        "                print(f\"Fichier manquant: {file_name}\")\n",
        "\n",
        "        if max_iteration != float('-inf'):\n",
        "            max_iterations[cooling_rate] = max_iteration\n",
        "        else:\n",
        "            max_iterations[cooling_rate] = None\n",
        "\n",
        "    return max_iterations\n"
      ]
    },
    {
      "cell_type": "code",
      "execution_count": null,
      "metadata": {
        "colab": {
          "base_uri": "https://localhost:8080/"
        },
        "id": "JqTQMOKiHJze",
        "outputId": "056ad9d1-1b5e-4120-81d0-103aded166d8"
      },
      "outputs": [],
      "source": [
        "max_iterations_temp = extract_max_iterations_from_temp(temperatures, cooling_rates)\n",
        "print(max_iterations_temp)"
      ]
    },
    {
      "cell_type": "code",
      "execution_count": null,
      "metadata": {
        "colab": {
          "base_uri": "https://localhost:8080/"
        },
        "id": "s0afAeQeHJze",
        "outputId": "bebb885f-c453-43d2-c415-1475ec1726d6"
      },
      "outputs": [],
      "source": [
        "max_iterations_CR = extract_max_iterations_from_CR(temperatures, cooling_rates)\n",
        "print(max_iterations_CR)"
      ]
    },
    {
      "cell_type": "code",
      "execution_count": null,
      "metadata": {
        "id": "2Mu0wTeBHJze"
      },
      "outputs": [],
      "source": [
        "import pandas as pd\n",
        "import matplotlib.pyplot as plt\n",
        "import os\n",
        "\n",
        "def extract_max_time_from_temp(temperatures, cooling_rates):\n",
        "    max_times = {}\n",
        "\n",
        "    for temperature in temperatures:\n",
        "        max_time = float('-inf')\n",
        "\n",
        "        for cooling_rate in cooling_rates:\n",
        "            file_name = f\"Resultats/Temp{temperature}_CR{cooling_rate}resultats_recuit_simule10000_13.csv\"\n",
        "\n",
        "            if os.path.exists(file_name):\n",
        "                df = pd.read_csv(file_name)\n",
        "                max_time = max(max_time, df[\"Temps (s)\"].max())\n",
        "            else:\n",
        "                print(f\"Fichier manquant: {file_name}\")\n",
        "\n",
        "        max_times[temperature] = max_time\n",
        "\n",
        "    return max_times"
      ]
    },
    {
      "cell_type": "code",
      "execution_count": null,
      "metadata": {
        "id": "B_Jl3mWcHJze"
      },
      "outputs": [],
      "source": [
        "import pandas as pd\n",
        "import os\n",
        "\n",
        "def extract_max_time_from_CR(temperatures, cooling_rates):\n",
        "    max_times = {}\n",
        "\n",
        "    for cooling_rate in cooling_rates:\n",
        "        max_time = float('-inf')\n",
        "\n",
        "        for temperature in temperatures:\n",
        "            file_name = f\"Resultats/Temp{temperature}_CR{cooling_rate}resultats_recuit_simule10000_13.csv\"\n",
        "\n",
        "            if os.path.exists(file_name):\n",
        "                df = pd.read_csv(file_name)\n",
        "                current_max = df[\"Temps (s)\"].max()\n",
        "                max_time = max(max_time, current_max)\n",
        "            else:\n",
        "                print(f\"Fichier manquant: {file_name}\")\n",
        "\n",
        "        if max_time != float('-inf'):\n",
        "            max_times[cooling_rate] = max_time\n",
        "        else:\n",
        "            max_times[cooling_rate] = None\n",
        "\n",
        "    return max_times\n"
      ]
    },
    {
      "cell_type": "code",
      "execution_count": null,
      "metadata": {
        "colab": {
          "base_uri": "https://localhost:8080/"
        },
        "id": "7gZJWS-HHJze",
        "outputId": "1e09f6a4-e593-461f-98fe-52d4a8184c77"
      },
      "outputs": [],
      "source": [
        "max_time_temp = extract_max_time_from_temp(temperatures, cooling_rates)\n",
        "print(max_time_temp)"
      ]
    },
    {
      "cell_type": "code",
      "execution_count": null,
      "metadata": {
        "colab": {
          "base_uri": "https://localhost:8080/"
        },
        "id": "uu2mzNxHHJze",
        "outputId": "265573b7-15b6-4b3b-e220-b7d0982bb711"
      },
      "outputs": [],
      "source": [
        "max_time_CR = extract_max_time_from_CR(temperatures, cooling_rates)\n",
        "print(max_time_CR)"
      ]
    },
    {
      "cell_type": "code",
      "execution_count": null,
      "metadata": {
        "colab": {
          "base_uri": "https://localhost:8080/",
          "height": 473
        },
        "id": "r4qxces4HJze",
        "outputId": "d2ae465b-dca5-402a-9d67-7e6bf26a58f1"
      },
      "outputs": [],
      "source": [
        "# Dessiner les graphiques\n",
        "\n",
        "x = temperatures\n",
        "y1 = [max_profits_temp[temp] for temp in temperatures]\n",
        "y2 = [min_weights_temp[temp] for temp in temperatures]\n",
        "\n",
        "plt.plot(x, y1, label='Meilleur profit')\n",
        "plt.plot(x, y2, label='Poids minimum')\n",
        "plt.xlabel('Température')\n",
        "plt.ylabel('Profit/Poids')\n",
        "plt.title('Profit max et poids min en fonction de la température')\n",
        "plt.legend()\n",
        "plt.grid()\n",
        "plt.show()"
      ]
    },
    {
      "cell_type": "code",
      "execution_count": null,
      "metadata": {
        "colab": {
          "base_uri": "https://localhost:8080/",
          "height": 472
        },
        "id": "ser-IyO1HJze",
        "outputId": "11210809-708b-4c49-897c-e9ae121e59ae"
      },
      "outputs": [],
      "source": [
        "z = cooling_rates\n",
        "z1 = [max_profits_CR[cr] for cr in cooling_rates]\n",
        "z2 = [min_weights_CR[cr] for cr in cooling_rates]\n",
        "\n",
        "plt.plot(z, z1, label='Meilleur profit')\n",
        "plt.plot(z, z2, label='Poids minimum')\n",
        "plt.xlabel('Facteur de refroidissement')\n",
        "plt.ylabel('Profit/Poids')\n",
        "plt.title('Profit max et poids min en fonction du facteur de refroidissement')\n",
        "plt.legend()\n",
        "plt.grid()\n",
        "plt.show()"
      ]
    },
    {
      "cell_type": "code",
      "execution_count": null,
      "metadata": {
        "colab": {
          "base_uri": "https://localhost:8080/",
          "height": 473
        },
        "id": "ykVgJHlYHJzf",
        "outputId": "bbbf130a-e797-498f-b626-7fdb7232b47a"
      },
      "outputs": [],
      "source": [
        "y3 = [min_objects_temp[temp] for temp in temperatures]\n",
        "y4 = [max_objects_temp[temp] for temp in temperatures]\n",
        "\n",
        "plt.plot(x, y3, label='Nombre d\\'objets minimum')\n",
        "plt.plot(x, y4, label='Nombre d\\'objets maximum')\n",
        "plt.title(\"Nombre d'objets max et min en fonction de la température\")\n",
        "plt.xlabel('Température')\n",
        "plt.ylabel(\"Nb d'objets min et max\")\n",
        "plt.legend()\n",
        "plt.grid()\n",
        "plt.show()"
      ]
    },
    {
      "cell_type": "code",
      "execution_count": null,
      "metadata": {
        "colab": {
          "base_uri": "https://localhost:8080/",
          "height": 472
        },
        "id": "oJQ0AqLrHJzf",
        "outputId": "2009b4a5-9e85-488e-fa45-ab16b8296831"
      },
      "outputs": [],
      "source": [
        "z3 = [min_objects_CR[cr] for cr in cooling_rates]\n",
        "z4 = [max_objects_CR[cr] for cr in cooling_rates]\n",
        "\n",
        "plt.plot(z, z3, label='Nombre d\\'objets minimum')\n",
        "plt.plot(z, z4, label='Nombre d\\'objets maximum')\n",
        "plt.title(\"Nombre d'objets max et min en fonction du facteur de refroidissement\")\n",
        "plt.xlabel('Facteur de refroidissement')\n",
        "plt.ylabel(\"Nb d'objets min et max\")\n",
        "plt.legend()\n",
        "plt.grid()\n",
        "plt.show()"
      ]
    },
    {
      "cell_type": "code",
      "execution_count": null,
      "metadata": {
        "colab": {
          "base_uri": "https://localhost:8080/",
          "height": 473
        },
        "id": "GxjG8shJHJzf",
        "outputId": "072ab26d-8cb8-4264-c227-e0d742239106"
      },
      "outputs": [],
      "source": [
        "y5 = [max_iterations_temp[temp] for temp in temperatures]\n",
        "\n",
        "plt.plot(x, y5, label='Nombre d\\'itérations maximum')\n",
        "plt.title('Nombre d\\'itérations max en fonction de la température')\n",
        "plt.xlabel('Température')\n",
        "plt.ylabel('Nb Itérations')\n",
        "plt.grid()\n",
        "plt.show()"
      ]
    },
    {
      "cell_type": "code",
      "execution_count": null,
      "metadata": {
        "colab": {
          "base_uri": "https://localhost:8080/",
          "height": 472
        },
        "id": "CHPkdcXXHJzf",
        "outputId": "c7b8dc3f-7bf0-430b-84c0-3ba6adc1ef27"
      },
      "outputs": [],
      "source": [
        "z5 = [max_iterations_CR[cr] for cr in cooling_rates]\n",
        "\n",
        "plt.plot(z, z5, label='Nombre d\\'itérations maximum')\n",
        "plt.title('Nombre d\\'itérations max en fonction du facteur de refroidissement')\n",
        "plt.xlabel('Facteur de refroidissement')\n",
        "plt.ylabel('Nb Itérations')\n",
        "plt.grid()\n",
        "plt.show()"
      ]
    },
    {
      "cell_type": "code",
      "execution_count": null,
      "metadata": {},
      "outputs": [],
      "source": [
        "import pandas as pd\n",
        "import os\n",
        "import matplotlib.pyplot as plt\n",
        "import seaborn as sns\n",
        "import statsmodels.api as sm\n",
        "\n",
        "def collecter_donnees_recuit(temp_list, cr_list, n, fichier):\n",
        "    donnees = []\n",
        "\n",
        "    for temp in temp_list:\n",
        "        for cr in cr_list:\n",
        "            file_name = f\"Resultats/Temp{temperature}_CR{cooling_rate}resultats_recuit_simule{n}_{fichier}.csv\"\n",
        "            \n",
        "            if os.path.exists(file_name):\n",
        "                try:\n",
        "                    df = pd.read_csv(file_name)\n",
        "                    if 'Nouveau profit' in df.columns:\n",
        "                        profit = df['Nouveau profit'].iloc[0]\n",
        "                        donnees.append({\n",
        "                            \"Température\": temp,\n",
        "                            \"CR\": cr,\n",
        "                            \"Profit max\": profit\n",
        "                        })\n",
        "                    else:\n",
        "                        print(f\"'profit_final' manquant dans {file_name}\")\n",
        "                except Exception as e:\n",
        "                    print(f\"Erreur de lecture {file_name} : {e}\")\n",
        "            else:\n",
        "                print(f\"Fichier introuvable : {file_name}\")\n",
        "\n",
        "    return pd.DataFrame(donnees)\n",
        "\n",
        "data_pi12_n100 = collecter_donnees_recuit(temperatures, cooling_rates, 10000, 13)\n",
        "print(data_pi12_n100)\n",
        "\n",
        "def tracer_regression_lineaire(df):\n",
        "    X = df[[\"Température\", \"CR\"]]\n",
        "    y = df[\"Profit max\"]\n",
        "\n",
        "    X = sm.add_constant(X)\n",
        "\n",
        "    # Régression linéaire\n",
        "    model = sm.OLS(y, X).fit()\n",
        "    print(model.summary())\n",
        "\n",
        "    # Extraction des coefficients\n",
        "    a = model.params[\"Température\"]\n",
        "    b = model.params[\"CR\"]\n",
        "    c = model.params[\"const\"]\n",
        "\n",
        "    print(f\"L'équation de régression linéaire est : Profit max = {a:.4f} * Température + {b:.4f} * CR + {c:.4f}\")\n",
        "\n",
        "    y_pred = model.predict(X)\n",
        "\n",
        "    plt.figure(figsize=(10, 6))\n",
        "    sns.scatterplot(data=df, x=\"Température\", y=\"Profit max\", hue=\"CR\", palette=\"viridis\", s=100)\n",
        "    sns.lineplot(x=df[\"Température\"], y=y_pred, color=\"red\", label=\"Régression linéaire (projection)\")\n",
        "    plt.title(\"Profit max en fonction de la température (CR en couleur)\")\n",
        "    plt.legend()\n",
        "    plt.grid()\n",
        "    plt.show()\n",
        "\n",
        "tracer_regression_lineaire(data_pi12_n100)\n"
      ]
    },
    {
      "cell_type": "code",
      "execution_count": null,
      "metadata": {
        "id": "yCIi7ms1HJzf"
      },
      "outputs": [],
      "source": [
        "import os\n",
        "import pandas as pd\n",
        "\n",
        "def find_optimal_solution(temperatures, cooling_rates, optimal_solution):\n",
        "    filenames = []\n",
        "    for temp in temperatures:\n",
        "        for cr in cooling_rates:\n",
        "            filename = f\"Resultats/Temp{temperature}_CR{cooling_rate}resultats_recuit_simule10000_13.csv\"\n",
        "            if os.path.exists(filename):\n",
        "                try:\n",
        "                    df = pd.read_csv(filename)\n",
        "                    if \"Nouvelle solution\" in df.columns:\n",
        "                        if optimal_solution in df[\"Nouvelle solution\"].values:\n",
        "                            filenames.append(filename)\n",
        "                except pd.errors.ParserError:\n",
        "                    print(f\"Warning: Could not parse file {filename}. Skipping.\")\n",
        "    return filenames"
      ]
    },
    {
      "cell_type": "code",
      "execution_count": null,
      "metadata": {
        "id": "8mrzn6xeHJzf"
      },
      "outputs": [],
      "source": [
        "def find_files_with_profit_and_weight(target_profit, target_weight, dossier=\"Resultats\"):\n",
        "    filenames = []\n",
        "    for filename in os.listdir(dossier):\n",
        "        if filename.startswith(\"Temp\") and filename.endswith(\"10000_13.csv\"):\n",
        "            full_path = os.path.join(dossier, filename)\n",
        "            try:\n",
        "                df = pd.read_csv(full_path)\n",
        "                if 'Nouveau profit' in df.columns and 'Nouveau Poids' in df.columns:\n",
        "                    match = (df['Nouveau profit'] == target_profit) & (df['Nouveau Poids'] == target_weight)\n",
        "                    if any(match):\n",
        "                        filenames.append(filename)\n",
        "            except pd.errors.ParserError:\n",
        "                print(f\"Fichier {filename} non retrouve.\")\n",
        "    return filenames\n"
      ]
    },
    {
      "cell_type": "code",
      "execution_count": null,
      "metadata": {
        "id": "uuhlGkvCHJzf"
      },
      "outputs": [],
      "source": [
        "fichier_optimal = find_optimal_solution(temperatures, cooling_rates, best_solution_str)\n",
        "\n",
        "if len(fichier_optimal) == 0:\n",
        "    print(\"Le recuit simulé n'a pas abouti à la solution optimale en termes de choix/répartition d'objets.\")\n",
        "else:\n",
        "    for f in fichier_optimal:\n",
        "        print(f)"
      ]
    },
    {
      "cell_type": "markdown",
      "metadata": {},
      "source": [
        "A éxecuter uniquement si le recuit simulé a pu donner la solution optimale "
      ]
    },
    {
      "cell_type": "code",
      "execution_count": null,
      "metadata": {
        "id": "OynajC1NHJzf"
      },
      "outputs": [],
      "source": [
        "found_files = find_files_with_profit_and_weight(target_profit, target_weight)\n",
        "for f in found_files:\n",
        "  print(f)"
      ]
    },
    {
      "cell_type": "code",
      "execution_count": null,
      "metadata": {
        "id": "q-8QnRBbHJzf"
      },
      "outputs": [],
      "source": [
        "def analyze_files(found_files):\n",
        "    temp_counts = {}\n",
        "    cr_counts = {}\n",
        "\n",
        "    for file in found_files:\n",
        "        try:\n",
        "            df = pd.read_csv(file)\n",
        "\n",
        "            # Extract temperature and cooling rate from the filename\n",
        "            parts = file.split(\"_\")\n",
        "            temp_str = parts[0].split(\"Temp\")[1]\n",
        "            cr_str = parts[1].split(\"CR\")[1].split(\"resultats\")[0]\n",
        "\n",
        "            temperature = int(temp_str)\n",
        "            cooling_rate = float(cr_str)\n",
        "\n",
        "            # Update counts\n",
        "            temp_counts[temperature] = temp_counts.get(temperature, 0) + 1\n",
        "            cr_counts[cooling_rate] = cr_counts.get(cooling_rate, 0) + 1\n",
        "\n",
        "        except FileNotFoundError:\n",
        "            print(f\"File not found: {file}\")\n",
        "        except (pd.errors.EmptyDataError, pd.errors.ParserError):\n",
        "            print(f\"Error reading file or empty file: {file}\")\n",
        "        except Exception as e:\n",
        "            print(f\"An unexpected error occurred with file {file}: {e}\")\n",
        "\n",
        "\n",
        "    return temp_counts, cr_counts"
      ]
    },
    {
      "cell_type": "code",
      "execution_count": null,
      "metadata": {
        "colab": {
          "base_uri": "https://localhost:8080/"
        },
        "id": "GyzxgPwMHJzf",
        "outputId": "7f47413b-dfc9-4d87-a803-15107ea510fa"
      },
      "outputs": [],
      "source": [
        "temp_dict, cr_dict = analyze_files(found_files)\n",
        "\n",
        "print(\"Temperature counts:\", temp_dict)\n",
        "print(\"Cooling rate counts:\", cr_dict)\n",
        "\n",
        "max_temps = max(temp_dict, key=temp_dict.get)\n",
        "print(\"La température optimale est:\", max_temps)\n",
        "max_crs = max(cr_dict, key=cr_dict.get)\n",
        "print(\"Le facteur de refroidissement optimal est:\", max_crs)"
      ]
    },
    {
      "cell_type": "markdown",
      "metadata": {
        "id": "BFzh06XCkkRU"
      },
      "source": [
        "#### Métaheuristique 2 - Génétique"
      ]
    },
    {
      "cell_type": "code",
      "execution_count": null,
      "metadata": {
        "id": "tIgiMlCLkkRU"
      },
      "outputs": [],
      "source": [
        "def roulette_selection(population, profits):\n",
        "    # Calcul du profit total pour la population\n",
        "    fitness = [calculate_profit(sol, profits) for sol in population]\n",
        "    total_fitness = sum(fitness)\n",
        "\n",
        "    # Si la fitness totale est 0, on retourne un choix aléatoire\n",
        "    if total_fitness == 0:\n",
        "        return random.choice(population)\n",
        "\n",
        "    # Sélection d'un parent par roulette\n",
        "    pick = random.uniform(0, total_fitness)\n",
        "    current = 0\n",
        "    for i, sol in enumerate(population):\n",
        "        current += fitness[i]\n",
        "        if current > pick:\n",
        "            return sol\n",
        "    return population[-1]  # Retourne le dernier si aucune sélection avant\n"
      ]
    },
    {
      "cell_type": "code",
      "execution_count": null,
      "metadata": {
        "id": "QNcLlUk9kkRU"
      },
      "outputs": [],
      "source": [
        "def crossover(nb_items, parent1, parent2, max_capacity, weights):\n",
        "    point = random.randint(1, nb_items - 1)\n",
        "    child1 = parent1[:point] + parent2[point:]\n",
        "    child2 = parent2[:point] + parent1[point:]\n",
        "\n",
        "    # Vérification si les enfants sont valides\n",
        "    if calculate_weight(child1, weights) > max_capacity:\n",
        "        child1 = parent1  # Si l'enfant dépasse la capacité, on garde le parent\n",
        "    if calculate_weight(child2, weights) > max_capacity:\n",
        "        child2 = parent2  # Idem pour l'autre enfant\n",
        "\n",
        "    return child1, child2\n"
      ]
    },
    {
      "cell_type": "code",
      "execution_count": null,
      "metadata": {
        "id": "KM9r_zSWkkRU"
      },
      "outputs": [],
      "source": [
        "def mutate(nb_items, max_capacity, weights, solution):\n",
        "    sol_list = list(solution)\n",
        "    index = random.randint(0, nb_items - 1)\n",
        "    sol_list[index] = \"1\" if sol_list[index] == \"0\" else \"0\"\n",
        "\n",
        "    # Vérification de la validité après mutation\n",
        "    new_sol = \"\".join(sol_list)\n",
        "    if calculate_weight(new_sol, weights) <= max_capacity:\n",
        "        return new_sol  # Retourner la solution si elle respecte la capacité\n",
        "    return solution  # Si la mutation rend la solution invalide, on garde l'ancienne solution\n"
      ]
    },
    {
      "cell_type": "code",
      "execution_count": null,
      "metadata": {
        "id": "qR-xs8C7kkRU"
      },
      "outputs": [],
      "source": [
        "import matplotlib.pyplot as plt\n",
        "\n",
        "def algo_genetique(\n",
        "      nb_items: int,\n",
        "      max_capacity: int,\n",
        "      weights: list,\n",
        "      profits: list,\n",
        "      nbPop: int,\n",
        "      nbGen: int,\n",
        "      probaCross: float,\n",
        "      nbBest: int\n",
        "    ):\n",
        "\n",
        "    # Initialisation de la population\n",
        "    population = [gen_valid_solution(max_capacity, weights, nb_items) for _ in range(nbPop)]\n",
        "    best_solution = max(population, key=lambda sol: calculate_profit(sol, profits))\n",
        "    best_profit = calculate_profit(best_solution, profits)\n",
        "\n",
        "    # Pour le graphique\n",
        "    evolution_profits = []\n",
        "    evolution_weights = []\n",
        "\n",
        "    for generation in range(nbGen):\n",
        "        new_population = []\n",
        "\n",
        "        # Sélection et reproduction\n",
        "        for _ in range(nbPop):\n",
        "            parent1 = roulette_selection(population, profits)\n",
        "            parent2 = roulette_selection(population, profits)\n",
        "\n",
        "            # Croisement ou mutation\n",
        "            if random.random() < probaCross:\n",
        "                child1, child2 = crossover(nb_items, parent1, parent2, max_capacity, weights)\n",
        "            else:\n",
        "                child1 = mutate(nb_items, max_capacity, weights, parent1)\n",
        "                child2 = mutate(nb_items, max_capacity, weights, parent2)\n",
        "\n",
        "            new_population.append(child1)\n",
        "            new_population.append(child2)\n",
        "\n",
        "        # Garder les meilleures solutions\n",
        "        population = sorted(new_population, key=lambda sol: calculate_profit(sol, profits), reverse=True)[:nbPop]\n",
        "\n",
        "        # Meilleure solution actuelle\n",
        "        current_best_solution = population[0]\n",
        "        current_best_profit = calculate_profit(current_best_solution, profits)\n",
        "        current_best_weight = calculate_weight(current_best_solution, weights)\n",
        "\n",
        "        # Enregistrer l’évolution\n",
        "        evolution_profits.append(current_best_profit)\n",
        "        evolution_weights.append(current_best_weight)\n",
        "\n",
        "        # Mettre à jour la meilleure globale\n",
        "        if current_best_profit > best_profit:\n",
        "            best_solution = current_best_solution\n",
        "            best_profit = current_best_profit\n",
        "\n",
        "    # Tracer l'évolution du profit et du poids\n",
        "    '''plt.figure(figsize=(12, 6))\n",
        "\n",
        "    # Tracer du profit au fil des itérations\n",
        "    plt.subplot(1, 2, 1)\n",
        "    plt.plot(evolution_profits, label='Profit', color='blue')\n",
        "    plt.title('Évolution du profit au fil des itérations')\n",
        "    plt.xlabel('Itérations')\n",
        "    plt.ylabel('Profit')\n",
        "    plt.grid(True)\n",
        "\n",
        "    # Tracer du poids au fil des itérations\n",
        "    plt.subplot(1, 2, 2)\n",
        "    plt.plot(evolution_weights, label='Poids', color='red')\n",
        "    plt.title('Évolution du poids au fil des itérations')\n",
        "    plt.xlabel('Itérations')\n",
        "    plt.ylabel('Poids')\n",
        "    plt.grid(True)\n",
        "\n",
        "    plt.tight_layout()\n",
        "    plt.show()'''\n",
        "\n",
        "    return best_solution, best_profit\n"
      ]
    },
    {
      "cell_type": "code",
      "execution_count": null,
      "metadata": {
        "colab": {
          "base_uri": "https://localhost:8080/"
        },
        "id": "s80dYcoJkkRU",
        "outputId": "cf25a476-b5e8-4e7b-eed0-7d1e199778fb"
      },
      "outputs": [],
      "source": [
        "nbPop = 10  # Taille de la population\n",
        "nbGen = 100  # Nombre de générations\n",
        "probaCross = 0.7  # Probabilité de croisement\n",
        "nbBest = 2  # Nombre de meilleures solutions conservées\n",
        "\n",
        "best_solution, best_profit = algo_genetique(nb_items_pi13_n10000, max_capacity_pi13_n10000, weights_pi13_n10000, profits_pi13_n10000, nbPop, nbGen, probaCross, nbBest)\n",
        "print(\"Meilleure solution trouvée :\", best_solution)\n",
        "print(\"Meilleur profit :\", best_profit)\n",
        "print(\"Poids atteind :\", calculate_weight(best_solution, weights_pi13_n1000))"
      ]
    },
    {
      "cell_type": "markdown",
      "metadata": {
        "id": "fGSGc7VekkRU"
      },
      "source": [
        "#### Tests"
      ]
    },
    {
      "cell_type": "code",
      "execution_count": null,
      "metadata": {
        "id": "GaLt__lKYUCn"
      },
      "outputs": [],
      "source": [
        "import pandas as pd\n",
        "import time\n",
        "import os\n",
        "\n",
        "def test_algo_genetique(nb_items, max_capacity, weights, profits, nbPop, nbGen, probaCross, nbBest):\n",
        "                    results = []\n",
        "                    \n",
        "                    # Générer une solution initiale valide\n",
        "                    initial_solution = gen_valid_solution(max_capacity, weights, nb_items)\n",
        "                    initial_profit = calculate_profit(initial_solution, profits)\n",
        "                    initial_weight = calculate_weight(initial_solution, weights)\n",
        "\n",
        "                    # Démarrer le chronomètre\n",
        "                    start_time = time.time()\n",
        "\n",
        "                    # Exécuter l'algorithme génétique\n",
        "                    best_solution, best_profit = algo_genetique(\n",
        "                        nb_items, max_capacity, weights, profits, nbPop, nbGen, probaCross, nbBest\n",
        "                    )\n",
        "\n",
        "                    # Arrêter le chronomètre\n",
        "                    end_time = time.time()\n",
        "                    execution_time = end_time - start_time  # Temps en secondes\n",
        "\n",
        "                    # Calculer le poids et le nombre d'objets de la meilleure solution\n",
        "                    best_weight = calculate_weight(best_solution, weights)\n",
        "                    nb_objects = sum(1 for i in range(len(best_solution)) if best_solution[i] == \"1\")\n",
        "\n",
        "                    # Enregistrement des résultats\n",
        "                    results.append({\n",
        "                        \"Solution initiale\": initial_solution,\n",
        "                        \"Profit initial\": initial_profit,\n",
        "                        \"Poids initial\": initial_weight,\n",
        "                        \"NbPop\": nbPop,\n",
        "                        \"NbGen\": nbGen,\n",
        "                        \"ProbaCross\": probaCross,\n",
        "                        \"NbBest\": nbBest,\n",
        "                        \"Nouvelle solution\": best_solution,\n",
        "                        \"Nouveau profit\": best_profit,\n",
        "                        \"Nouveau Poids\": best_weight,\n",
        "                        \"Nb objets\": nb_objects,\n",
        "                        \"Temps (s)\": execution_time\n",
        "                    })\n",
        "\n",
        "                    # Convertir en DataFrame et sauvegarder le fichier\n",
        "                    df = pd.DataFrame(results)\n",
        "                    return df\n",
        "                \n"
      ]
    },
    {
      "cell_type": "code",
      "execution_count": null,
      "metadata": {
        "id": "EWVzggHEYUCn"
      },
      "outputs": [],
      "source": [
        "# Fixer un interval pour les paramètres\n",
        "\n",
        "nbPop_list = [10, 50, 70, 100]\n",
        "nbGen_list = [10, 50, 70, 100]\n",
        "probaCross_list = [0.1, 0.5, 0.9]\n",
        "nbBest_list = [2, 5]\n",
        "\n",
        "# Code pour effectuer des tests: attention, ce code prend ~250 minutes pour s'executer\n",
        "'''\n",
        "for nbPop in nbPop_list:\n",
        "    for nbGen in nbGen_list:\n",
        "        for probaCross in probaCross_list:\n",
        "            for nbBest in nbBest_list:\n",
        "                print(f\"NbPop {nbPop}\\nNbGen {nbGen}\\nProbaCross {probaCross}\\nNbBest {nbBest}\")\n",
        "                test = test_algo_genetique(nb_items_pi13_n10000, max_capacity_pi13_n10000, weights_pi13_n10000, profits_pi13_n10000, nbPop, nbGen, probaCross, nbBest)\n",
        "                test.to_csv(f\"Resultats/NbPop{nbPop}_NbGen{nbGen}_ProbaCross{probaCross}_NbBest{nbBest}_resultats_algo_genetique10000_13.csv\", index=False)\n",
        "'''"
      ]
    },
    {
      "cell_type": "code",
      "execution_count": null,
      "metadata": {
        "id": "yUC87HL1YUCn"
      },
      "outputs": [],
      "source": [
        "def extract_max_profit_from_probaCross(nbPop_list, nbGen_list, probaCross_list, nbBest_list):\n",
        "    max_profits = {}\n",
        "\n",
        "    for probaCross in probaCross_list:\n",
        "        max_profit = float('-inf')\n",
        "\n",
        "        for nbPop in nbPop_list:\n",
        "            for nbGen in nbGen_list:\n",
        "                for nbBest in nbBest_list:\n",
        "                    file_name = f\"Resultats/NbPop{nbPop}_NbGen{nbGen}_ProbaCross{probaCross}_NbBest{nbBest}_resultats_algo_genetique10000_13.csv\"\n",
        "\n",
        "                    if os.path.exists(file_name):\n",
        "                        df = pd.read_csv(file_name)\n",
        "                        max_profit = max(max_profit, df[\"Nouveau profit\"].max())\n",
        "                    else:\n",
        "                        print(f\"Fichier manquant: {file_name}\")\n",
        "\n",
        "        max_profits[probaCross] = max_profit\n",
        "\n",
        "    return max_profits"
      ]
    },
    {
      "cell_type": "code",
      "execution_count": null,
      "metadata": {
        "id": "Da6uP2hOYUCn"
      },
      "outputs": [],
      "source": [
        "def extract_min_weight_from_probaCross(nbPop_list, nbGen_list, probaCross_list, nbBest_list):\n",
        "    min_weights = {}\n",
        "\n",
        "    for probaCross in probaCross_list:\n",
        "        min_weight = float('inf')\n",
        "\n",
        "        for nbPop in nbPop_list:\n",
        "            for nbGen in nbGen_list:\n",
        "                for nbBest in nbBest_list:\n",
        "                    file_name = f\"Resultats/NbPop{nbPop}_NbGen{nbGen}_ProbaCross{probaCross}_NbBest{nbBest}_resultats_algo_genetique10000_13.csv\"\n",
        "\n",
        "                    if os.path.exists(file_name):\n",
        "                        df = pd.read_csv(file_name)\n",
        "                        min_weight = min(min_weight, df[\"Nouveau Poids\"].min())\n",
        "                    else:\n",
        "                        print(f\"Fichier manquant: {file_name}\")\n",
        "\n",
        "        min_weights[probaCross] = min_weight\n",
        "\n",
        "    return min_weights\n"
      ]
    },
    {
      "cell_type": "code",
      "execution_count": null,
      "metadata": {
        "colab": {
          "base_uri": "https://localhost:8080/"
        },
        "id": "FZyKi2YnYUCn",
        "outputId": "727d26ed-cce3-4258-9969-f9ce64a9ea28"
      },
      "outputs": [],
      "source": [
        "max_profits_probaCross = extract_max_profit_from_probaCross(nbPop_list, nbGen_list, probaCross_list, nbBest_list)\n",
        "print(max_profits_probaCross)"
      ]
    },
    {
      "cell_type": "code",
      "execution_count": null,
      "metadata": {
        "colab": {
          "base_uri": "https://localhost:8080/"
        },
        "id": "_p_6THLdYUCn",
        "outputId": "52d76ead-5eef-423e-a49c-d50576392316"
      },
      "outputs": [],
      "source": [
        "min_weights_probaCross = extract_min_weight_from_probaCross(nbPop_list, nbGen_list, probaCross_list, nbBest_list)\n",
        "print(min_weights_probaCross)"
      ]
    },
    {
      "cell_type": "code",
      "execution_count": null,
      "metadata": {
        "id": "fQUMRbZ8YUCn"
      },
      "outputs": [],
      "source": [
        "def extract_max_profit_from_nbGen(nbPop_list, nbGen_list, probaCross_list, nbBest_list):\n",
        "    max_profits = {}\n",
        "\n",
        "    for nbGen in nbGen_list:\n",
        "        max_profit = float('-inf')\n",
        "\n",
        "        for nbPop in nbPop_list:\n",
        "            for probaCross in probaCross_list:\n",
        "                for nbBest in nbBest_list:\n",
        "                    file_name = f\"Resultats/NbPop{nbPop}_NbGen{nbGen}_ProbaCross{probaCross}_NbBest{nbBest}_resultats_algo_genetique10000_13.csv\"\n",
        "\n",
        "                    if os.path.exists(file_name):\n",
        "                        df = pd.read_csv(file_name)\n",
        "                        max_profit = max(max_profit, df[\"Nouveau profit\"].max())\n",
        "                    else:\n",
        "                        print(f\"Fichier manquant: {file_name}\")\n",
        "\n",
        "        max_profits[nbGen] = max_profit\n",
        "\n",
        "    return max_profits\n"
      ]
    },
    {
      "cell_type": "code",
      "execution_count": null,
      "metadata": {
        "id": "QWao1A1VYUCo"
      },
      "outputs": [],
      "source": [
        "def extract_min_weight_from_nbGen(nbPop_list, nbGen_list, probaCross_list, nbBest_list):\n",
        "    min_weights = {}\n",
        "\n",
        "    for nbGen in nbGen_list:\n",
        "        min_weight = float('inf')\n",
        "\n",
        "        for nbPop in nbPop_list:\n",
        "            for probaCross in probaCross_list:\n",
        "                for nbBest in nbBest_list:\n",
        "                    file_name = f\"Resultats/NbPop{nbPop}_NbGen{nbGen}_ProbaCross{probaCross}_NbBest{nbBest}_resultats_algo_genetique10000_13.csv\"\n",
        "\n",
        "                    if os.path.exists(file_name):\n",
        "                        df = pd.read_csv(file_name)\n",
        "                        min_weight = min(min_weight, df[\"Nouveau Poids\"].min())\n",
        "                    else:\n",
        "                        print(f\"Fichier manquant: {file_name}\")\n",
        "\n",
        "        min_weights[nbGen] = min_weight\n",
        "\n",
        "    return min_weights"
      ]
    },
    {
      "cell_type": "code",
      "execution_count": null,
      "metadata": {
        "colab": {
          "base_uri": "https://localhost:8080/"
        },
        "id": "3kd2rSj6YUCo",
        "outputId": "bfc2a143-1172-4a1f-94a5-982d039ed4e9"
      },
      "outputs": [],
      "source": [
        "max_profits_nbGen = extract_max_profit_from_nbGen(nbPop_list, nbGen_list, probaCross_list, nbBest_list)\n",
        "print(max_profits_nbGen)"
      ]
    },
    {
      "cell_type": "code",
      "execution_count": null,
      "metadata": {
        "colab": {
          "base_uri": "https://localhost:8080/"
        },
        "id": "RVYiJ_UeYUCo",
        "outputId": "8dac508a-a36e-494b-a73d-f04fa186be39"
      },
      "outputs": [],
      "source": [
        "min_weights_nbGen = extract_min_weight_from_nbGen(nbPop_list, nbGen_list, probaCross_list, nbBest_list)\n",
        "print(min_weights_nbGen)"
      ]
    },
    {
      "cell_type": "code",
      "execution_count": null,
      "metadata": {
        "id": "_uu9j6ryYUCo"
      },
      "outputs": [],
      "source": [
        "def extract_max_profit_from_nbBest(nbPop_list, nbGen_list, probaCross_list, nbBest_list):\n",
        "    max_profits = {}\n",
        "\n",
        "    for nbBest in nbBest_list:\n",
        "        max_profit = float('-inf')\n",
        "\n",
        "        for nbPop in nbPop_list:\n",
        "            for nbGen in nbGen_list:\n",
        "                for probaCross in probaCross_list:\n",
        "                    file_name = f\"Resultats/NbPop{nbPop}_NbGen{nbGen}_ProbaCross{probaCross}_NbBest{nbBest}_resultats_algo_genetique10000_13.csv\"\n",
        "\n",
        "                    if os.path.exists(file_name):\n",
        "                        df = pd.read_csv(file_name)\n",
        "                        max_profit = max(max_profit, df[\"Nouveau profit\"].max())\n",
        "                    else:\n",
        "                        print(f\"Fichier manquant: {file_name}\")\n",
        "\n",
        "        max_profits[nbBest] = max_profit\n",
        "\n",
        "    return max_profits"
      ]
    },
    {
      "cell_type": "code",
      "execution_count": null,
      "metadata": {
        "id": "LMXfYFqkYUCo"
      },
      "outputs": [],
      "source": [
        "def extract_min_weight_from_nbBest(nbPop_list, nbGen_list, probaCross_list, nbBest_list):\n",
        "    min_weights = {}\n",
        "\n",
        "    for nbBest in nbBest_list:\n",
        "        min_weight = float('inf')\n",
        "\n",
        "        for nbPop in nbPop_list:\n",
        "            for nbGen in nbGen_list:\n",
        "                for probaCross in probaCross_list:\n",
        "                    file_name = f\"Resultats/NbPop{nbPop}_NbGen{nbGen}_ProbaCross{probaCross}_NbBest{nbBest}_resultats_algo_genetique10000_13.csv\"\n",
        "\n",
        "                    if os.path.exists(file_name):\n",
        "                        df = pd.read_csv(file_name)\n",
        "                        min_weight = min(min_weight, df[\"Nouveau Poids\"].min())\n",
        "                    else:\n",
        "                        print(f\"Fichier manquant: {file_name}\")\n",
        "\n",
        "        min_weights[nbBest] = min_weight\n",
        "\n",
        "    return min_weights"
      ]
    },
    {
      "cell_type": "code",
      "execution_count": null,
      "metadata": {
        "colab": {
          "base_uri": "https://localhost:8080/"
        },
        "id": "qdnL51UiYUCo",
        "outputId": "0a67f201-a107-4da1-d834-570993af5b8a"
      },
      "outputs": [],
      "source": [
        "max_profits_nbBest = extract_max_profit_from_nbBest(nbPop_list, nbGen_list, probaCross_list, nbBest_list)\n",
        "print(max_profits_nbBest)"
      ]
    },
    {
      "cell_type": "code",
      "execution_count": null,
      "metadata": {
        "colab": {
          "base_uri": "https://localhost:8080/"
        },
        "id": "8i-l3Wl-YUCo",
        "outputId": "d03f8e74-b90d-4955-b8bd-58eb9ae5a651"
      },
      "outputs": [],
      "source": [
        "min_weights_nbBest = extract_min_weight_from_nbBest(nbPop_list, nbGen_list, probaCross_list, nbBest_list)\n",
        "print(min_weights_nbBest)"
      ]
    },
    {
      "cell_type": "code",
      "execution_count": null,
      "metadata": {
        "id": "NYmhES_eYUCo"
      },
      "outputs": [],
      "source": [
        "def extract_max_profit_from_nbPop(nbPop_list, nbGen_list, probaCross_list, nbBest_list):\n",
        "    max_profits = {}\n",
        "\n",
        "    for nbPop in nbPop_list:\n",
        "        max_profit = float('-inf')\n",
        "\n",
        "        for nbGen in nbGen_list:\n",
        "            for probaCross in probaCross_list:\n",
        "                for nbBest in nbBest_list:\n",
        "                    file_name = f\"Resultats/NbPop{nbPop}_NbGen{nbGen}_ProbaCross{probaCross}_NbBest{nbBest}_resultats_algo_genetique10000_13.csv\"\n",
        "\n",
        "                    if os.path.exists(file_name):\n",
        "                        df = pd.read_csv(file_name)\n",
        "                        max_profit = max(max_profit, df[\"Nouveau profit\"].max())\n",
        "                    else:\n",
        "                        print(f\"Fichier manquant: {file_name}\")\n",
        "\n",
        "        max_profits[nbPop] = max_profit\n",
        "\n",
        "    return max_profits"
      ]
    },
    {
      "cell_type": "code",
      "execution_count": null,
      "metadata": {
        "id": "_q-AZGQWYUCo"
      },
      "outputs": [],
      "source": [
        "def extract_min_weight_from_nbPop(nbPop_list, nbGen_list, probaCross_list, nbBest_list):\n",
        "    min_weights = {}\n",
        "\n",
        "    for nbPop in nbPop_list:\n",
        "        min_weight = float('inf')\n",
        "\n",
        "        for nbGen in nbGen_list:\n",
        "            for probaCross in probaCross_list:\n",
        "                for nbBest in nbBest_list:\n",
        "                    file_name = f\"Resultats/NbPop{nbPop}_NbGen{nbGen}_ProbaCross{probaCross}_NbBest{nbBest}_resultats_algo_genetique10000_13.csv\"\n",
        "\n",
        "                    if os.path.exists(file_name):\n",
        "                        df = pd.read_csv(file_name)\n",
        "                        min_weight = min(min_weight, df[\"Nouveau Poids\"].min())\n",
        "                    else:\n",
        "                        print(f\"Fichier manquant: {file_name}\")\n",
        "\n",
        "        min_weights[nbPop] = min_weight\n",
        "\n",
        "    return min_weights"
      ]
    },
    {
      "cell_type": "code",
      "execution_count": null,
      "metadata": {
        "colab": {
          "base_uri": "https://localhost:8080/"
        },
        "id": "sVnwCIK8YUCo",
        "outputId": "ca9ad02d-61e3-4691-9085-1e89755d326e"
      },
      "outputs": [],
      "source": [
        "max_profits_nbPop = extract_max_profit_from_nbPop(nbPop_list, nbGen_list, probaCross_list, nbBest_list)\n",
        "print(max_profits_nbPop)"
      ]
    },
    {
      "cell_type": "code",
      "execution_count": null,
      "metadata": {
        "colab": {
          "base_uri": "https://localhost:8080/"
        },
        "id": "UNlQuI64YUCo",
        "outputId": "35f68911-702d-4b59-8889-dc8f1ed6da85"
      },
      "outputs": [],
      "source": [
        "min_weights_nbPop = extract_min_weight_from_nbPop(nbPop_list, nbGen_list, probaCross_list, nbBest_list)\n",
        "print(min_weights_nbPop)"
      ]
    },
    {
      "cell_type": "code",
      "execution_count": null,
      "metadata": {},
      "outputs": [],
      "source": [
        "y = probaCross_list\n",
        "y1 = [max_profits_probaCross[i] for i in y]\n",
        "y2 = [min_weights_probaCross[i] for i in y]\n",
        "\n",
        "plt.plot(y, y1, label='Meilleur profit')\n",
        "plt.plot(y, y2, label='Poids minimum')\n",
        "plt.xlabel('ProbaCross')\n",
        "plt.ylabel('Profit/Poids')\n",
        "plt.title('Profit max et poids min en fonction de ProbaCross')\n",
        "plt.legend()\n",
        "plt.grid()\n",
        "plt.show()"
      ]
    },
    {
      "cell_type": "code",
      "execution_count": null,
      "metadata": {},
      "outputs": [],
      "source": [
        "z = nbGen_list\n",
        "z1 = [max_profits_nbGen[i] for i in z]\n",
        "z2 = [min_weights_nbGen[i] for i in z]\n",
        "\n",
        "plt.plot(z, z1, label='Meilleur profit')\n",
        "plt.plot(z, z2, label='Poids minimum')\n",
        "plt.xlabel('NbGen')\n",
        "plt.ylabel('Profit/Poids')\n",
        "plt.title('Profit max et poids min en fonction de NbGen')\n",
        "plt.legend()\n",
        "plt.grid()\n",
        "plt.show()"
      ]
    },
    {
      "cell_type": "code",
      "execution_count": null,
      "metadata": {},
      "outputs": [],
      "source": [
        "k = nbBest_list\n",
        "k1 = [max_profits_nbBest[i] for i in k]\n",
        "k2 = [min_weights_nbBest[i] for i in k]\n",
        "\n",
        "plt.plot(k, k1, label='Meilleur profit')\n",
        "plt.plot(k, k2, label='Poids minimum')\n",
        "plt.xlabel('NbBest')\n",
        "plt.ylabel('Profit/Poids')\n",
        "plt.title('Profit max et poids min en fonction de NbBest')\n",
        "plt.legend()\n",
        "plt.grid()\n",
        "plt.show()"
      ]
    },
    {
      "cell_type": "code",
      "execution_count": null,
      "metadata": {},
      "outputs": [],
      "source": [
        "x = nbPop_list\n",
        "x1 = [max_profits_nbPop[i] for i in x]\n",
        "x2 = [min_weights_nbPop[i] for i in x]\n",
        "\n",
        "plt.plot(x, x1, label='Meilleur profit')\n",
        "plt.plot(x, x2, label='Poids minimum')\n",
        "plt.xlabel('NbPop')\n",
        "plt.ylabel('Profit/Poids')\n",
        "plt.title('Profit max et poids min en fonction de NbPop')\n",
        "plt.legend()\n",
        "plt.grid()\n",
        "plt.show()"
      ]
    },
    {
      "cell_type": "code",
      "execution_count": null,
      "metadata": {
        "id": "fuIw6XTVYUCo"
      },
      "outputs": [],
      "source": [
        "def find_optimal_solution(nbPop_list, nbGen_list, probaCross_list, nbBest_list, optimal_solution):\n",
        "\n",
        "    filenames = []\n",
        "    for nbPop in nbPop_list:\n",
        "        for nbGen in nbGen_list:\n",
        "          for probaCross in probaCross_list:\n",
        "            for nbBest in nbBest_list:\n",
        "                filename = f\"Resultats/NbPop{nbPop}_NbGen{nbGen}_ProbaCross{probaCross}_NbBest{nbBest}_resultats_algo_genetique10000_13.csv\"\n",
        "                if os.path.exists(filename):\n",
        "                    try:\n",
        "                        df = pd.read_csv(filename)\n",
        "                        if optimal_solution in df[\"Nouvelle solution\"].values:\n",
        "                            filenames.append(filename)\n",
        "                    except pd.errors.ParserError:\n",
        "                        print(f\"Warning: Could not parse file {filename}. Skipping.\")\n",
        "                else:\n",
        "                    print(f\"Fichier manquant: {filename}\")\n",
        "\n",
        "    return filenames\n"
      ]
    },
    {
      "cell_type": "code",
      "execution_count": null,
      "metadata": {
        "id": "H6nRDMoNYUCo"
      },
      "outputs": [],
      "source": [
        "def find_files_with_profit_and_weight(target_profit, target_weight, dossier=\"Resultats\"):\n",
        "    filenames = []\n",
        "\n",
        "    for filename in os.listdir(dossier):\n",
        "        if filename.startswith(\"NbPop\") and filename.endswith(\".csv\"):\n",
        "            filepath = os.path.join(dossier, filename)\n",
        "            try:\n",
        "                df = pd.read_csv(filepath)\n",
        "\n",
        "                if 'Nouveau profit' in df.columns and 'Nouveau Poids' in df.columns:\n",
        "                    condition = (df['Nouveau profit'] == target_profit) & (df['Nouveau Poids'] == target_weight)\n",
        "                    if any(condition):\n",
        "                        filenames.append(filename)\n",
        "            except Exception as e:\n",
        "                print(f\"Erreur avec le fichier {filename}: {e}\")\n",
        "\n",
        "    return filenames\n"
      ]
    },
    {
      "cell_type": "code",
      "execution_count": null,
      "metadata": {
        "id": "gXJmTTFXYUCo"
      },
      "outputs": [],
      "source": [
        "fichier_optimal = find_optimal_solution(nbPop_list, nbGen_list, probaCross_list, nbBest_list, best_solution_str)\n",
        "for f in fichier_optimal:\n",
        "  print(f) #aucun fichier contient la solution optimale en termes de choix d'objets"
      ]
    },
    {
      "cell_type": "markdown",
      "metadata": {},
      "source": [
        "A executer uniquement si le resultat precedent n'est pas nul"
      ]
    },
    {
      "cell_type": "code",
      "execution_count": null,
      "metadata": {
        "colab": {
          "base_uri": "https://localhost:8080/"
        },
        "id": "oR-S4Y93YUCo",
        "outputId": "048b7188-fbd2-4be8-eabd-c2665ec76098"
      },
      "outputs": [],
      "source": [
        "print(target_profit)\n",
        "print(target_weight)\n",
        "found_files = find_files_with_profit_and_weight(target_profit, target_weight)\n",
        "for f in found_files:\n",
        "  print(f)"
      ]
    },
    {
      "cell_type": "code",
      "execution_count": null,
      "metadata": {
        "id": "3m336M2sYUCp"
      },
      "outputs": [],
      "source": [
        "def analyze_files(found_files):\n",
        "    nbPop_counts = {}\n",
        "    nbGen_counts = {}\n",
        "    probaCross_counts = {}\n",
        "    nbBest_counts = {}\n",
        "\n",
        "    for file in found_files:\n",
        "      try:\n",
        "          df = pd.read_csv(file)\n",
        "\n",
        "          parts = file.split(\"_\")\n",
        "\n",
        "          pop_str = parts[0].split(\"NbPop\")[1]\n",
        "          nbPop_counts[int(pop_str)] = nbPop_counts.get(int(pop_str), 0) + 1\n",
        "\n",
        "          gen_str = parts[1].split(\"NbGen\")[1]\n",
        "          nbGen_counts[int(gen_str)] = nbGen_counts.get(int(gen_str), 0) + 1\n",
        "\n",
        "          probaCross_str = parts[2].split(\"ProbaCross\")[1]\n",
        "          probaCross_counts[float(probaCross_str)] = probaCross_counts.get(float(probaCross_str), 0) + 1\n",
        "\n",
        "          best_str = parts[3].split(\"NbBest\")[1]\n",
        "          nbBest_counts[int(best_str)] = nbBest_counts.get(int(best_str), 0) + 1\n",
        "      except pd.errors.ParserError:\n",
        "          print(f\"Fichier {file} non retrouve.\")\n",
        "\n",
        "    return nbPop_counts, nbGen_counts, probaCross_counts, nbBest_counts"
      ]
    },
    {
      "cell_type": "code",
      "execution_count": null,
      "metadata": {
        "colab": {
          "base_uri": "https://localhost:8080/",
          "height": 211
        },
        "id": "XtAaZ_9kYUCp",
        "outputId": "ff0cfe1a-54d4-4b12-9f30-2fe17a57efa4"
      },
      "outputs": [],
      "source": [
        "nbPop_dict, nbGen_dict, probaCross_dict, nbBest_dict = analyze_files(found_files)\n",
        "print(nbPop_dict)\n",
        "print(nbGen_dict)\n",
        "print(probaCross_dict)\n",
        "print(nbBest_dict)\n",
        "\n",
        "max_nbPop = max(nbPop_dict, key=nbPop_dict.get)\n",
        "print(\"Le nombre de population optimal est:\", max_nbPop)\n",
        "max_nbGen = max(nbGen_dict, key=nbGen_dict.get)\n",
        "print(\"Le nombre de génération optimal est:\", max_nbGen)\n",
        "max_probaCross = max(probaCross_dict, key=probaCross_dict.get)\n",
        "print(\"La probabilité de croisement optimale est:\", max_probaCross)\n",
        "max_nbBest = max(nbBest_dict, key=nbBest_dict.get)\n",
        "print(\"Le nombre de meilleures solutions optimal est:\", max_nbBest)\n",
        "\n"
      ]
    },
    {
      "cell_type": "markdown",
      "metadata": {},
      "source": [
        "## Temps"
      ]
    },
    {
      "cell_type": "code",
      "execution_count": null,
      "metadata": {},
      "outputs": [],
      "source": [
        "import glob\n",
        "import pandas as pd\n",
        "import os\n",
        "\n",
        "n_values=[100, 1000, 10000]\n",
        "\n",
        "def calculer_moyenne_temps_par_n_recuit(n_values):\n",
        "    # Dictionnaire pour stocker les moyennes pour chaque n\n",
        "    moyennes_temps = {}\n",
        "\n",
        "    # Parcourir les valeurs de n (100, 1000, 10000)\n",
        "    for n in n_values:\n",
        "        temps_list = []\n",
        "\n",
        "        file_name = f\"Resultats/*resultats_recuit_simule{n}_13.csv\"\n",
        "\n",
        "        # Trouver tous les fichiers correspondant au pattern\n",
        "        for file in glob.glob(file_name):\n",
        "                try:\n",
        "                    df = pd.read_csv(file)\n",
        "                    # Si la colonne 'Temps (s)' existe dans le fichier\n",
        "                    if 'Temps (s)' in df.columns:\n",
        "                        temps_list.append(df['Temps (s)'].mean())\n",
        "                    else:\n",
        "                        print(f\"La colonne 'Temps (s)' est absente dans {file}.\")\n",
        "                except Exception as e:\n",
        "                    print(f\"Erreur lors de la lecture du fichier {file}: {e}\")\n",
        "\n",
        "        # Calcul de la moyenne pour chaque n\n",
        "        if temps_list:\n",
        "            moyennes_temps[n] = sum(temps_list) / len(temps_list)\n",
        "        else:\n",
        "            moyennes_temps[n] = None\n",
        "\n",
        "    return moyennes_temps\n",
        "\n",
        "moyennes_recuit = calculer_moyenne_temps_par_n_recuit(n_values)\n",
        "temps_meta_recuit = list(moyennes_recuit.values())\n",
        "print(f\"Moyennes des temps pour chaque n: {temps_meta_recuit}\")\n",
        "print(f\"Moyenne des temps avec le solver: {temps_solver}\")"
      ]
    },
    {
      "cell_type": "code",
      "execution_count": null,
      "metadata": {},
      "outputs": [],
      "source": [
        "import glob\n",
        "import pandas as pd\n",
        "import os\n",
        "\n",
        "n_values=[100, 1000, 10000]\n",
        "\n",
        "def calculer_moyenne_temps_par_n_gen(n_values):\n",
        "    # Dictionnaire pour stocker les moyennes pour chaque n\n",
        "    moyennes_temps = {}\n",
        "\n",
        "    # Parcourir les valeurs de n (100, 1000, 10000)\n",
        "    for n in n_values:\n",
        "        temps_list = []\n",
        "\n",
        "        file_name = f\"Resultats/*_resultats_algo_genetique{n}_13.csv\"\n",
        "\n",
        "        # Trouver tous les fichiers correspondant au pattern\n",
        "        for file in glob.glob(file_name):\n",
        "                try:\n",
        "                    df = pd.read_csv(file)\n",
        "                    # Si la colonne 'Temps (s)' existe dans le fichier\n",
        "                    if 'Temps (s)' in df.columns:\n",
        "                        temps_list.append(df['Temps (s)'].mean())\n",
        "                    else:\n",
        "                        print(f\"La colonne 'Temps (s)' est absente dans {file}.\")\n",
        "                except Exception as e:\n",
        "                    print(f\"Erreur lors de la lecture du fichier {file}: {e}\")\n",
        "\n",
        "        # Calcul de la moyenne pour chaque n\n",
        "        if temps_list:\n",
        "            moyennes_temps[n] = sum(temps_list) / len(temps_list)\n",
        "        else:\n",
        "            moyennes_temps[n] = None\n",
        "\n",
        "    return moyennes_temps\n",
        "\n",
        "moyennes_gen = calculer_moyenne_temps_par_n_gen(n_values)\n",
        "temps_meta_gen = list(moyennes_gen.values())\n",
        "print(f\"Moyennes des temps pour chaque n - recuit simule - pi12: {temps_meta_recuit}\")\n",
        "print(f\"Moyennes des temps pour chaque n - algo genetique - pi12: {temps_meta_gen}\")\n",
        "print(f\"Moyenne des temps avec le solver: {temps_solver}\")"
      ]
    },
    {
      "cell_type": "code",
      "execution_count": null,
      "metadata": {},
      "outputs": [],
      "source": [
        "!pip install -q scipy"
      ]
    },
    {
      "cell_type": "code",
      "execution_count": null,
      "metadata": {},
      "outputs": [],
      "source": [
        "import matplotlib.pyplot as plt\n",
        "from scipy.stats import linregress\n",
        "\n",
        "# Régression linéaire pour recuit simulé\n",
        "slope_meta1, intercept_meta1, _, _, _ = linregress(n_values, temps_meta_recuit)\n",
        "line_meta1 = [slope_meta1 * n + intercept_meta1 for n in n_values]\n",
        "eq_meta1 = f\"y = {slope_meta1:.4f}n + {intercept_meta1:.4f}\"\n",
        "\n",
        "# Régression linéaire pour algo génétique\n",
        "slope_meta2, intercept_meta2, _, _, _ = linregress(n_values, temps_meta_gen)\n",
        "line_meta2 = [slope_meta2 * n + intercept_meta2 for n in n_values]\n",
        "eq_meta2 = f\"y = {slope_meta2:.4f}n + {intercept_meta2:.4f}\"\n",
        "\n",
        "# Régression linéaire pour solver\n",
        "slope_solver, intercept_solver, _, _, _ = linregress(n_values, temps_solver)\n",
        "line_solver = [slope_solver * n + intercept_solver for n in n_values]\n",
        "eq_solver = f\"y = {slope_solver:.4f}n + {intercept_solver:.4f}\"\n",
        "\n",
        "# Création des subplots\n",
        "fig, axs = plt.subplots(1, 3, figsize=(18, 5))\n",
        "\n",
        "# Subplot 1 : Recuit simulé\n",
        "axs[0].plot(n_values, temps_meta_recuit, 'o-', label=\"Données\")\n",
        "axs[0].plot(n_values, line_meta1, 'r--', label=eq_meta1)\n",
        "axs[0].set_title(\"Recuit simulé - pi13\")\n",
        "axs[0].set_xlabel(\"Taille de la solution (n)\")\n",
        "axs[0].set_ylabel(\"Temps moyen (s)\")\n",
        "axs[0].legend()\n",
        "axs[0].grid()\n",
        "\n",
        "# Subplot 2 : Algorithme génétique\n",
        "axs[1].plot(n_values, temps_meta_gen, 'o-', label=\"Données\")\n",
        "axs[1].plot(n_values, line_meta2, 'r--', label=eq_meta2)\n",
        "axs[1].set_title(\"Algorithme génétique - pi13\")\n",
        "axs[1].set_xlabel(\"Taille de la solution (n)\")\n",
        "axs[1].set_ylabel(\"Temps moyen (s)\")\n",
        "axs[1].legend()\n",
        "axs[1].grid()\n",
        "\n",
        "# Subplot 3 : Solver\n",
        "axs[2].plot(n_values, temps_solver, 'o-', label=\"Données\")\n",
        "axs[2].plot(n_values, line_solver, 'g--', label=eq_solver)\n",
        "axs[2].set_title(\"Solver - pi13\")\n",
        "axs[2].set_xlabel(\"Taille de la solution (n)\")\n",
        "axs[2].set_ylabel(\"Temps moyen (s)\")\n",
        "axs[2].legend()\n",
        "axs[2].grid()\n",
        "\n",
        "plt.tight_layout()\n",
        "plt.show()\n"
      ]
    }
  ],
  "metadata": {
    "colab": {
      "collapsed_sections": [
        "Qb8vBP6MTj7e",
        "wQiZHffaEaMs",
        "y_vq_Hw4_JuM",
        "giGNjDYAACk6",
        "AjhhvCRBZ3Vr",
        "oVoF6OXUZ3Vs",
        "Gj8YkWvKc-_K",
        "sxGfnaM5c-_L",
        "Nxr7yKBPkkRS",
        "SVZgHxqYkkRT"
      ],
      "provenance": []
    },
    "kernelspec": {
      "display_name": "base",
      "language": "python",
      "name": "python3"
    },
    "language_info": {
      "codemirror_mode": {
        "name": "ipython",
        "version": 3
      },
      "file_extension": ".py",
      "mimetype": "text/x-python",
      "name": "python",
      "nbconvert_exporter": "python",
      "pygments_lexer": "ipython3",
      "version": "3.12.7"
    }
  },
  "nbformat": 4,
  "nbformat_minor": 0
}
